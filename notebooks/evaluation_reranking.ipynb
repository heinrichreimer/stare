{
 "cells": [
  {
   "cell_type": "code",
   "execution_count": 1,
   "metadata": {
    "collapsed": false,
    "tags": [],
    "ExecuteTime": {
     "end_time": "2023-09-07T18:19:30.484947287Z",
     "start_time": "2023-09-07T18:19:30.364146770Z"
    }
   },
   "outputs": [],
   "source": [
    "from math import nan\n",
    "from re import compile\n",
    "\n",
    "from numpy import arange, array_equal\n",
    "from pandas import read_csv, DataFrame, concat, Series, isna\n",
    "from pingouin import ttest\n",
    "from seaborn import lineplot, FacetGrid, set_theme"
   ]
  },
  {
   "cell_type": "code",
   "execution_count": 2,
   "metadata": {
    "collapsed": false,
    "tags": [],
    "ExecuteTime": {
     "end_time": "2023-09-07T18:19:30.503404488Z",
     "start_time": "2023-09-07T18:19:30.486612188Z"
    }
   },
   "outputs": [
    {
     "data": {
      "text/plain": "           name      display_name  maximize\n0   nDCG@5 rel.  nDCG@5 relevance      True\n1  nDCG@5 qual.    nDCG@5 quality      True",
      "text/html": "<div>\n<style scoped>\n    .dataframe tbody tr th:only-of-type {\n        vertical-align: middle;\n    }\n\n    .dataframe tbody tr th {\n        vertical-align: top;\n    }\n\n    .dataframe thead th {\n        text-align: right;\n    }\n</style>\n<table border=\"1\" class=\"dataframe\">\n  <thead>\n    <tr style=\"text-align: right;\">\n      <th></th>\n      <th>name</th>\n      <th>display_name</th>\n      <th>maximize</th>\n    </tr>\n  </thead>\n  <tbody>\n    <tr>\n      <th>0</th>\n      <td>nDCG@5 rel.</td>\n      <td>nDCG@5 relevance</td>\n      <td>True</td>\n    </tr>\n    <tr>\n      <th>1</th>\n      <td>nDCG@5 qual.</td>\n      <td>nDCG@5 quality</td>\n      <td>True</td>\n    </tr>\n  </tbody>\n</table>\n</div>"
     },
     "execution_count": 2,
     "metadata": {},
     "output_type": "execute_result"
    }
   ],
   "source": [
    "measures = DataFrame([\n",
    "    {\"name\": \"nDCG@5 rel.\", \"display_name\": r\"nDCG@5 relevance\", \"maximize\": True, },\n",
    "    {\"name\": \"nDCG@5 qual.\", \"display_name\": r\"nDCG@5 quality\", \"maximize\": True, },\n",
    "])\n",
    "measures"
   ]
  },
  {
   "cell_type": "code",
   "execution_count": 3,
   "outputs": [],
   "source": [
    "def target_f1(name: str) -> float:\n",
    "    parts = name.split(\" + \")\n",
    "    for part in parts:\n",
    "        if part.startswith(\"randomize\"):\n",
    "            match = compile(r\"randomize\\(F1<=(.*)\\)\").match(part)\n",
    "            if not match:\n",
    "                return 1.0\n",
    "            return float(match.group(1))\n",
    "    if \"ground-truth\" in parts:\n",
    "        return 1.0\n",
    "    return nan"
   ],
   "metadata": {
    "collapsed": false,
    "ExecuteTime": {
     "end_time": "2023-09-07T18:19:30.513777107Z",
     "start_time": "2023-09-07T18:19:30.494990118Z"
    }
   }
  },
  {
   "cell_type": "code",
   "execution_count": 4,
   "outputs": [
    {
     "data": {
      "text/plain": "                                                     name           team  \\\n0       Aldo-Nadi seupd2122-kueri_kueristopv2_BM2_fals...      Aldo-Nadi   \n1       Aldo-Nadi seupd2122-kueri_kueristopv2_BM2_fals...      Aldo-Nadi   \n2       Aldo-Nadi seupd2122-kueri_kueristopv2_BM2_fals...      Aldo-Nadi   \n3       Aldo-Nadi seupd2122-kueri_kueristopv2_BM2_fals...      Aldo-Nadi   \n4       Aldo-Nadi seupd2122-kueri_kueristopv2_BM2_fals...      Aldo-Nadi   \n...                                                   ...            ...   \n436795  Puss-in-Boots BM25-Baseline + ground-truth + r...  Puss-in-Boots   \n436796  Puss-in-Boots BM25-Baseline + ground-truth + r...  Puss-in-Boots   \n436797  Puss-in-Boots BM25-Baseline + ground-truth + r...  Puss-in-Boots   \n436798  Puss-in-Boots BM25-Baseline + ground-truth + r...  Puss-in-Boots   \n436799  Puss-in-Boots BM25-Baseline + ground-truth + r...  Puss-in-Boots   \n\n                                                      run  \\\n0       Aldo-Nadi seupd2122-kueri_kueristopv2_BM2_fals...   \n1       Aldo-Nadi seupd2122-kueri_kueristopv2_BM2_fals...   \n2       Aldo-Nadi seupd2122-kueri_kueristopv2_BM2_fals...   \n3       Aldo-Nadi seupd2122-kueri_kueristopv2_BM2_fals...   \n4       Aldo-Nadi seupd2122-kueri_kueristopv2_BM2_fals...   \n...                                                   ...   \n436795                        Puss-in-Boots BM25-Baseline   \n436796                        Puss-in-Boots BM25-Baseline   \n436797                        Puss-in-Boots BM25-Baseline   \n436798                        Puss-in-Boots BM25-Baseline   \n436799                        Puss-in-Boots BM25-Baseline   \n\n                                                 reranker  target_f1  qid  \\\n0                                                     NaN        NaN  100   \n1                                     optimal-relevance@5        NaN  100   \n2                                       optimal-quality@5        NaN  100   \n3                           ground-truth + stance-first@5        1.0  100   \n4                                          stance-first@5        NaN  100   \n...                                                   ...        ...  ...   \n436795  ground-truth + randomize(F1<=0.20)@5 + stance-...        0.2   95   \n436796  ground-truth + randomize(F1<=0.20)@5 + stance-...        0.2   95   \n436797  ground-truth + randomize(F1<=0.20)@5 + stance-...        0.2   95   \n436798  ground-truth + randomize(F1<=0.20)@5 + stance-...        0.2   95   \n436799  ground-truth + randomize(F1<=0.20)@5 + stance-...        0.2   95   \n\n             measure  value  value_aggregated  value_original  \\\n0        nDCG@5 rel.  0.170           0.54662           0.170   \n1        nDCG@5 rel.  0.339           0.60660           0.170   \n2        nDCG@5 rel.  0.339           0.56770           0.170   \n3        nDCG@5 rel.  0.339           0.57594           0.170   \n4        nDCG@5 rel.  0.170           0.54642           0.170   \n...              ...    ...               ...             ...   \n436795  nDCG@5 qual.  0.308           0.46722           0.361   \n436796  nDCG@5 qual.  0.308           0.46722           0.361   \n436797  nDCG@5 qual.  0.308           0.46722           0.361   \n436798  nDCG@5 qual.  0.308           0.46722           0.361   \n436799  nDCG@5 qual.  0.308           0.46722           0.361   \n\n        value_original_aggregated  value_optimal  value_optimal_aggregated  \n0                         0.54662          0.339                   0.60660  \n1                         0.54662          0.339                   0.60660  \n2                         0.54662          0.339                   0.60660  \n3                         0.54662          0.339                   0.60660  \n4                         0.54662          0.339                   0.60660  \n...                           ...            ...                       ...  \n436795                    0.47622          0.361                   0.54428  \n436796                    0.47622          0.361                   0.54428  \n436797                    0.47622          0.361                   0.54428  \n436798                    0.47622          0.361                   0.54428  \n436799                    0.47622          0.361                   0.54428  \n\n[436800 rows x 13 columns]",
      "text/html": "<div>\n<style scoped>\n    .dataframe tbody tr th:only-of-type {\n        vertical-align: middle;\n    }\n\n    .dataframe tbody tr th {\n        vertical-align: top;\n    }\n\n    .dataframe thead th {\n        text-align: right;\n    }\n</style>\n<table border=\"1\" class=\"dataframe\">\n  <thead>\n    <tr style=\"text-align: right;\">\n      <th></th>\n      <th>name</th>\n      <th>team</th>\n      <th>run</th>\n      <th>reranker</th>\n      <th>target_f1</th>\n      <th>qid</th>\n      <th>measure</th>\n      <th>value</th>\n      <th>value_aggregated</th>\n      <th>value_original</th>\n      <th>value_original_aggregated</th>\n      <th>value_optimal</th>\n      <th>value_optimal_aggregated</th>\n    </tr>\n  </thead>\n  <tbody>\n    <tr>\n      <th>0</th>\n      <td>Aldo-Nadi seupd2122-kueri_kueristopv2_BM2_fals...</td>\n      <td>Aldo-Nadi</td>\n      <td>Aldo-Nadi seupd2122-kueri_kueristopv2_BM2_fals...</td>\n      <td>NaN</td>\n      <td>NaN</td>\n      <td>100</td>\n      <td>nDCG@5 rel.</td>\n      <td>0.170</td>\n      <td>0.54662</td>\n      <td>0.170</td>\n      <td>0.54662</td>\n      <td>0.339</td>\n      <td>0.60660</td>\n    </tr>\n    <tr>\n      <th>1</th>\n      <td>Aldo-Nadi seupd2122-kueri_kueristopv2_BM2_fals...</td>\n      <td>Aldo-Nadi</td>\n      <td>Aldo-Nadi seupd2122-kueri_kueristopv2_BM2_fals...</td>\n      <td>optimal-relevance@5</td>\n      <td>NaN</td>\n      <td>100</td>\n      <td>nDCG@5 rel.</td>\n      <td>0.339</td>\n      <td>0.60660</td>\n      <td>0.170</td>\n      <td>0.54662</td>\n      <td>0.339</td>\n      <td>0.60660</td>\n    </tr>\n    <tr>\n      <th>2</th>\n      <td>Aldo-Nadi seupd2122-kueri_kueristopv2_BM2_fals...</td>\n      <td>Aldo-Nadi</td>\n      <td>Aldo-Nadi seupd2122-kueri_kueristopv2_BM2_fals...</td>\n      <td>optimal-quality@5</td>\n      <td>NaN</td>\n      <td>100</td>\n      <td>nDCG@5 rel.</td>\n      <td>0.339</td>\n      <td>0.56770</td>\n      <td>0.170</td>\n      <td>0.54662</td>\n      <td>0.339</td>\n      <td>0.60660</td>\n    </tr>\n    <tr>\n      <th>3</th>\n      <td>Aldo-Nadi seupd2122-kueri_kueristopv2_BM2_fals...</td>\n      <td>Aldo-Nadi</td>\n      <td>Aldo-Nadi seupd2122-kueri_kueristopv2_BM2_fals...</td>\n      <td>ground-truth + stance-first@5</td>\n      <td>1.0</td>\n      <td>100</td>\n      <td>nDCG@5 rel.</td>\n      <td>0.339</td>\n      <td>0.57594</td>\n      <td>0.170</td>\n      <td>0.54662</td>\n      <td>0.339</td>\n      <td>0.60660</td>\n    </tr>\n    <tr>\n      <th>4</th>\n      <td>Aldo-Nadi seupd2122-kueri_kueristopv2_BM2_fals...</td>\n      <td>Aldo-Nadi</td>\n      <td>Aldo-Nadi seupd2122-kueri_kueristopv2_BM2_fals...</td>\n      <td>stance-first@5</td>\n      <td>NaN</td>\n      <td>100</td>\n      <td>nDCG@5 rel.</td>\n      <td>0.170</td>\n      <td>0.54642</td>\n      <td>0.170</td>\n      <td>0.54662</td>\n      <td>0.339</td>\n      <td>0.60660</td>\n    </tr>\n    <tr>\n      <th>...</th>\n      <td>...</td>\n      <td>...</td>\n      <td>...</td>\n      <td>...</td>\n      <td>...</td>\n      <td>...</td>\n      <td>...</td>\n      <td>...</td>\n      <td>...</td>\n      <td>...</td>\n      <td>...</td>\n      <td>...</td>\n      <td>...</td>\n    </tr>\n    <tr>\n      <th>436795</th>\n      <td>Puss-in-Boots BM25-Baseline + ground-truth + r...</td>\n      <td>Puss-in-Boots</td>\n      <td>Puss-in-Boots BM25-Baseline</td>\n      <td>ground-truth + randomize(F1&lt;=0.20)@5 + stance-...</td>\n      <td>0.2</td>\n      <td>95</td>\n      <td>nDCG@5 qual.</td>\n      <td>0.308</td>\n      <td>0.46722</td>\n      <td>0.361</td>\n      <td>0.47622</td>\n      <td>0.361</td>\n      <td>0.54428</td>\n    </tr>\n    <tr>\n      <th>436796</th>\n      <td>Puss-in-Boots BM25-Baseline + ground-truth + r...</td>\n      <td>Puss-in-Boots</td>\n      <td>Puss-in-Boots BM25-Baseline</td>\n      <td>ground-truth + randomize(F1&lt;=0.20)@5 + stance-...</td>\n      <td>0.2</td>\n      <td>95</td>\n      <td>nDCG@5 qual.</td>\n      <td>0.308</td>\n      <td>0.46722</td>\n      <td>0.361</td>\n      <td>0.47622</td>\n      <td>0.361</td>\n      <td>0.54428</td>\n    </tr>\n    <tr>\n      <th>436797</th>\n      <td>Puss-in-Boots BM25-Baseline + ground-truth + r...</td>\n      <td>Puss-in-Boots</td>\n      <td>Puss-in-Boots BM25-Baseline</td>\n      <td>ground-truth + randomize(F1&lt;=0.20)@5 + stance-...</td>\n      <td>0.2</td>\n      <td>95</td>\n      <td>nDCG@5 qual.</td>\n      <td>0.308</td>\n      <td>0.46722</td>\n      <td>0.361</td>\n      <td>0.47622</td>\n      <td>0.361</td>\n      <td>0.54428</td>\n    </tr>\n    <tr>\n      <th>436798</th>\n      <td>Puss-in-Boots BM25-Baseline + ground-truth + r...</td>\n      <td>Puss-in-Boots</td>\n      <td>Puss-in-Boots BM25-Baseline</td>\n      <td>ground-truth + randomize(F1&lt;=0.20)@5 + stance-...</td>\n      <td>0.2</td>\n      <td>95</td>\n      <td>nDCG@5 qual.</td>\n      <td>0.308</td>\n      <td>0.46722</td>\n      <td>0.361</td>\n      <td>0.47622</td>\n      <td>0.361</td>\n      <td>0.54428</td>\n    </tr>\n    <tr>\n      <th>436799</th>\n      <td>Puss-in-Boots BM25-Baseline + ground-truth + r...</td>\n      <td>Puss-in-Boots</td>\n      <td>Puss-in-Boots BM25-Baseline</td>\n      <td>ground-truth + randomize(F1&lt;=0.20)@5 + stance-...</td>\n      <td>0.2</td>\n      <td>95</td>\n      <td>nDCG@5 qual.</td>\n      <td>0.308</td>\n      <td>0.46722</td>\n      <td>0.361</td>\n      <td>0.47622</td>\n      <td>0.361</td>\n      <td>0.54428</td>\n    </tr>\n  </tbody>\n</table>\n<p>436800 rows × 13 columns</p>\n</div>"
     },
     "execution_count": 4,
     "metadata": {},
     "output_type": "execute_result"
    }
   ],
   "source": [
    "df: DataFrame = read_csv(\"../data/metrics-reranking.csv\")\n",
    "\n",
    "# Remove duplicate runs.\n",
    "# df = df.groupby([\"name\", \"qid\"], dropna=False, sort=False).aggregate(\"first\").reset_index()\n",
    "\n",
    "# Pivot measures into column values.\n",
    "df = concat([\n",
    "    concat([\n",
    "        df[[\"name\", \"qid\", measure]].rename(columns={measure: \"value\"}),\n",
    "        DataFrame({\"measure\": [measure] * len(df)}),\n",
    "    ], axis=1)\n",
    "    for measure in measures[\"name\"]\n",
    "])\n",
    "\n",
    "# Add run/team/reranker names.\n",
    "df[\"run\"] = df[\"name\"].apply(lambda name: name.split(\" + \", maxsplit=1)[0])\n",
    "df[\"team\"] = df[\"run\"].apply(lambda run: run.split(\" \", maxsplit=1)[0])\n",
    "df[\"reranker\"] = [\n",
    "    name.split(\" + \", maxsplit=1)[1] if name != run else nan\n",
    "    for _, (name, run) in df[[\"name\", \"run\"]].iterrows()\n",
    "]\n",
    "\n",
    "# Detect target F1 scores.\n",
    "df[\"target_f1\"] = df[\"name\"].apply(target_f1)\n",
    "\n",
    "# Select columns.\n",
    "df = df[[\"name\", \"team\", \"run\", \"reranker\", \"target_f1\", \"qid\", \"measure\", \"value\"]]\n",
    "\n",
    "# Compute aggregated metric values.\n",
    "df_aggregated = df[[\"name\", \"measure\", \"qid\", \"value\"]].groupby([\"name\", \"measure\"], dropna=False,\n",
    "                                                                sort=False).aggregate(\"mean\").drop(\n",
    "    columns=[\"qid\"])\n",
    "df = df.merge(df_aggregated, on=[\"name\", \"measure\"], suffixes=(\"\", \"_aggregated\"))\n",
    "\n",
    "# Add differences to original runs.\n",
    "df = df.merge(\n",
    "    df.loc[df[\"reranker\"].isna(), [\"qid\", \"measure\", \"run\", \"value\", \"value_aggregated\"]],\n",
    "    on=[\"qid\", \"measure\", \"run\"],\n",
    "    suffixes=(\"\", \"_original\"),\n",
    ").rename(columns={\"value_aggregated_original\": \"value_original_aggregated\"})\n",
    "\n",
    "# Add differences to optimal runs.\n",
    "df = df.merge(\n",
    "    df.loc[df[\"reranker\"] == \"optimal-relevance@5\", [\"qid\", \"measure\", \"run\", \"value\", \"value_aggregated\"]],\n",
    "    on=[\"qid\", \"measure\", \"run\"],\n",
    "    suffixes=(\"\", \"_optimal_relevance\"),\n",
    ")\n",
    "# df = df[df[\"reranker\"] != \"optimal-relevance@5\"]\n",
    "df = df.merge(\n",
    "    df.loc[df[\"reranker\"] == \"optimal-quality@5\", [\"qid\", \"measure\", \"run\", \"value\", \"value_aggregated\"]],\n",
    "    on=[\"qid\", \"measure\", \"run\"],\n",
    "    suffixes=(\"\", \"_optimal_quality\"),\n",
    ")\n",
    "# df = df[df[\"reranker\"] != \"optimal-quality@5\"]\n",
    "df.loc[df[\"measure\"] == \"nDCG@5 rel.\", \"value_optimal\"] = df.loc[\n",
    "    df[\"measure\"] == \"nDCG@5 rel.\", \"value_optimal_relevance\"]\n",
    "df.loc[df[\"measure\"] == \"nDCG@5 rel.\", \"value_optimal_aggregated\"] = df.loc[\n",
    "    df[\"measure\"] == \"nDCG@5 rel.\", \"value_aggregated_optimal_relevance\"]\n",
    "del df[\"value_optimal_relevance\"]\n",
    "del df[\"value_aggregated_optimal_relevance\"]\n",
    "df.loc[df[\"measure\"] == \"nDCG@5 qual.\", \"value_optimal\"] = df.loc[\n",
    "    df[\"measure\"] == \"nDCG@5 qual.\", \"value_optimal_quality\"]\n",
    "df.loc[df[\"measure\"] == \"nDCG@5 qual.\", \"value_optimal_aggregated\"] = df.loc[\n",
    "    df[\"measure\"] == \"nDCG@5 qual.\", \"value_aggregated_optimal_quality\"]\n",
    "del df[\"value_optimal_quality\"]\n",
    "del df[\"value_aggregated_optimal_quality\"]\n",
    "df"
   ],
   "metadata": {
    "collapsed": false,
    "ExecuteTime": {
     "end_time": "2023-09-07T18:19:43.791733209Z",
     "start_time": "2023-09-07T18:19:30.512649120Z"
    }
   }
  },
  {
   "cell_type": "code",
   "execution_count": 5,
   "outputs": [
    {
     "data": {
      "text/plain": "                                                     name           team  \\\n0       Aldo-Nadi seupd2122-kueri_kueristopv2_BM2_fals...      Aldo-Nadi   \n1       Aldo-Nadi seupd2122-kueri_kueristopv2_BM2_fals...      Aldo-Nadi   \n2       Aldo-Nadi seupd2122-kueri_kueristopv2_BM2_fals...      Aldo-Nadi   \n3       Aldo-Nadi seupd2122-kueri_kueristopv2_BM2_fals...      Aldo-Nadi   \n4       Aldo-Nadi seupd2122-kueri_kueristopv2_BM2_fals...      Aldo-Nadi   \n...                                                   ...            ...   \n436459  Puss-in-Boots BM25-Baseline + ground-truth + r...  Puss-in-Boots   \n436460  Puss-in-Boots BM25-Baseline + ground-truth + r...  Puss-in-Boots   \n436461  Puss-in-Boots BM25-Baseline + ground-truth + r...  Puss-in-Boots   \n436462  Puss-in-Boots BM25-Baseline + ground-truth + r...  Puss-in-Boots   \n436463  Puss-in-Boots BM25-Baseline + ground-truth + r...  Puss-in-Boots   \n\n                                                      run  \\\n0       Aldo-Nadi seupd2122-kueri_kueristopv2_BM2_fals...   \n1       Aldo-Nadi seupd2122-kueri_kueristopv2_BM2_fals...   \n2       Aldo-Nadi seupd2122-kueri_kueristopv2_BM2_fals...   \n3       Aldo-Nadi seupd2122-kueri_kueristopv2_BM2_fals...   \n4       Aldo-Nadi seupd2122-kueri_kueristopv2_BM2_fals...   \n...                                                   ...   \n436459                        Puss-in-Boots BM25-Baseline   \n436460                        Puss-in-Boots BM25-Baseline   \n436461                        Puss-in-Boots BM25-Baseline   \n436462                        Puss-in-Boots BM25-Baseline   \n436463                        Puss-in-Boots BM25-Baseline   \n\n                                                 reranker  target_f1  qid  \\\n0                                                     NaN        NaN  100   \n1                                     optimal-relevance@5        NaN  100   \n2                                       optimal-quality@5        NaN  100   \n3                           ground-truth + stance-first@5        1.0  100   \n4                                          stance-first@5        NaN  100   \n...                                                   ...        ...  ...   \n436459  ground-truth + randomize(F1<=0.20)@5 + stance-...        0.2   92   \n436460  ground-truth + randomize(F1<=0.20)@5 + stance-...        0.2   92   \n436461  ground-truth + randomize(F1<=0.20)@5 + stance-...        0.2   92   \n436462  ground-truth + randomize(F1<=0.20)@5 + stance-...        0.2   92   \n436463  ground-truth + randomize(F1<=0.20)@5 + stance-...        0.2   92   \n\n             measure  value  value_aggregated  value_original  \\\n0        nDCG@5 rel.  0.170           0.54662           0.170   \n1        nDCG@5 rel.  0.339           0.60660           0.170   \n2        nDCG@5 rel.  0.339           0.56770           0.170   \n3        nDCG@5 rel.  0.339           0.57594           0.170   \n4        nDCG@5 rel.  0.170           0.54642           0.170   \n...              ...    ...               ...             ...   \n436459  nDCG@5 qual.  0.322           0.46722           0.503   \n436460  nDCG@5 qual.  0.322           0.46722           0.503   \n436461  nDCG@5 qual.  0.322           0.46722           0.503   \n436462  nDCG@5 qual.  0.322           0.46722           0.503   \n436463  nDCG@5 qual.  0.322           0.46722           0.503   \n\n        value_original_aggregated  value_optimal  value_optimal_aggregated  \n0                         0.54662          0.339                   0.60660  \n1                         0.54662          0.339                   0.60660  \n2                         0.54662          0.339                   0.60660  \n3                         0.54662          0.339                   0.60660  \n4                         0.54662          0.339                   0.60660  \n...                           ...            ...                       ...  \n436459                    0.47622          0.592                   0.54428  \n436460                    0.47622          0.592                   0.54428  \n436461                    0.47622          0.592                   0.54428  \n436462                    0.47622          0.592                   0.54428  \n436463                    0.47622          0.592                   0.54428  \n\n[301224 rows x 13 columns]",
      "text/html": "<div>\n<style scoped>\n    .dataframe tbody tr th:only-of-type {\n        vertical-align: middle;\n    }\n\n    .dataframe tbody tr th {\n        vertical-align: top;\n    }\n\n    .dataframe thead th {\n        text-align: right;\n    }\n</style>\n<table border=\"1\" class=\"dataframe\">\n  <thead>\n    <tr style=\"text-align: right;\">\n      <th></th>\n      <th>name</th>\n      <th>team</th>\n      <th>run</th>\n      <th>reranker</th>\n      <th>target_f1</th>\n      <th>qid</th>\n      <th>measure</th>\n      <th>value</th>\n      <th>value_aggregated</th>\n      <th>value_original</th>\n      <th>value_original_aggregated</th>\n      <th>value_optimal</th>\n      <th>value_optimal_aggregated</th>\n    </tr>\n  </thead>\n  <tbody>\n    <tr>\n      <th>0</th>\n      <td>Aldo-Nadi seupd2122-kueri_kueristopv2_BM2_fals...</td>\n      <td>Aldo-Nadi</td>\n      <td>Aldo-Nadi seupd2122-kueri_kueristopv2_BM2_fals...</td>\n      <td>NaN</td>\n      <td>NaN</td>\n      <td>100</td>\n      <td>nDCG@5 rel.</td>\n      <td>0.170</td>\n      <td>0.54662</td>\n      <td>0.170</td>\n      <td>0.54662</td>\n      <td>0.339</td>\n      <td>0.60660</td>\n    </tr>\n    <tr>\n      <th>1</th>\n      <td>Aldo-Nadi seupd2122-kueri_kueristopv2_BM2_fals...</td>\n      <td>Aldo-Nadi</td>\n      <td>Aldo-Nadi seupd2122-kueri_kueristopv2_BM2_fals...</td>\n      <td>optimal-relevance@5</td>\n      <td>NaN</td>\n      <td>100</td>\n      <td>nDCG@5 rel.</td>\n      <td>0.339</td>\n      <td>0.60660</td>\n      <td>0.170</td>\n      <td>0.54662</td>\n      <td>0.339</td>\n      <td>0.60660</td>\n    </tr>\n    <tr>\n      <th>2</th>\n      <td>Aldo-Nadi seupd2122-kueri_kueristopv2_BM2_fals...</td>\n      <td>Aldo-Nadi</td>\n      <td>Aldo-Nadi seupd2122-kueri_kueristopv2_BM2_fals...</td>\n      <td>optimal-quality@5</td>\n      <td>NaN</td>\n      <td>100</td>\n      <td>nDCG@5 rel.</td>\n      <td>0.339</td>\n      <td>0.56770</td>\n      <td>0.170</td>\n      <td>0.54662</td>\n      <td>0.339</td>\n      <td>0.60660</td>\n    </tr>\n    <tr>\n      <th>3</th>\n      <td>Aldo-Nadi seupd2122-kueri_kueristopv2_BM2_fals...</td>\n      <td>Aldo-Nadi</td>\n      <td>Aldo-Nadi seupd2122-kueri_kueristopv2_BM2_fals...</td>\n      <td>ground-truth + stance-first@5</td>\n      <td>1.0</td>\n      <td>100</td>\n      <td>nDCG@5 rel.</td>\n      <td>0.339</td>\n      <td>0.57594</td>\n      <td>0.170</td>\n      <td>0.54662</td>\n      <td>0.339</td>\n      <td>0.60660</td>\n    </tr>\n    <tr>\n      <th>4</th>\n      <td>Aldo-Nadi seupd2122-kueri_kueristopv2_BM2_fals...</td>\n      <td>Aldo-Nadi</td>\n      <td>Aldo-Nadi seupd2122-kueri_kueristopv2_BM2_fals...</td>\n      <td>stance-first@5</td>\n      <td>NaN</td>\n      <td>100</td>\n      <td>nDCG@5 rel.</td>\n      <td>0.170</td>\n      <td>0.54642</td>\n      <td>0.170</td>\n      <td>0.54662</td>\n      <td>0.339</td>\n      <td>0.60660</td>\n    </tr>\n    <tr>\n      <th>...</th>\n      <td>...</td>\n      <td>...</td>\n      <td>...</td>\n      <td>...</td>\n      <td>...</td>\n      <td>...</td>\n      <td>...</td>\n      <td>...</td>\n      <td>...</td>\n      <td>...</td>\n      <td>...</td>\n      <td>...</td>\n      <td>...</td>\n    </tr>\n    <tr>\n      <th>436459</th>\n      <td>Puss-in-Boots BM25-Baseline + ground-truth + r...</td>\n      <td>Puss-in-Boots</td>\n      <td>Puss-in-Boots BM25-Baseline</td>\n      <td>ground-truth + randomize(F1&lt;=0.20)@5 + stance-...</td>\n      <td>0.2</td>\n      <td>92</td>\n      <td>nDCG@5 qual.</td>\n      <td>0.322</td>\n      <td>0.46722</td>\n      <td>0.503</td>\n      <td>0.47622</td>\n      <td>0.592</td>\n      <td>0.54428</td>\n    </tr>\n    <tr>\n      <th>436460</th>\n      <td>Puss-in-Boots BM25-Baseline + ground-truth + r...</td>\n      <td>Puss-in-Boots</td>\n      <td>Puss-in-Boots BM25-Baseline</td>\n      <td>ground-truth + randomize(F1&lt;=0.20)@5 + stance-...</td>\n      <td>0.2</td>\n      <td>92</td>\n      <td>nDCG@5 qual.</td>\n      <td>0.322</td>\n      <td>0.46722</td>\n      <td>0.503</td>\n      <td>0.47622</td>\n      <td>0.592</td>\n      <td>0.54428</td>\n    </tr>\n    <tr>\n      <th>436461</th>\n      <td>Puss-in-Boots BM25-Baseline + ground-truth + r...</td>\n      <td>Puss-in-Boots</td>\n      <td>Puss-in-Boots BM25-Baseline</td>\n      <td>ground-truth + randomize(F1&lt;=0.20)@5 + stance-...</td>\n      <td>0.2</td>\n      <td>92</td>\n      <td>nDCG@5 qual.</td>\n      <td>0.322</td>\n      <td>0.46722</td>\n      <td>0.503</td>\n      <td>0.47622</td>\n      <td>0.592</td>\n      <td>0.54428</td>\n    </tr>\n    <tr>\n      <th>436462</th>\n      <td>Puss-in-Boots BM25-Baseline + ground-truth + r...</td>\n      <td>Puss-in-Boots</td>\n      <td>Puss-in-Boots BM25-Baseline</td>\n      <td>ground-truth + randomize(F1&lt;=0.20)@5 + stance-...</td>\n      <td>0.2</td>\n      <td>92</td>\n      <td>nDCG@5 qual.</td>\n      <td>0.322</td>\n      <td>0.46722</td>\n      <td>0.503</td>\n      <td>0.47622</td>\n      <td>0.592</td>\n      <td>0.54428</td>\n    </tr>\n    <tr>\n      <th>436463</th>\n      <td>Puss-in-Boots BM25-Baseline + ground-truth + r...</td>\n      <td>Puss-in-Boots</td>\n      <td>Puss-in-Boots BM25-Baseline</td>\n      <td>ground-truth + randomize(F1&lt;=0.20)@5 + stance-...</td>\n      <td>0.2</td>\n      <td>92</td>\n      <td>nDCG@5 qual.</td>\n      <td>0.322</td>\n      <td>0.46722</td>\n      <td>0.503</td>\n      <td>0.47622</td>\n      <td>0.592</td>\n      <td>0.54428</td>\n    </tr>\n  </tbody>\n</table>\n<p>301224 rows × 13 columns</p>\n</div>"
     },
     "execution_count": 5,
     "metadata": {},
     "output_type": "execute_result"
    }
   ],
   "source": [
    "df[df[\"value_original\"] != df[\"value_optimal\"]]"
   ],
   "metadata": {
    "collapsed": false,
    "ExecuteTime": {
     "end_time": "2023-09-07T18:19:43.869443405Z",
     "start_time": "2023-09-07T18:19:43.792729684Z"
    }
   }
  },
  {
   "cell_type": "code",
   "execution_count": 6,
   "outputs": [
    {
     "data": {
      "text/plain": "{'Aldo-Nadi': 'Aldo Nadi',\n 'Asuna': 'Asuna',\n 'Captain-Levi': 'Captain L.',\n 'Captain-Tempesta': 'Captain T.',\n 'Grimjack': 'Grimjack',\n 'Katana': 'Katana',\n 'Olivier-Armstrong': 'Olivier A.',\n 'Puss-in-Boots': 'Puss in B.'}"
     },
     "execution_count": 6,
     "metadata": {},
     "output_type": "execute_result"
    }
   ],
   "source": [
    "short_team_names = {}\n",
    "team: str\n",
    "for team in df[\"team\"].sort_values().unique():\n",
    "    orig_team = team\n",
    "    for prefix in [\"Captain\", \"Olivier\", \"Puss-in\"]:\n",
    "        if team.startswith(prefix):\n",
    "            team = prefix + team.removeprefix(prefix)[:2] + \".\"\n",
    "    short_team_names[orig_team] = team.replace(\"-\", \" \")\n",
    "short_team_names"
   ],
   "metadata": {
    "collapsed": false,
    "ExecuteTime": {
     "end_time": "2023-09-07T18:19:44.110656441Z",
     "start_time": "2023-09-07T18:19:43.877201081Z"
    }
   }
  },
  {
   "cell_type": "code",
   "execution_count": 7,
   "outputs": [
    {
     "data": {
      "text/plain": "{('Aldo-Nadi', 'Aldo-Nadi seupd2122-kueri_RF_reranked'): 'A',\n ('Aldo-Nadi', 'Aldo-Nadi seupd2122-kueri_kueristopv2_BM2_false_porter'): 'B',\n ('Aldo-Nadi',\n  'Aldo-Nadi seupd2122-kueri_kueristopv2_BM2_false_porter_reranked'): 'C',\n ('Aldo-Nadi', 'Aldo-Nadi seupd2122-kueri_rrf'): 'D',\n ('Aldo-Nadi', 'Aldo-Nadi seupd2122-kueri_rrf_reranked'): 'E',\n ('Asuna', 'Asuna asuna-run-5'): 'A',\n ('Captain-Levi', 'Captain-Levi levirank_baseline_large_duo_t5'): 'A',\n ('Captain-Levi', 'Captain-Levi levirank_dense_initial_retrieval'): 'B',\n ('Captain-Levi', 'Captain-Levi levirank_psuedo_relevance_feedback'): 'C',\n ('Captain-Levi',\n  'Captain-Levi levirank_psuedo_relevance_feedback+voting'): 'D',\n ('Captain-Levi', 'Captain-Levi levirank_voting_retrieval'): 'E',\n ('Captain-Tempesta', 'Captain-Tempesta hextech_run_1'): 'A',\n ('Captain-Tempesta', 'Captain-Tempesta hextech_run_2'): 'B',\n ('Captain-Tempesta', 'Captain-Tempesta hextech_run_3'): 'C',\n ('Captain-Tempesta', 'Captain-Tempesta hextech_run_4'): 'D',\n ('Captain-Tempesta', 'Captain-Tempesta hextech_run_5'): 'E',\n ('Grimjack', 'Grimjack grimjack-all-you-need-is-t0'): 'A',\n ('Grimjack', 'Grimjack grimjack-argumentative-axioms'): 'B',\n ('Grimjack', 'Grimjack grimjack-baseline'): 'C',\n ('Grimjack', 'Grimjack grimjack-fair-argumentative-reranking-with-t0'): 'D',\n ('Grimjack', 'Grimjack grimjack-fair-reranking-argumentative-axioms'): 'E',\n ('Katana', 'Katana Colbert edinburg'): 'A',\n ('Katana', 'Katana Colbert fine tune on touche data'): 'B',\n ('Katana', 'Katana Colbert trained by me'): 'C',\n ('Olivier-Armstrong', 'Olivier-Armstrong tfid_arg_similarity'): 'A',\n ('Puss-in-Boots', 'Puss-in-Boots BM25-Baseline'): 'A'}"
     },
     "execution_count": 7,
     "metadata": {},
     "output_type": "execute_result"
    }
   ],
   "source": [
    "short_run_names = {}\n",
    "for team in df[\"team\"].unique():\n",
    "    for run, char in zip(df[df[\"team\"] == team][\"run\"].sort_values().unique(), \"ABCDEFGHIJKLMNOPQRSTUVWXYZ\"):\n",
    "        short_run_names[(team, run)] = char\n",
    "short_run_names"
   ],
   "metadata": {
    "collapsed": false,
    "ExecuteTime": {
     "end_time": "2023-09-07T18:19:44.554996410Z",
     "start_time": "2023-09-07T18:19:44.127328278Z"
    }
   }
  },
  {
   "cell_type": "code",
   "execution_count": 8,
   "outputs": [
    {
     "name": "stdout",
     "output_type": "stream",
     "text": [
      "\\begin{tabular}{@{}lll@{}}\n",
      "    \\toprule\n",
      "    \\multicolumn{2}{@{}l}{Run} & Run ID \\\\\n",
      "    \\midrule\n",
      "    Aldo Nadi & A & seupd2122-kueri_RF_reranked \\\\\n",
      "    Aldo Nadi & B & seupd2122-kueri_kueristopv2_BM2_false_porter \\\\\n",
      "    Aldo Nadi & C & seupd2122-kueri_kueristopv2_BM2_false_porter_reranked \\\\\n",
      "    Aldo Nadi & D & seupd2122-kueri_rrf \\\\\n",
      "    Aldo Nadi & E & seupd2122-kueri_rrf_reranked \\\\\n",
      "    Asuna & A & asuna-run-5 \\\\\n",
      "    Captain Levi & A & levirank_baseline_large_duo_t5 \\\\\n",
      "    Captain Levi & B & levirank_dense_initial_retrieval \\\\\n",
      "    Captain Levi & C & levirank_psuedo_relevance_feedback \\\\\n",
      "    Captain Levi & D & levirank_psuedo_relevance_feedback+voting \\\\\n",
      "    Captain Levi & E & levirank_voting_retrieval \\\\\n",
      "    Captain Tempesta & A & hextech_run_1 \\\\\n",
      "    Captain Tempesta & B & hextech_run_2 \\\\\n",
      "    Captain Tempesta & C & hextech_run_3 \\\\\n",
      "    Captain Tempesta & D & hextech_run_4 \\\\\n",
      "    Captain Tempesta & E & hextech_run_5 \\\\\n",
      "    Grimjack & A & grimjack-all-you-need-is-t0 \\\\\n",
      "    Grimjack & B & grimjack-argumentative-axioms \\\\\n",
      "    Grimjack & C & grimjack-baseline \\\\\n",
      "    Grimjack & D & grimjack-fair-argumentative-reranking-with-t0 \\\\\n",
      "    Grimjack & E & grimjack-fair-reranking-argumentative-axioms \\\\\n",
      "    Katana & A & Colbert edinburg \\\\\n",
      "    Katana & B & Colbert fine tune on touche data \\\\\n",
      "    Katana & C & Colbert trained by me \\\\\n",
      "    Olivier Armstrong & A & tfid_arg_similarity \\\\\n",
      "    Puss in Boots & A & BM25-Baseline \\\\\n",
      "    \\bottomrule\n",
      "\\end{tabular}\n"
     ]
    }
   ],
   "source": [
    "print(r\"\\begin{tabular}{@{}lll@{}}\")\n",
    "print(r\"    \\toprule\")\n",
    "print(r\"    \\multicolumn{2}{@{}l}{Run} & Run ID \\\\\")\n",
    "print(r\"    \\midrule\")\n",
    "for team in df[\"team\"].sort_values().unique():\n",
    "    for run in df[df[\"team\"] == team][\"run\"].sort_values().unique():\n",
    "        print(f\"    {team.replace('-', ' ')} & {short_run_names[(team, run)]} & {run.removeprefix(team)[1:]} \\\\\\\\\")\n",
    "print(r\"    \\bottomrule\")\n",
    "print(r\"\\end{tabular}\")"
   ],
   "metadata": {
    "collapsed": false,
    "ExecuteTime": {
     "end_time": "2023-09-07T18:19:45.300166532Z",
     "start_time": "2023-09-07T18:19:44.572928166Z"
    }
   }
  },
  {
   "cell_type": "code",
   "execution_count": 97,
   "outputs": [],
   "source": [
    "rerankers_table = {\n",
    "    nan: r\"Touch{\\'e}\",\n",
    "    \"ground-truth + stance-first@5\": r\"Oracle~{\\tiny(\\fone\\supertinymathsymbol{=}1.00)}\",\n",
    "    \"ground-truth + randomize(F1<=0.75)@5 + stance-first@5\": r\"Simul.~{\\tiny(\\fone\\supertinymathsymbol{\\approx}0.75)}\",\n",
    "    \"gpt3-tsv + stance-first@5\": r\"GPT-3~{\\tiny(\\fone\\supertinymathsymbol{=}0.49)}\",\n",
    "    \"google/flan-t5-base@5 + stance-first@5\": r\"Flan-T5~{\\tiny(\\fone\\supertinymathsymbol{=}0.39)}\",\n",
    "    \"roberta-csv + stance-first@5\": r\"\\kern-0.25em RoBERTa~{\\tiny(\\fone\\supertinymathsymbol{=}0.34)}\\kern-0.25em\",\n",
    "    \"stance-first@5\": r\"Orig.~{\\tiny(\\fone\\supertinymathsymbol{\\leq}0.31)}\",\n",
    "}\n",
    "correction_n = len(rerankers_table) + 1\n",
    "\n",
    "for key in rerankers_table.keys():\n",
    "    if (not isna(key) and len(df[df[\"reranker\"] == key]) == 0) or (isna(key) and len(df[df[\"reranker\"].isna()]) == 0):\n",
    "        raise ValueError(f\"Re-ranker '{key}' not found.\")"
   ],
   "metadata": {
    "collapsed": false,
    "ExecuteTime": {
     "end_time": "2023-09-07T21:20:27.919390057Z",
     "start_time": "2023-09-07T21:20:27.780114025Z"
    }
   }
  },
  {
   "cell_type": "code",
   "execution_count": 98,
   "outputs": [
    {
     "data": {
      "text/plain": "                                                 name          team  \\\n6       Captain-Levi levirank_dense_initial_retrieval  Captain-Levi   \n6         Captain-Levi levirank_baseline_large_duo_t5  Captain-Levi   \n6   Captain-Levi levirank_psuedo_relevance_feedbac...  Captain-Levi   \n6              Captain-Levi levirank_voting_retrieval  Captain-Levi   \n6     Captain-Levi levirank_psuedo_relevance_feedback  Captain-Levi   \n..                                                ...           ...   \n6   Grimjack grimjack-fair-argumentative-reranking...      Grimjack   \n6         Grimjack grimjack-baseline + stance-first@5      Grimjack   \n6   Grimjack grimjack-argumentative-axioms + stanc...      Grimjack   \n6   Grimjack grimjack-all-you-need-is-t0 + stance-...      Grimjack   \n6                  Asuna asuna-run-5 + stance-first@5         Asuna   \n\n                                                  run        reranker  \\\n6       Captain-Levi levirank_dense_initial_retrieval            None   \n6         Captain-Levi levirank_baseline_large_duo_t5            None   \n6   Captain-Levi levirank_psuedo_relevance_feedbac...            None   \n6              Captain-Levi levirank_voting_retrieval            None   \n6     Captain-Levi levirank_psuedo_relevance_feedback            None   \n..                                                ...             ...   \n6   Grimjack grimjack-fair-argumentative-reranking...  stance-first@5   \n6                          Grimjack grimjack-baseline  stance-first@5   \n6              Grimjack grimjack-argumentative-axioms  stance-first@5   \n6                Grimjack grimjack-all-you-need-is-t0  stance-first@5   \n6                                   Asuna asuna-run-5  stance-first@5   \n\n         measure  value_aggregated  value_original_aggregated  \\\n6    nDCG@5 rel.           0.75772                    0.75772   \n6    nDCG@5 rel.           0.75512                    0.75512   \n6    nDCG@5 rel.           0.75280                    0.75280   \n6    nDCG@5 rel.           0.72734                    0.72734   \n6    nDCG@5 rel.           0.72146                    0.72146   \n..           ...               ...                        ...   \n6   nDCG@5 qual.           0.36526                    0.36526   \n6   nDCG@5 qual.           0.36342                    0.36342   \n6   nDCG@5 qual.           0.36342                    0.36342   \n6   nDCG@5 qual.           0.34436                    0.34436   \n6   nDCG@5 qual.           0.33230                    0.33230   \n\n    value_optimal_aggregated  run_rank  run_rank_original  reranker_index  \\\n6                    0.81460         1                  1               0   \n6                    0.81528         2                  2               0   \n6                    0.81268         3                  3               0   \n6                    0.79032         4                  4               0   \n6                    0.78258         5                  5               0   \n..                       ...       ...                ...             ...   \n6                    0.42194        22                 22               6   \n6                    0.44190        23                 23               6   \n6                    0.44190        24                 24               6   \n6                    0.41780        25                 25               6   \n6                    0.41516        26                 26               6   \n\n    p_value  p_value_corrected  ci95_low  ci95_high  cohen_d  \n6       NaN                NaN       NaN        NaN      NaN  \n6       NaN                NaN       NaN        NaN      NaN  \n6       NaN                NaN       NaN        NaN      NaN  \n6       NaN                NaN       NaN        NaN      NaN  \n6       NaN                NaN       NaN        NaN      NaN  \n..      ...                ...       ...        ...      ...  \n6       NaN                NaN       NaN        NaN      NaN  \n6       NaN                NaN       NaN        NaN      NaN  \n6       NaN                NaN       NaN        NaN      NaN  \n6       NaN                NaN       NaN        NaN      NaN  \n6       NaN                NaN       NaN        NaN      NaN  \n\n[364 rows x 16 columns]",
      "text/html": "<div>\n<style scoped>\n    .dataframe tbody tr th:only-of-type {\n        vertical-align: middle;\n    }\n\n    .dataframe tbody tr th {\n        vertical-align: top;\n    }\n\n    .dataframe thead th {\n        text-align: right;\n    }\n</style>\n<table border=\"1\" class=\"dataframe\">\n  <thead>\n    <tr style=\"text-align: right;\">\n      <th></th>\n      <th>name</th>\n      <th>team</th>\n      <th>run</th>\n      <th>reranker</th>\n      <th>measure</th>\n      <th>value_aggregated</th>\n      <th>value_original_aggregated</th>\n      <th>value_optimal_aggregated</th>\n      <th>run_rank</th>\n      <th>run_rank_original</th>\n      <th>reranker_index</th>\n      <th>p_value</th>\n      <th>p_value_corrected</th>\n      <th>ci95_low</th>\n      <th>ci95_high</th>\n      <th>cohen_d</th>\n    </tr>\n  </thead>\n  <tbody>\n    <tr>\n      <th>6</th>\n      <td>Captain-Levi levirank_dense_initial_retrieval</td>\n      <td>Captain-Levi</td>\n      <td>Captain-Levi levirank_dense_initial_retrieval</td>\n      <td>None</td>\n      <td>nDCG@5 rel.</td>\n      <td>0.75772</td>\n      <td>0.75772</td>\n      <td>0.81460</td>\n      <td>1</td>\n      <td>1</td>\n      <td>0</td>\n      <td>NaN</td>\n      <td>NaN</td>\n      <td>NaN</td>\n      <td>NaN</td>\n      <td>NaN</td>\n    </tr>\n    <tr>\n      <th>6</th>\n      <td>Captain-Levi levirank_baseline_large_duo_t5</td>\n      <td>Captain-Levi</td>\n      <td>Captain-Levi levirank_baseline_large_duo_t5</td>\n      <td>None</td>\n      <td>nDCG@5 rel.</td>\n      <td>0.75512</td>\n      <td>0.75512</td>\n      <td>0.81528</td>\n      <td>2</td>\n      <td>2</td>\n      <td>0</td>\n      <td>NaN</td>\n      <td>NaN</td>\n      <td>NaN</td>\n      <td>NaN</td>\n      <td>NaN</td>\n    </tr>\n    <tr>\n      <th>6</th>\n      <td>Captain-Levi levirank_psuedo_relevance_feedbac...</td>\n      <td>Captain-Levi</td>\n      <td>Captain-Levi levirank_psuedo_relevance_feedbac...</td>\n      <td>None</td>\n      <td>nDCG@5 rel.</td>\n      <td>0.75280</td>\n      <td>0.75280</td>\n      <td>0.81268</td>\n      <td>3</td>\n      <td>3</td>\n      <td>0</td>\n      <td>NaN</td>\n      <td>NaN</td>\n      <td>NaN</td>\n      <td>NaN</td>\n      <td>NaN</td>\n    </tr>\n    <tr>\n      <th>6</th>\n      <td>Captain-Levi levirank_voting_retrieval</td>\n      <td>Captain-Levi</td>\n      <td>Captain-Levi levirank_voting_retrieval</td>\n      <td>None</td>\n      <td>nDCG@5 rel.</td>\n      <td>0.72734</td>\n      <td>0.72734</td>\n      <td>0.79032</td>\n      <td>4</td>\n      <td>4</td>\n      <td>0</td>\n      <td>NaN</td>\n      <td>NaN</td>\n      <td>NaN</td>\n      <td>NaN</td>\n      <td>NaN</td>\n    </tr>\n    <tr>\n      <th>6</th>\n      <td>Captain-Levi levirank_psuedo_relevance_feedback</td>\n      <td>Captain-Levi</td>\n      <td>Captain-Levi levirank_psuedo_relevance_feedback</td>\n      <td>None</td>\n      <td>nDCG@5 rel.</td>\n      <td>0.72146</td>\n      <td>0.72146</td>\n      <td>0.78258</td>\n      <td>5</td>\n      <td>5</td>\n      <td>0</td>\n      <td>NaN</td>\n      <td>NaN</td>\n      <td>NaN</td>\n      <td>NaN</td>\n      <td>NaN</td>\n    </tr>\n    <tr>\n      <th>...</th>\n      <td>...</td>\n      <td>...</td>\n      <td>...</td>\n      <td>...</td>\n      <td>...</td>\n      <td>...</td>\n      <td>...</td>\n      <td>...</td>\n      <td>...</td>\n      <td>...</td>\n      <td>...</td>\n      <td>...</td>\n      <td>...</td>\n      <td>...</td>\n      <td>...</td>\n      <td>...</td>\n    </tr>\n    <tr>\n      <th>6</th>\n      <td>Grimjack grimjack-fair-argumentative-reranking...</td>\n      <td>Grimjack</td>\n      <td>Grimjack grimjack-fair-argumentative-reranking...</td>\n      <td>stance-first@5</td>\n      <td>nDCG@5 qual.</td>\n      <td>0.36526</td>\n      <td>0.36526</td>\n      <td>0.42194</td>\n      <td>22</td>\n      <td>22</td>\n      <td>6</td>\n      <td>NaN</td>\n      <td>NaN</td>\n      <td>NaN</td>\n      <td>NaN</td>\n      <td>NaN</td>\n    </tr>\n    <tr>\n      <th>6</th>\n      <td>Grimjack grimjack-baseline + stance-first@5</td>\n      <td>Grimjack</td>\n      <td>Grimjack grimjack-baseline</td>\n      <td>stance-first@5</td>\n      <td>nDCG@5 qual.</td>\n      <td>0.36342</td>\n      <td>0.36342</td>\n      <td>0.44190</td>\n      <td>23</td>\n      <td>23</td>\n      <td>6</td>\n      <td>NaN</td>\n      <td>NaN</td>\n      <td>NaN</td>\n      <td>NaN</td>\n      <td>NaN</td>\n    </tr>\n    <tr>\n      <th>6</th>\n      <td>Grimjack grimjack-argumentative-axioms + stanc...</td>\n      <td>Grimjack</td>\n      <td>Grimjack grimjack-argumentative-axioms</td>\n      <td>stance-first@5</td>\n      <td>nDCG@5 qual.</td>\n      <td>0.36342</td>\n      <td>0.36342</td>\n      <td>0.44190</td>\n      <td>24</td>\n      <td>24</td>\n      <td>6</td>\n      <td>NaN</td>\n      <td>NaN</td>\n      <td>NaN</td>\n      <td>NaN</td>\n      <td>NaN</td>\n    </tr>\n    <tr>\n      <th>6</th>\n      <td>Grimjack grimjack-all-you-need-is-t0 + stance-...</td>\n      <td>Grimjack</td>\n      <td>Grimjack grimjack-all-you-need-is-t0</td>\n      <td>stance-first@5</td>\n      <td>nDCG@5 qual.</td>\n      <td>0.34436</td>\n      <td>0.34436</td>\n      <td>0.41780</td>\n      <td>25</td>\n      <td>25</td>\n      <td>6</td>\n      <td>NaN</td>\n      <td>NaN</td>\n      <td>NaN</td>\n      <td>NaN</td>\n      <td>NaN</td>\n    </tr>\n    <tr>\n      <th>6</th>\n      <td>Asuna asuna-run-5 + stance-first@5</td>\n      <td>Asuna</td>\n      <td>Asuna asuna-run-5</td>\n      <td>stance-first@5</td>\n      <td>nDCG@5 qual.</td>\n      <td>0.33230</td>\n      <td>0.33230</td>\n      <td>0.41516</td>\n      <td>26</td>\n      <td>26</td>\n      <td>6</td>\n      <td>NaN</td>\n      <td>NaN</td>\n      <td>NaN</td>\n      <td>NaN</td>\n      <td>NaN</td>\n    </tr>\n  </tbody>\n</table>\n<p>364 rows × 16 columns</p>\n</div>"
     },
     "execution_count": 98,
     "metadata": {},
     "output_type": "execute_result"
    }
   ],
   "source": [
    "df_table = df[\n",
    "    df[\"reranker\"].isin(rerankers_table.keys()) |\n",
    "    df[\"reranker\"].isna()\n",
    "    ]\n",
    "reranker_index = {\n",
    "    reranker: i\n",
    "    for i, reranker in enumerate(rerankers_table.keys())\n",
    "}\n",
    "\n",
    "\n",
    "def table_row(df: DataFrame, measure_name: str, run: str, reranker: str) -> Series:\n",
    "    measure = measures[measures[\"name\"] == measure_name].iloc[0]\n",
    "\n",
    "    df_reranked = df[df[\"run\"] == run]\n",
    "    if isna(reranker):\n",
    "        df_reranked = df_reranked[df_reranked[\"reranker\"].isna()]\n",
    "    else:\n",
    "        df_reranked = df_reranked[df_reranked[\"reranker\"] == reranker]\n",
    "\n",
    "    df_reranked = df_reranked.groupby(\"qid\", dropna=False, sort=False).aggregate({\n",
    "        column: \"mean\" if column.startswith(\"value\") else \"first\"\n",
    "        for column in df_reranked.columns\n",
    "        if column != \"qid\"\n",
    "    }).reset_index()\n",
    "\n",
    "    df_originals = df[df[\"reranker\"].isna()].sort_values(\"run\").sort_values(\"value_aggregated\",\n",
    "                                                                            ascending=not measure[\"maximize\"])\n",
    "    run_ranks_original = {run: i + 1 for i, run in enumerate(df_originals[\"run\"].unique())}\n",
    "    run_rank_original = run_ranks_original[run]\n",
    "    df_leaderboard = concat([\n",
    "        df_originals[df_originals[\"run\"] != run],\n",
    "        df_reranked,\n",
    "    ])\n",
    "    df_leaderboard = df_leaderboard.sort_values(\"run\").sort_values(\"value_aggregated\",\n",
    "                                                                   ascending=not measure[\"maximize\"])\n",
    "    run_ranks = {run: i + 1 for i, run in enumerate(df_leaderboard[\"run\"].unique())}\n",
    "    run_rank = run_ranks[run]\n",
    "\n",
    "    df_original = df_originals[df_originals[\"run\"] == run]\n",
    "\n",
    "    df_reranked = df_reranked.sort_values(\"qid\")\n",
    "    df_original = df_original.sort_values(\"qid\")\n",
    "\n",
    "    if not array_equal(df_original[\"value\"], df_reranked[\"value\"]):\n",
    "        stats = ttest(df_original[\"value\"], df_reranked[\"value\"], paired=True)\n",
    "    else:\n",
    "        stats = DataFrame({\n",
    "            \"p-val\": [nan],\n",
    "            \"CI95%\": [(nan, nan)],\n",
    "            \"cohen-d\": [nan],\n",
    "        })\n",
    "\n",
    "    res: Series = df_reranked[[\n",
    "        \"name\", \"team\", \"run\", \"reranker\", \"measure\",\n",
    "        \"value_aggregated\", \"value_original_aggregated\", \"value_optimal_aggregated\"\n",
    "    ]].iloc[0]\n",
    "    res[\"run_rank\"] = run_rank\n",
    "    res[\"run_rank_original\"] = run_rank_original\n",
    "    res[\"reranker_index\"] = reranker_index[reranker]\n",
    "    res[\"p_value\"] = stats[\"p-val\"].iloc[0]\n",
    "    res[\"p_value_corrected\"] = stats[\"p-val\"].iloc[0] * correction_n\n",
    "    res[\"ci95_low\"] = stats[\"CI95%\"].iloc[0][0]\n",
    "    res[\"ci95_high\"] = stats[\"CI95%\"].iloc[0][1]\n",
    "    res[\"cohen_d\"] = stats[\"cohen-d\"].iloc[0]\n",
    "    return res\n",
    "\n",
    "\n",
    "df_table = DataFrame([\n",
    "    table_row(\n",
    "        df_table_measure,\n",
    "        measure,\n",
    "        run,\n",
    "        reranker,\n",
    "    )\n",
    "    for reranker in rerankers_table.keys()\n",
    "    for measure, df_table_measure in df_table.groupby(\"measure\", dropna=False, sort=False)\n",
    "    for run in df_table[\"run\"].unique()\n",
    "])\n",
    "\n",
    "df_table.sort_values([\"measure\", \"reranker_index\", \"run_rank\"], ascending=[False, True, True], inplace=True)\n",
    "\n",
    "df_table"
   ],
   "metadata": {
    "collapsed": false,
    "ExecuteTime": {
     "end_time": "2023-09-07T21:20:35.928422238Z",
     "start_time": "2023-09-07T21:20:27.936288180Z"
    }
   }
  },
  {
   "cell_type": "code",
   "execution_count": 99,
   "outputs": [
    {
     "data": {
      "text/plain": "                                                name          team  \\\n6  Captain-Levi levirank_dense_initial_retrieval ...  Captain-Levi   \n6  Captain-Levi levirank_baseline_large_duo_t5 + ...  Captain-Levi   \n6  Captain-Levi levirank_psuedo_relevance_feedbac...  Captain-Levi   \n6  Captain-Levi levirank_voting_retrieval + stanc...  Captain-Levi   \n6  Captain-Levi levirank_psuedo_relevance_feedbac...  Captain-Levi   \n6  Captain-Levi levirank_baseline_large_duo_t5 + ...  Captain-Levi   \n6  Captain-Levi levirank_dense_initial_retrieval ...  Captain-Levi   \n6  Captain-Levi levirank_psuedo_relevance_feedbac...  Captain-Levi   \n6  Captain-Levi levirank_voting_retrieval + stanc...  Captain-Levi   \n6  Captain-Levi levirank_psuedo_relevance_feedbac...  Captain-Levi   \n\n                                                 run        reranker  \\\n6      Captain-Levi levirank_dense_initial_retrieval  stance-first@5   \n6        Captain-Levi levirank_baseline_large_duo_t5  stance-first@5   \n6  Captain-Levi levirank_psuedo_relevance_feedbac...  stance-first@5   \n6             Captain-Levi levirank_voting_retrieval  stance-first@5   \n6    Captain-Levi levirank_psuedo_relevance_feedback  stance-first@5   \n6        Captain-Levi levirank_baseline_large_duo_t5  stance-first@5   \n6      Captain-Levi levirank_dense_initial_retrieval  stance-first@5   \n6  Captain-Levi levirank_psuedo_relevance_feedbac...  stance-first@5   \n6             Captain-Levi levirank_voting_retrieval  stance-first@5   \n6    Captain-Levi levirank_psuedo_relevance_feedback  stance-first@5   \n\n        measure  value_aggregated  value_original_aggregated  \\\n6   nDCG@5 rel.           0.75434                    0.75772   \n6   nDCG@5 rel.           0.75214                    0.75512   \n6   nDCG@5 rel.           0.75326                    0.75280   \n6   nDCG@5 rel.           0.72734                    0.72734   \n6   nDCG@5 rel.           0.72200                    0.72146   \n6  nDCG@5 qual.           0.74056                    0.74238   \n6  nDCG@5 qual.           0.74174                    0.74396   \n6  nDCG@5 qual.           0.73000                    0.72954   \n6  nDCG@5 qual.           0.70624                    0.70624   \n6  nDCG@5 qual.           0.69576                    0.69524   \n\n   value_optimal_aggregated  run_rank  run_rank_original  reranker_index  \\\n6                   0.81460         2                  1               6   \n6                   0.81528         3                  2               6   \n6                   0.81268         3                  3               6   \n6                   0.79032         4                  4               6   \n6                   0.78258         5                  5               6   \n6                   0.82204         5                  5               6   \n6                   0.82096         5                  4               6   \n6                   0.79282         6                  6               6   \n6                   0.75666         7                  7               6   \n6                   0.76612         8                  8               6   \n\n    p_value  p_value_corrected  ci95_low  ci95_high   cohen_d  \n6  0.322223           2.577787      -0.0       0.01  0.018782  \n6  0.322223           2.577787      -0.0       0.01  0.016205  \n6  0.322223           2.577787      -0.0       0.00  0.003068  \n6       NaN                NaN       NaN        NaN       NaN  \n6  0.322223           2.577787      -0.0       0.00  0.002721  \n6  0.158382           1.267057      -0.0       0.00  0.008713  \n6  0.135244           1.081953      -0.0       0.01  0.010541  \n6  0.322223           2.577787      -0.0       0.00  0.002077  \n6       NaN                NaN       NaN        NaN       NaN  \n6  0.322223           2.577787      -0.0       0.00  0.002297  ",
      "text/html": "<div>\n<style scoped>\n    .dataframe tbody tr th:only-of-type {\n        vertical-align: middle;\n    }\n\n    .dataframe tbody tr th {\n        vertical-align: top;\n    }\n\n    .dataframe thead th {\n        text-align: right;\n    }\n</style>\n<table border=\"1\" class=\"dataframe\">\n  <thead>\n    <tr style=\"text-align: right;\">\n      <th></th>\n      <th>name</th>\n      <th>team</th>\n      <th>run</th>\n      <th>reranker</th>\n      <th>measure</th>\n      <th>value_aggregated</th>\n      <th>value_original_aggregated</th>\n      <th>value_optimal_aggregated</th>\n      <th>run_rank</th>\n      <th>run_rank_original</th>\n      <th>reranker_index</th>\n      <th>p_value</th>\n      <th>p_value_corrected</th>\n      <th>ci95_low</th>\n      <th>ci95_high</th>\n      <th>cohen_d</th>\n    </tr>\n  </thead>\n  <tbody>\n    <tr>\n      <th>6</th>\n      <td>Captain-Levi levirank_dense_initial_retrieval ...</td>\n      <td>Captain-Levi</td>\n      <td>Captain-Levi levirank_dense_initial_retrieval</td>\n      <td>stance-first@5</td>\n      <td>nDCG@5 rel.</td>\n      <td>0.75434</td>\n      <td>0.75772</td>\n      <td>0.81460</td>\n      <td>2</td>\n      <td>1</td>\n      <td>6</td>\n      <td>0.322223</td>\n      <td>2.577787</td>\n      <td>-0.0</td>\n      <td>0.01</td>\n      <td>0.018782</td>\n    </tr>\n    <tr>\n      <th>6</th>\n      <td>Captain-Levi levirank_baseline_large_duo_t5 + ...</td>\n      <td>Captain-Levi</td>\n      <td>Captain-Levi levirank_baseline_large_duo_t5</td>\n      <td>stance-first@5</td>\n      <td>nDCG@5 rel.</td>\n      <td>0.75214</td>\n      <td>0.75512</td>\n      <td>0.81528</td>\n      <td>3</td>\n      <td>2</td>\n      <td>6</td>\n      <td>0.322223</td>\n      <td>2.577787</td>\n      <td>-0.0</td>\n      <td>0.01</td>\n      <td>0.016205</td>\n    </tr>\n    <tr>\n      <th>6</th>\n      <td>Captain-Levi levirank_psuedo_relevance_feedbac...</td>\n      <td>Captain-Levi</td>\n      <td>Captain-Levi levirank_psuedo_relevance_feedbac...</td>\n      <td>stance-first@5</td>\n      <td>nDCG@5 rel.</td>\n      <td>0.75326</td>\n      <td>0.75280</td>\n      <td>0.81268</td>\n      <td>3</td>\n      <td>3</td>\n      <td>6</td>\n      <td>0.322223</td>\n      <td>2.577787</td>\n      <td>-0.0</td>\n      <td>0.00</td>\n      <td>0.003068</td>\n    </tr>\n    <tr>\n      <th>6</th>\n      <td>Captain-Levi levirank_voting_retrieval + stanc...</td>\n      <td>Captain-Levi</td>\n      <td>Captain-Levi levirank_voting_retrieval</td>\n      <td>stance-first@5</td>\n      <td>nDCG@5 rel.</td>\n      <td>0.72734</td>\n      <td>0.72734</td>\n      <td>0.79032</td>\n      <td>4</td>\n      <td>4</td>\n      <td>6</td>\n      <td>NaN</td>\n      <td>NaN</td>\n      <td>NaN</td>\n      <td>NaN</td>\n      <td>NaN</td>\n    </tr>\n    <tr>\n      <th>6</th>\n      <td>Captain-Levi levirank_psuedo_relevance_feedbac...</td>\n      <td>Captain-Levi</td>\n      <td>Captain-Levi levirank_psuedo_relevance_feedback</td>\n      <td>stance-first@5</td>\n      <td>nDCG@5 rel.</td>\n      <td>0.72200</td>\n      <td>0.72146</td>\n      <td>0.78258</td>\n      <td>5</td>\n      <td>5</td>\n      <td>6</td>\n      <td>0.322223</td>\n      <td>2.577787</td>\n      <td>-0.0</td>\n      <td>0.00</td>\n      <td>0.002721</td>\n    </tr>\n    <tr>\n      <th>6</th>\n      <td>Captain-Levi levirank_baseline_large_duo_t5 + ...</td>\n      <td>Captain-Levi</td>\n      <td>Captain-Levi levirank_baseline_large_duo_t5</td>\n      <td>stance-first@5</td>\n      <td>nDCG@5 qual.</td>\n      <td>0.74056</td>\n      <td>0.74238</td>\n      <td>0.82204</td>\n      <td>5</td>\n      <td>5</td>\n      <td>6</td>\n      <td>0.158382</td>\n      <td>1.267057</td>\n      <td>-0.0</td>\n      <td>0.00</td>\n      <td>0.008713</td>\n    </tr>\n    <tr>\n      <th>6</th>\n      <td>Captain-Levi levirank_dense_initial_retrieval ...</td>\n      <td>Captain-Levi</td>\n      <td>Captain-Levi levirank_dense_initial_retrieval</td>\n      <td>stance-first@5</td>\n      <td>nDCG@5 qual.</td>\n      <td>0.74174</td>\n      <td>0.74396</td>\n      <td>0.82096</td>\n      <td>5</td>\n      <td>4</td>\n      <td>6</td>\n      <td>0.135244</td>\n      <td>1.081953</td>\n      <td>-0.0</td>\n      <td>0.01</td>\n      <td>0.010541</td>\n    </tr>\n    <tr>\n      <th>6</th>\n      <td>Captain-Levi levirank_psuedo_relevance_feedbac...</td>\n      <td>Captain-Levi</td>\n      <td>Captain-Levi levirank_psuedo_relevance_feedbac...</td>\n      <td>stance-first@5</td>\n      <td>nDCG@5 qual.</td>\n      <td>0.73000</td>\n      <td>0.72954</td>\n      <td>0.79282</td>\n      <td>6</td>\n      <td>6</td>\n      <td>6</td>\n      <td>0.322223</td>\n      <td>2.577787</td>\n      <td>-0.0</td>\n      <td>0.00</td>\n      <td>0.002077</td>\n    </tr>\n    <tr>\n      <th>6</th>\n      <td>Captain-Levi levirank_voting_retrieval + stanc...</td>\n      <td>Captain-Levi</td>\n      <td>Captain-Levi levirank_voting_retrieval</td>\n      <td>stance-first@5</td>\n      <td>nDCG@5 qual.</td>\n      <td>0.70624</td>\n      <td>0.70624</td>\n      <td>0.75666</td>\n      <td>7</td>\n      <td>7</td>\n      <td>6</td>\n      <td>NaN</td>\n      <td>NaN</td>\n      <td>NaN</td>\n      <td>NaN</td>\n      <td>NaN</td>\n    </tr>\n    <tr>\n      <th>6</th>\n      <td>Captain-Levi levirank_psuedo_relevance_feedbac...</td>\n      <td>Captain-Levi</td>\n      <td>Captain-Levi levirank_psuedo_relevance_feedback</td>\n      <td>stance-first@5</td>\n      <td>nDCG@5 qual.</td>\n      <td>0.69576</td>\n      <td>0.69524</td>\n      <td>0.76612</td>\n      <td>8</td>\n      <td>8</td>\n      <td>6</td>\n      <td>0.322223</td>\n      <td>2.577787</td>\n      <td>-0.0</td>\n      <td>0.00</td>\n      <td>0.002297</td>\n    </tr>\n  </tbody>\n</table>\n</div>"
     },
     "execution_count": 99,
     "metadata": {},
     "output_type": "execute_result"
    }
   ],
   "source": [
    "df_table[(df_table[\"team\"] == \"Captain-Levi\") & (df_table[\"reranker\"] == \"stance-first@5\")]"
   ],
   "metadata": {
    "collapsed": false,
    "ExecuteTime": {
     "end_time": "2023-09-07T21:20:35.946691871Z",
     "start_time": "2023-09-07T21:20:35.909345955Z"
    }
   }
  },
  {
   "cell_type": "code",
   "execution_count": 110,
   "outputs": [
    {
     "name": "stdout",
     "output_type": "stream",
     "text": [
      "\\begin{tabular}{@{}l@{\\hspace{0.75\\tabcolsep}}l@{\\hspace{3\\tabcolsep}}r@{\\hspace{0.75\\tabcolsep}}r@{\\hspace{3\\tabcolsep}}r@{\\hspace{3\\tabcolsep}}r@{\\hspace{0.75\\tabcolsep}}rr@{\\hspace{0.75\\tabcolsep}}r@{\\hspace{3\\tabcolsep}}r@{\\hspace{0.75\\tabcolsep}}rr@{\\hspace{0.75\\tabcolsep}}r@{\\hspace{3\\tabcolsep}}r@{\\hspace{0.75\\tabcolsep}}rr@{\\hspace{0.75\\tabcolsep}}r@{\\hspace{3\\tabcolsep}}r@{\\hspace{0.75\\tabcolsep}}rr@{\\hspace{0.75\\tabcolsep}}r@{\\hspace{3\\tabcolsep}}r@{\\hspace{0.75\\tabcolsep}}rr@{\\hspace{0.75\\tabcolsep}}r@{\\hspace{3\\tabcolsep}}r@{\\hspace{0.75\\tabcolsep}}rr@{\\hspace{0.75\\tabcolsep}}r@{}}\n",
      "    \\toprule\n",
      "    \\multicolumn{2}{@{}l}{\\textbf{Run}} & \\multicolumn{2}{@{}c@{\\hspace{3\\tabcolsep}}}{\\textbf{Touch{\\'e}}} & \\multicolumn{1}{@{}c@{\\hspace{3\\tabcolsep}}}{\\textbf{Opt.}} & \\multicolumn{4}{@{}c@{\\hspace{3\\tabcolsep}}}{\\textbf{Oracle~{\\tiny(\\fone\\tinymathsymbol{\\bm{=}}1.00)}}} & \\multicolumn{4}{@{}c@{\\hspace{3\\tabcolsep}}}{\\textbf{Simul.~{\\tiny(\\fone\\tinymathsymbol{\\bm{\\approx}}0.75)}}} & \\multicolumn{4}{@{}c@{\\hspace{3\\tabcolsep}}}{\\textbf{GPT-3~{\\tiny(\\fone\\tinymathsymbol{\\bm{=}}0.49)}}} & \\multicolumn{4}{@{}c@{\\hspace{3\\tabcolsep}}}{\\textbf{Flan-T5~{\\tiny(\\fone\\tinymathsymbol{\\bm{=}}0.39)}}} & \\multicolumn{4}{@{}c@{\\hspace{3\\tabcolsep}}}{\\textbf{\\kern-0.25em RoBERTa~{\\tiny(\\fone\\tinymathsymbol{\\bm{=}}0.34)}\\kern-0.25em}} & \\multicolumn{4}{@{}c@{}}{\\textbf{Orig.~{\\tiny(\\fone\\tinymathsymbol{\\bm{\\leq}}0.31)}}} \\\\\n",
      "    \\cmidrule(r{3\\tabcolsep}){3-4}\\cmidrule(r{3\\tabcolsep}){5-5}\\cmidrule(r{3\\tabcolsep}){6-9}\\cmidrule(r{3\\tabcolsep}){10-13}\\cmidrule(r{3\\tabcolsep}){14-17}\\cmidrule(r{3\\tabcolsep}){18-21}\\cmidrule(r{3\\tabcolsep}){22-25}\\cmidrule(){26-29}\n",
      "     &  & \\multicolumn{1}{@{}l}{Score\\kern-1em} & \\# & \\kern-0.1emScore\\kern-0.1em & \\multicolumn{1}{@{}l}{Score\\kern-1em} & \\multicolumn{1}{c}{\\tiny$\\Delta$} & \\# & \\multicolumn{1}{c}{\\tiny$\\Delta$} & \\multicolumn{1}{@{}l}{Score\\kern-1em} & \\multicolumn{1}{c}{\\tiny$\\Delta$} & \\# & \\multicolumn{1}{c}{\\tiny$\\Delta$} & \\multicolumn{1}{@{}l}{Score\\kern-1em} & \\multicolumn{1}{c}{\\tiny$\\Delta$} & \\# & \\multicolumn{1}{c}{\\tiny$\\Delta$} & \\multicolumn{1}{@{}l}{Score\\kern-1em} & \\multicolumn{1}{c}{\\tiny$\\Delta$} & \\# & \\multicolumn{1}{c}{\\tiny$\\Delta$} & \\multicolumn{1}{@{}l}{Score\\kern-1em} & \\multicolumn{1}{c}{\\tiny$\\Delta$} & \\# & \\multicolumn{1}{c}{\\tiny$\\Delta$} & \\multicolumn{1}{@{}l}{Score\\kern-1em} & \\multicolumn{1}{c}{\\tiny$\\Delta$} & \\# & \\multicolumn{1}{c}{\\tiny$\\Delta$} \\\\\n",
      "    \\midrule\n",
      "    \\multicolumn{29}{@{}l@{}}{\\textit{Topical relevance}} \\\\\n",
      "    \\midrule\n",
      "    Captain L. & B & 0.76 & 1 & 0.81 & \\significant{0.79} & \\scorediffgt{0.03} & 1 & \\rankdiffeq{0} & 0.78 & \\scorediffgt{0.02} & 1 & \\rankdiffeq{0} & 0.78 & \\scorediffgt{0.02} & 1 & \\rankdiffeq{0} & 0.76 & \\scorediffeq{0.00} & 1 & \\rankdiffeq{0} & 0.77 & \\scorediffgt{0.01} & 1 & \\rankdiffeq{0} & 0.75 & \\scoredifflt{0.01} & 2 & \\rankdiffgt{1} \\\\\n",
      "    Captain L. & A & 0.76 & 2 & 0.82 & \\significant{0.79} & \\scorediffgt{0.03} & 1 & \\rankdifflt{1} & 0.77 & \\scorediffgt{0.01} & 1 & \\rankdifflt{1} & 0.78 & \\scorediffgt{0.02} & 1 & \\rankdifflt{1} & 0.76 & \\scorediffeq{0.00} & 1 & \\rankdifflt{1} & 0.76 & \\scorediffeq{0.00} & 1 & \\rankdifflt{1} & 0.75 & \\scoredifflt{0.01} & 3 & \\rankdiffgt{1} \\\\\n",
      "    Captain L. & D & 0.75 & 3 & 0.81 & \\significant{0.78} & \\scorediffgt{0.03} & 1 & \\rankdifflt{2} & 0.77 & \\scorediffgt{0.02} & 1 & \\rankdifflt{2} & 0.77 & \\scorediffgt{0.02} & 1 & \\rankdifflt{2} & 0.76 & \\scorediffgt{0.01} & 1 & \\rankdifflt{2} & 0.75 & \\scorediffeq{0.00} & 3 & \\rankdiffeq{0} & 0.75 & \\scorediffeq{0.00} & 3 & \\rankdiffeq{0} \\\\\n",
      "    Captain L. & E & 0.73 & 4 & 0.79 & \\significant{0.75} & \\scorediffgt{0.02} & 4 & \\rankdiffeq{0} & 0.74 & \\scorediffgt{0.01} & 4 & \\rankdiffeq{0} & 0.74 & \\scorediffgt{0.01} & 4 & \\rankdiffeq{0} & 0.72 & \\scoredifflt{0.01} & 4 & \\rankdiffeq{0} & 0.73 & \\scorediffeq{0.00} & 4 & \\rankdiffeq{0} & 0.73 & \\scorediffeq{0.00} & 4 & \\rankdiffeq{0} \\\\\n",
      "    Captain L. & C & 0.72 & 5 & 0.78 & \\significant{0.75} & \\scorediffgt{0.03} & 4 & \\rankdifflt{1} & 0.75 & \\scorediffgt{0.03} & 4 & \\rankdifflt{1} & 0.74 & \\scorediffgt{0.02} & 4 & \\rankdifflt{1} & 0.72 & \\scorediffeq{0.00} & 5 & \\rankdiffeq{0} & 0.73 & \\scorediffgt{0.01} & 5 & \\rankdiffeq{0} & 0.72 & \\scorediffeq{0.00} & 5 & \\rankdiffeq{0} \\\\\n",
      "    Aldo Nadi & E & 0.71 & 6 & 0.77 & \\significant{0.74} & \\scorediffgt{0.03} & 4 & \\rankdifflt{2} & 0.73 & \\scorediffgt{0.02} & 4 & \\rankdifflt{2} & 0.72 & \\scorediffgt{0.01} & 6 & \\rankdiffeq{0} & 0.71 & \\scorediffeq{0.00} & 6 & \\rankdiffeq{0} & 0.71 & \\scorediffeq{0.00} & 6 & \\rankdiffeq{0} & \\hidden{0.71} & \\hidden{\\scorediffeq{0.00}} & \\hidden{6} & \\hidden{\\rankdiffeq{0}} \\\\\n",
      "    Aldo Nadi & A & 0.70 & 7 & 0.75 & \\significant{0.73} & \\scorediffgt{0.03} & 4 & \\rankdifflt{3} & 0.72 & \\scorediffgt{0.02} & 6 & \\rankdifflt{1} & 0.70 & \\scorediffeq{0.00} & 7 & \\rankdiffeq{0} & 0.71 & \\scorediffgt{0.01} & 6 & \\rankdifflt{1} & 0.70 & \\scorediffeq{0.00} & 7 & \\rankdiffeq{0} & \\hidden{0.70} & \\hidden{\\scorediffeq{0.00}} & \\hidden{7} & \\hidden{\\rankdiffeq{0}} \\\\\n",
      "    Aldo Nadi & D & 0.67 & 8 & 0.73 & \\significant{0.70} & \\scorediffgt{0.03} & 7 & \\rankdifflt{1} & 0.69 & \\scorediffgt{0.02} & 8 & \\rankdiffeq{0} & 0.68 & \\scorediffgt{0.01} & 8 & \\rankdiffeq{0} & 0.68 & \\scorediffgt{0.01} & 8 & \\rankdiffeq{0} & 0.68 & \\scorediffgt{0.01} & 8 & \\rankdiffeq{0} & \\hidden{0.67} & \\hidden{\\scorediffeq{0.00}} & \\hidden{8} & \\hidden{\\rankdiffeq{0}} \\\\\n",
      "    Aldo Nadi & C & 0.64 & 9 & 0.70 & \\significant{0.67} & \\scorediffgt{0.03} & 8 & \\rankdifflt{1} & \\significant{0.67} & \\scorediffgt{0.03} & 9 & \\rankdiffeq{0} & 0.65 & \\scorediffgt{0.01} & 9 & \\rankdiffeq{0} & 0.64 & \\scorediffeq{0.00} & 9 & \\rankdiffeq{0} & 0.63 & \\scoredifflt{0.01} & 9 & \\rankdiffeq{0} & \\hidden{0.64} & \\hidden{\\scorediffeq{0.00}} & \\hidden{9} & \\hidden{\\rankdiffeq{0}} \\\\\n",
      "    Katana & A & 0.62 & 10 & 0.69 & \\significant{0.65} & \\scorediffgt{0.03} & 9 & \\rankdifflt{1} & \\significant{0.64} & \\scorediffgt{0.02} & 9 & \\rankdifflt{1} & \\significant{0.65} & \\scorediffgt{0.03} & 9 & \\rankdifflt{1} & 0.63 & \\scorediffgt{0.01} & 10 & \\rankdiffeq{0} & 0.62 & \\scorediffeq{0.00} & 10 & \\rankdiffeq{0} & 0.62 & \\scorediffeq{0.00} & 10 & \\rankdiffeq{0} \\\\\n",
      "    Katana & C & 0.60 & 11 & 0.67 & \\significant{0.64} & \\scorediffgt{0.04} & 9 & \\rankdifflt{2} & \\significant{0.63} & \\scorediffgt{0.03} & 10 & \\rankdifflt{1} & \\significant{0.62} & \\scorediffgt{0.02} & 10 & \\rankdifflt{1} & 0.61 & \\scorediffgt{0.01} & 11 & \\rankdiffeq{0} & 0.60 & \\scorediffeq{0.00} & 11 & \\rankdiffeq{0} & 0.60 & \\scorediffeq{0.00} & 11 & \\rankdiffeq{0} \\\\\n",
      "    Captain T. & A & 0.57 & 12 & 0.64 & \\significant{0.61} & \\scorediffgt{0.04} & 11 & \\rankdifflt{1} & \\significant{0.61} & \\scorediffgt{0.04} & 11 & \\rankdifflt{1} & 0.59 & \\scorediffgt{0.02} & 12 & \\rankdiffeq{0} & 0.58 & \\scorediffgt{0.01} & 12 & \\rankdiffeq{0} & 0.58 & \\scorediffgt{0.01} & 12 & \\rankdiffeq{0} & \\hidden{0.57} & \\hidden{\\scorediffeq{0.00}} & \\hidden{12} & \\hidden{\\rankdiffeq{0}} \\\\\n",
      "    Captain T. & B & 0.57 & 13 & 0.64 & \\significant{0.61} & \\scorediffgt{0.04} & 11 & \\rankdifflt{2} & 0.59 & \\scorediffgt{0.02} & 12 & \\rankdifflt{1} & 0.58 & \\scorediffgt{0.01} & 12 & \\rankdifflt{1} & 0.57 & \\scorediffeq{0.00} & 13 & \\rankdiffeq{0} & 0.57 & \\scorediffeq{0.00} & 13 & \\rankdiffeq{0} & \\hidden{0.57} & \\hidden{\\scorediffeq{0.00}} & \\hidden{13} & \\hidden{\\rankdiffeq{0}} \\\\\n",
      "    Captain T. & C & 0.56 & 14 & 0.62 & \\significant{0.59} & \\scorediffgt{0.03} & 12 & \\rankdifflt{2} & 0.58 & \\scorediffgt{0.02} & 12 & \\rankdifflt{2} & 0.57 & \\scorediffgt{0.01} & 13 & \\rankdifflt{1} & 0.57 & \\scorediffgt{0.01} & 14 & \\rankdiffeq{0} & 0.56 & \\scorediffeq{0.00} & 15 & \\rankdiffgt{1} & \\hidden{0.56} & \\hidden{\\scorediffeq{0.00}} & \\hidden{14} & \\hidden{\\rankdiffeq{0}} \\\\\n",
      "    Katana & B & 0.56 & 15 & 0.63 & \\significant{0.60} & \\scorediffgt{0.04} & 11 & \\rankdifflt{4} & \\significant{0.59} & \\scorediffgt{0.03} & 12 & \\rankdifflt{3} & 0.58 & \\scorediffgt{0.02} & 12 & \\rankdifflt{3} & 0.56 & \\scorediffeq{0.00} & 16 & \\rankdiffgt{1} & 0.56 & \\scorediffeq{0.00} & 15 & \\rankdiffeq{0} & 0.56 & \\scorediffeq{0.00} & 15 & \\rankdiffeq{0} \\\\\n",
      "    Captain T. & E & 0.56 & 16 & 0.64 & \\significant{0.60} & \\scorediffgt{0.04} & 12 & \\rankdifflt{4} & \\significant{0.59} & \\scorediffgt{0.03} & 12 & \\rankdifflt{4} & 0.58 & \\scorediffgt{0.02} & 12 & \\rankdifflt{4} & 0.57 & \\scorediffgt{0.01} & 14 & \\rankdifflt{2} & 0.56 & \\scorediffeq{0.00} & 16 & \\rankdiffeq{0} & \\hidden{0.56} & \\hidden{\\scorediffeq{0.00}} & \\hidden{16} & \\hidden{\\rankdiffeq{0}} \\\\\n",
      "    Aldo Nadi & B & 0.55 & 17 & 0.61 & \\significant{0.58} & \\scorediffgt{0.03} & 12 & \\rankdifflt{5} & \\significant{0.57} & \\scorediffgt{0.02} & 14 & \\rankdifflt{3} & 0.56 & \\scorediffgt{0.01} & 16 & \\rankdifflt{1} & 0.55 & \\scorediffeq{0.00} & 17 & \\rankdiffeq{0} & 0.55 & \\scorediffeq{0.00} & 17 & \\rankdiffeq{0} & \\hidden{0.55} & \\hidden{\\scorediffeq{0.00}} & \\hidden{17} & \\hidden{\\rankdiffeq{0}} \\\\\n",
      "    Captain T. & D & 0.54 & 18 & 0.61 & \\significant{0.58} & \\scorediffgt{0.04} & 12 & \\rankdifflt{6} & 0.56 & \\scorediffgt{0.02} & 16 & \\rankdifflt{2} & 0.56 & \\scorediffgt{0.02} & 16 & \\rankdifflt{2} & 0.54 & \\scorediffeq{0.00} & 18 & \\rankdiffeq{0} & 0.54 & \\scorediffeq{0.00} & 18 & \\rankdiffeq{0} & \\hidden{0.54} & \\hidden{\\scorediffeq{0.00}} & \\hidden{18} & \\hidden{\\rankdiffeq{0}} \\\\\n",
      "    Olivier A. & A & 0.48 & 19 & 0.57 & \\significant{0.55} & \\scorediffgt{0.07} & 17 & \\rankdifflt{2} & \\significant{0.53} & \\scorediffgt{0.05} & 19 & \\rankdiffeq{0} & \\significant{0.52} & \\scorediffgt{0.04} & 19 & \\rankdiffeq{0} & 0.50 & \\scorediffgt{0.02} & 19 & \\rankdiffeq{0} & \\significant{0.51} & \\scorediffgt{0.03} & 19 & \\rankdiffeq{0} & 0.49 & \\scorediffgt{0.01} & 19 & \\rankdiffeq{0} \\\\\n",
      "    Puss in B. & A & 0.47 & 20 & 0.55 & \\significant{0.52} & \\scorediffgt{0.05} & 19 & \\rankdifflt{1} & \\significant{0.50} & \\scorediffgt{0.03} & 19 & \\rankdifflt{1} & 0.49 & \\scorediffgt{0.02} & 19 & \\rankdifflt{1} & 0.47 & \\scorediffeq{0.00} & 20 & \\rankdiffeq{0} & 0.47 & \\scorediffeq{0.00} & 20 & \\rankdiffeq{0} & 0.47 & \\scorediffeq{0.00} & 20 & \\rankdiffeq{0} \\\\\n",
      "    Grimjack & E & 0.42 & 21 & 0.48 & \\significant{0.46} & \\scorediffgt{0.04} & 21 & \\rankdiffeq{0} & \\significant{0.45} & \\scorediffgt{0.03} & 21 & \\rankdiffeq{0} & 0.44 & \\scorediffgt{0.02} & 21 & \\rankdiffeq{0} & 0.42 & \\scorediffeq{0.00} & 21 & \\rankdiffeq{0} & 0.43 & \\scorediffgt{0.01} & 21 & \\rankdiffeq{0} & 0.42 & \\scorediffeq{0.00} & 21 & \\rankdiffeq{0} \\\\\n",
      "    Grimjack & C & 0.38 & 22 & 0.46 & \\significant{0.44} & \\scorediffgt{0.06} & 21 & \\rankdifflt{1} & \\significant{0.41} & \\scorediffgt{0.03} & 22 & \\rankdiffeq{0} & \\significant{0.41} & \\scorediffgt{0.03} & 22 & \\rankdiffeq{0} & 0.39 & \\scorediffgt{0.01} & 22 & \\rankdiffeq{0} & 0.40 & \\scorediffgt{0.02} & 22 & \\rankdiffeq{0} & 0.38 & \\scorediffeq{0.00} & 22 & \\rankdiffeq{0} \\\\\n",
      "    Grimjack & B & 0.38 & 23 & 0.46 & \\significant{0.44} & \\scorediffgt{0.06} & 21 & \\rankdifflt{2} & \\significant{0.42} & \\scorediffgt{0.04} & 22 & \\rankdifflt{1} & \\significant{0.41} & \\scorediffgt{0.03} & 22 & \\rankdifflt{1} & 0.39 & \\scorediffgt{0.01} & 22 & \\rankdifflt{1} & 0.40 & \\scorediffgt{0.02} & 22 & \\rankdifflt{1} & 0.38 & \\scorediffeq{0.00} & 23 & \\rankdiffeq{0} \\\\\n",
      "    Grimjack & D & 0.35 & 24 & 0.41 & \\significant{0.38} & \\scorediffgt{0.03} & 22 & \\rankdifflt{2} & 0.36 & \\scorediffgt{0.01} & 24 & \\rankdiffeq{0} & 0.36 & \\scorediffgt{0.01} & 24 & \\rankdiffeq{0} & 0.35 & \\scorediffeq{0.00} & 24 & \\rankdiffeq{0} & 0.35 & \\scorediffeq{0.00} & 24 & \\rankdiffeq{0} & 0.35 & \\scorediffeq{0.00} & 24 & \\rankdiffeq{0} \\\\\n",
      "    Grimjack & A & 0.34 & 25 & 0.43 & \\significant{0.40} & \\scorediffgt{0.06} & 22 & \\rankdifflt{3} & \\significant{0.38} & \\scorediffgt{0.04} & 22 & \\rankdifflt{3} & \\significant{0.38} & \\scorediffgt{0.04} & 22 & \\rankdifflt{3} & 0.37 & \\scorediffgt{0.03} & 24 & \\rankdifflt{1} & 0.37 & \\scorediffgt{0.03} & 24 & \\rankdifflt{1} & 0.34 & \\scorediffeq{0.00} & 25 & \\rankdiffeq{0} \\\\\n",
      "    Asuna & A & 0.26 & 26 & 0.34 & \\significant{0.32} & \\scorediffgt{0.06} & 26 & \\rankdiffeq{0} & \\significant{0.30} & \\scorediffgt{0.04} & 26 & \\rankdiffeq{0} & 0.28 & \\scorediffgt{0.02} & 26 & \\rankdiffeq{0} & 0.27 & \\scorediffgt{0.01} & 26 & \\rankdiffeq{0} & 0.27 & \\scorediffgt{0.01} & 26 & \\rankdiffeq{0} & 0.26 & \\scorediffeq{0.00} & 26 & \\rankdiffeq{0} \\\\\n",
      "    \\midrule\n",
      "    \\multicolumn{29}{@{}l@{}}{\\textit{Argument quality}} \\\\\n",
      "    \\midrule\n",
      "    Aldo Nadi & A & 0.77 & 1 & 0.83 & 0.80 & \\scorediffgt{0.03} & 1 & \\rankdiffeq{0} & 0.78 & \\scorediffgt{0.01} & 1 & \\rankdiffeq{0} & 0.78 & \\scorediffgt{0.01} & 1 & \\rankdiffeq{0} & 0.78 & \\scorediffgt{0.01} & 1 & \\rankdiffeq{0} & 0.78 & \\scorediffgt{0.01} & 1 & \\rankdiffeq{0} & \\hidden{0.77} & \\hidden{\\scorediffeq{0.00}} & \\hidden{1} & \\hidden{\\rankdiffeq{0}} \\\\\n",
      "    Aldo Nadi & C & 0.76 & 2 & 0.81 & \\significant{0.79} & \\scorediffgt{0.03} & 1 & \\rankdifflt{1} & 0.78 & \\scorediffgt{0.02} & 1 & \\rankdifflt{1} & 0.77 & \\scorediffgt{0.01} & 2 & \\rankdiffeq{0} & 0.76 & \\scorediffeq{0.00} & 2 & \\rankdiffeq{0} & 0.76 & \\scorediffeq{0.00} & 2 & \\rankdiffeq{0} & \\hidden{0.76} & \\hidden{\\scorediffeq{0.00}} & \\hidden{2} & \\hidden{\\rankdiffeq{0}} \\\\\n",
      "    Aldo Nadi & E & 0.75 & 3 & 0.80 & \\significant{0.77} & \\scorediffgt{0.02} & 2 & \\rankdifflt{1} & \\significant{0.77} & \\scorediffgt{0.02} & 2 & \\rankdifflt{1} & 0.75 & \\scorediffeq{0.00} & 3 & \\rankdiffeq{0} & 0.74 & \\scoredifflt{0.01} & 3 & \\rankdiffeq{0} & 0.75 & \\scorediffeq{0.00} & 3 & \\rankdiffeq{0} & \\hidden{0.75} & \\hidden{\\scorediffeq{0.00}} & \\hidden{3} & \\hidden{\\rankdiffeq{0}} \\\\\n",
      "    Captain L. & B & 0.74 & 4 & 0.82 & \\significant{0.77} & \\scorediffgt{0.03} & 2 & \\rankdifflt{2} & \\significant{0.77} & \\scorediffgt{0.03} & 2 & \\rankdifflt{2} & \\significant{0.77} & \\scorediffgt{0.03} & 2 & \\rankdifflt{2} & 0.76 & \\scorediffgt{0.02} & 3 & \\rankdifflt{1} & 0.75 & \\scorediffgt{0.01} & 3 & \\rankdifflt{1} & 0.74 & \\scorediffeq{0.00} & 5 & \\rankdiffgt{1} \\\\\n",
      "    Captain L. & A & 0.74 & 5 & 0.82 & \\significant{0.77} & \\scorediffgt{0.03} & 2 & \\rankdifflt{3} & \\significant{0.77} & \\scorediffgt{0.03} & 2 & \\rankdifflt{3} & \\significant{0.77} & \\scorediffgt{0.03} & 2 & \\rankdifflt{3} & \\significant{0.76} & \\scorediffgt{0.02} & 3 & \\rankdifflt{2} & 0.75 & \\scorediffgt{0.01} & 3 & \\rankdifflt{2} & 0.74 & \\scorediffeq{0.00} & 5 & \\rankdiffeq{0} \\\\\n",
      "    Captain L. & D & 0.73 & 6 & 0.79 & \\significant{0.75} & \\scorediffgt{0.02} & 4 & \\rankdifflt{2} & 0.74 & \\scorediffgt{0.01} & 4 & \\rankdifflt{2} & \\significant{0.75} & \\scorediffgt{0.02} & 3 & \\rankdifflt{3} & \\significant{0.75} & \\scorediffgt{0.02} & 4 & \\rankdifflt{2} & 0.73 & \\scorediffeq{0.00} & 6 & \\rankdiffeq{0} & 0.73 & \\scorediffeq{0.00} & 6 & \\rankdiffeq{0} \\\\\n",
      "    Captain L. & E & 0.71 & 7 & 0.76 & \\significant{0.73} & \\scorediffgt{0.02} & 7 & \\rankdiffeq{0} & 0.72 & \\scorediffgt{0.01} & 7 & \\rankdiffeq{0} & 0.72 & \\scorediffgt{0.01} & 7 & \\rankdiffeq{0} & 0.72 & \\scorediffgt{0.01} & 7 & \\rankdiffeq{0} & 0.71 & \\scorediffeq{0.00} & 7 & \\rankdiffeq{0} & 0.71 & \\scorediffeq{0.00} & 7 & \\rankdiffeq{0} \\\\\n",
      "    Captain L. & C & 0.70 & 8 & 0.77 & \\significant{0.72} & \\scorediffgt{0.02} & 7 & \\rankdifflt{1} & 0.71 & \\scorediffgt{0.01} & 7 & \\rankdifflt{1} & \\significant{0.72} & \\scorediffgt{0.02} & 7 & \\rankdifflt{1} & 0.70 & \\scorediffeq{0.00} & 8 & \\rankdiffeq{0} & 0.70 & \\scorediffeq{0.00} & 8 & \\rankdiffeq{0} & 0.70 & \\scorediffeq{0.00} & 8 & \\rankdiffeq{0} \\\\\n",
      "    Aldo Nadi & D & 0.66 & 9 & 0.73 & \\significant{0.69} & \\scorediffgt{0.03} & 9 & \\rankdiffeq{0} & 0.68 & \\scorediffgt{0.02} & 9 & \\rankdiffeq{0} & 0.68 & \\scorediffgt{0.02} & 9 & \\rankdiffeq{0} & 0.67 & \\scorediffgt{0.01} & 9 & \\rankdiffeq{0} & 0.68 & \\scorediffgt{0.02} & 9 & \\rankdiffeq{0} & \\hidden{0.66} & \\hidden{\\scorediffeq{0.00}} & \\hidden{9} & \\hidden{\\rankdiffeq{0}} \\\\\n",
      "    Katana & C & 0.64 & 10 & 0.71 & \\significant{0.67} & \\scorediffgt{0.03} & 9 & \\rankdifflt{1} & \\significant{0.68} & \\scorediffgt{0.04} & 9 & \\rankdifflt{1} & 0.66 & \\scorediffgt{0.02} & 9 & \\rankdifflt{1} & 0.66 & \\scorediffgt{0.02} & 10 & \\rankdiffeq{0} & 0.65 & \\scorediffgt{0.01} & 10 & \\rankdiffeq{0} & 0.64 & \\scorediffeq{0.00} & 10 & \\rankdiffeq{0} \\\\\n",
      "    Katana & A & 0.64 & 11 & 0.72 & \\significant{0.68} & \\scorediffgt{0.04} & 9 & \\rankdifflt{2} & \\significant{0.67} & \\scorediffgt{0.03} & 9 & \\rankdifflt{2} & \\significant{0.67} & \\scorediffgt{0.03} & 9 & \\rankdifflt{2} & 0.66 & \\scorediffgt{0.02} & 10 & \\rankdifflt{1} & 0.65 & \\scorediffgt{0.01} & 10 & \\rankdifflt{1} & 0.64 & \\scorediffeq{0.00} & 11 & \\rankdiffeq{0} \\\\\n",
      "    Katana & B & 0.64 & 12 & 0.70 & \\significant{0.67} & \\scorediffgt{0.03} & 9 & \\rankdifflt{3} & \\significant{0.66} & \\scorediffgt{0.02} & 9 & \\rankdifflt{3} & 0.66 & \\scorediffgt{0.02} & 10 & \\rankdifflt{2} & 0.64 & \\scorediffeq{0.00} & 12 & \\rankdiffeq{0} & 0.64 & \\scorediffeq{0.00} & 11 & \\rankdifflt{1} & 0.64 & \\scorediffeq{0.00} & 12 & \\rankdiffeq{0} \\\\\n",
      "    Captain T. & E & 0.60 & 13 & 0.67 & \\significant{0.63} & \\scorediffgt{0.03} & 13 & \\rankdiffeq{0} & \\significant{0.62} & \\scorediffgt{0.02} & 13 & \\rankdiffeq{0} & \\significant{0.62} & \\scorediffgt{0.02} & 13 & \\rankdiffeq{0} & 0.61 & \\scorediffgt{0.01} & 13 & \\rankdiffeq{0} & 0.60 & \\scorediffeq{0.00} & 13 & \\rankdiffeq{0} & \\hidden{0.60} & \\hidden{\\scorediffeq{0.00}} & \\hidden{13} & \\hidden{\\rankdiffeq{0}} \\\\\n",
      "    Captain T. & B & 0.59 & 14 & 0.65 & \\significant{0.62} & \\scorediffgt{0.03} & 13 & \\rankdifflt{1} & 0.61 & \\scorediffgt{0.02} & 13 & \\rankdifflt{1} & 0.61 & \\scorediffgt{0.02} & 13 & \\rankdifflt{1} & 0.60 & \\scorediffgt{0.01} & 13 & \\rankdifflt{1} & 0.59 & \\scorediffeq{0.00} & 14 & \\rankdiffeq{0} & \\hidden{0.59} & \\hidden{\\scorediffeq{0.00}} & \\hidden{14} & \\hidden{\\rankdiffeq{0}} \\\\\n",
      "    Captain T. & A & 0.59 & 15 & 0.65 & \\significant{0.62} & \\scorediffgt{0.03} & 13 & \\rankdifflt{2} & \\significant{0.62} & \\scorediffgt{0.03} & 13 & \\rankdifflt{2} & 0.61 & \\scorediffgt{0.02} & 13 & \\rankdifflt{2} & 0.60 & \\scorediffgt{0.01} & 14 & \\rankdifflt{1} & 0.59 & \\scorediffeq{0.00} & 15 & \\rankdiffeq{0} & \\hidden{0.59} & \\hidden{\\scorediffeq{0.00}} & \\hidden{15} & \\hidden{\\rankdiffeq{0}} \\\\\n",
      "    Captain T. & C & 0.58 & 16 & 0.64 & \\significant{0.61} & \\scorediffgt{0.03} & 13 & \\rankdifflt{3} & 0.60 & \\scorediffgt{0.02} & 13 & \\rankdifflt{3} & 0.60 & \\scorediffgt{0.02} & 13 & \\rankdifflt{3} & 0.59 & \\scorediffgt{0.01} & 15 & \\rankdifflt{1} & 0.58 & \\scorediffeq{0.00} & 16 & \\rankdiffeq{0} & \\hidden{0.58} & \\hidden{\\scorediffeq{0.00}} & \\hidden{16} & \\hidden{\\rankdiffeq{0}} \\\\\n",
      "    Olivier A. & A & 0.57 & 17 & 0.65 & \\significant{0.62} & \\scorediffgt{0.05} & 13 & \\rankdifflt{4} & \\significant{0.61} & \\scorediffgt{0.04} & 13 & \\rankdifflt{4} & \\significant{0.61} & \\scorediffgt{0.04} & 13 & \\rankdifflt{4} & 0.59 & \\scorediffgt{0.02} & 16 & \\rankdifflt{1} & 0.59 & \\scorediffgt{0.02} & 15 & \\rankdifflt{2} & 0.58 & \\scorediffgt{0.01} & 17 & \\rankdiffeq{0} \\\\\n",
      "    Aldo Nadi & B & 0.57 & 18 & 0.63 & \\significant{0.60} & \\scorediffgt{0.03} & 13 & \\rankdifflt{5} & 0.58 & \\scorediffgt{0.01} & 16 & \\rankdifflt{2} & 0.58 & \\scorediffgt{0.01} & 17 & \\rankdifflt{1} & 0.58 & \\scorediffgt{0.01} & 17 & \\rankdifflt{1} & 0.58 & \\scorediffgt{0.01} & 16 & \\rankdifflt{2} & \\hidden{0.57} & \\hidden{\\scorediffeq{0.00}} & \\hidden{18} & \\hidden{\\rankdiffeq{0}} \\\\\n",
      "    Captain T. & D & 0.57 & 19 & 0.65 & \\significant{0.61} & \\scorediffgt{0.04} & 13 & \\rankdifflt{6} & \\significant{0.60} & \\scorediffgt{0.03} & 13 & \\rankdifflt{6} & \\significant{0.59} & \\scorediffgt{0.02} & 15 & \\rankdifflt{4} & 0.58 & \\scorediffgt{0.01} & 17 & \\rankdifflt{2} & 0.57 & \\scorediffeq{0.00} & 17 & \\rankdifflt{2} & \\hidden{0.57} & \\hidden{\\scorediffeq{0.00}} & \\hidden{19} & \\hidden{\\rankdiffeq{0}} \\\\\n",
      "    Puss in B. & A & 0.48 & 20 & 0.54 & \\significant{0.51} & \\scorediffgt{0.02} & 20 & \\rankdiffeq{0} & 0.49 & \\scorediffgt{0.01} & 20 & \\rankdiffeq{0} & 0.49 & \\scorediffgt{0.01} & 20 & \\rankdiffeq{0} & 0.49 & \\scorediffgt{0.01} & 20 & \\rankdiffeq{0} & 0.50 & \\scorediffgt{0.02} & 20 & \\rankdiffeq{0} & 0.48 & \\scorediffeq{0.00} & 20 & \\rankdiffeq{0} \\\\\n",
      "    Grimjack & E & 0.40 & 21 & 0.47 & \\significant{0.44} & \\scorediffgt{0.04} & 21 & \\rankdiffeq{0} & 0.42 & \\scorediffgt{0.02} & 21 & \\rankdiffeq{0} & \\significant{0.42} & \\scorediffgt{0.02} & 21 & \\rankdiffeq{0} & 0.41 & \\scorediffgt{0.01} & 21 & \\rankdiffeq{0} & \\significant{0.43} & \\scorediffgt{0.03} & 21 & \\rankdiffeq{0} & 0.40 & \\scorediffeq{0.00} & 21 & \\rankdiffeq{0} \\\\\n",
      "    Grimjack & D & 0.37 & 22 & 0.42 & \\significant{0.39} & \\scorediffgt{0.02} & 22 & \\rankdiffeq{0} & 0.38 & \\scorediffgt{0.01} & 22 & \\rankdiffeq{0} & 0.38 & \\scorediffgt{0.01} & 22 & \\rankdiffeq{0} & 0.38 & \\scorediffgt{0.01} & 22 & \\rankdiffeq{0} & 0.37 & \\scorediffeq{0.00} & 22 & \\rankdiffeq{0} & 0.37 & \\scorediffeq{0.00} & 22 & \\rankdiffeq{0} \\\\\n",
      "    Grimjack & C & 0.36 & 23 & 0.44 & \\significant{0.41} & \\scorediffgt{0.05} & 21 & \\rankdifflt{2} & \\significant{0.40} & \\scorediffgt{0.04} & 22 & \\rankdifflt{1} & \\significant{0.39} & \\scorediffgt{0.03} & 22 & \\rankdifflt{1} & \\significant{0.39} & \\scorediffgt{0.03} & 22 & \\rankdifflt{1} & \\significant{0.40} & \\scorediffgt{0.04} & 22 & \\rankdifflt{1} & 0.36 & \\scorediffeq{0.00} & 23 & \\rankdiffeq{0} \\\\\n",
      "    Grimjack & B & 0.36 & 24 & 0.44 & \\significant{0.41} & \\scorediffgt{0.05} & 21 & \\rankdifflt{3} & \\significant{0.40} & \\scorediffgt{0.04} & 22 & \\rankdifflt{2} & \\significant{0.39} & \\scorediffgt{0.03} & 22 & \\rankdifflt{2} & \\significant{0.39} & \\scorediffgt{0.03} & 22 & \\rankdifflt{2} & \\significant{0.40} & \\scorediffgt{0.04} & 22 & \\rankdifflt{2} & 0.36 & \\scorediffeq{0.00} & 24 & \\rankdiffeq{0} \\\\\n",
      "    Grimjack & A & 0.34 & 25 & 0.42 & \\significant{0.39} & \\scorediffgt{0.05} & 22 & \\rankdifflt{3} & \\significant{0.38} & \\scorediffgt{0.04} & 22 & \\rankdifflt{3} & \\significant{0.38} & \\scorediffgt{0.04} & 22 & \\rankdifflt{3} & \\significant{0.38} & \\scorediffgt{0.04} & 22 & \\rankdifflt{3} & 0.36 & \\scorediffgt{0.02} & 25 & \\rankdiffeq{0} & 0.34 & \\scorediffeq{0.00} & 25 & \\rankdiffeq{0} \\\\\n",
      "    Asuna & A & 0.33 & 26 & 0.42 & \\significant{0.38} & \\scorediffgt{0.05} & 22 & \\rankdifflt{4} & \\significant{0.37} & \\scorediffgt{0.04} & 22 & \\rankdifflt{4} & 0.35 & \\scorediffgt{0.02} & 25 & \\rankdifflt{1} & 0.35 & \\scorediffgt{0.02} & 25 & \\rankdifflt{1} & 0.35 & \\scorediffgt{0.02} & 25 & \\rankdifflt{1} & 0.33 & \\scorediffeq{0.00} & 26 & \\rankdiffeq{0} \\\\\n",
      "    \\bottomrule\n",
      "\\end{tabular}\n"
     ]
    }
   ],
   "source": [
    "small_sep_factor = 0.75\n",
    "extra_sep_factor = 3\n",
    "parts = [\"l\", r\"@{\\hspace{\" + f\"{small_sep_factor}\" + r\"\\tabcolsep}}\", \"l\"]\n",
    "for i, (reranker, df_reranker) in enumerate(df_table.groupby(\"reranker\", dropna=False, sort=False)):\n",
    "    parts.append(r\"@{\\hspace{\" + f\"{extra_sep_factor}\" + r\"\\tabcolsep}}\")\n",
    "    if isna(reranker):\n",
    "        parts.append(\"r\")\n",
    "        parts.append(r\"@{\\hspace{\" + f\"{small_sep_factor}\" + r\"\\tabcolsep}}\")\n",
    "        parts.append(\"r\")\n",
    "        parts.append(r\"@{\\hspace{\" + f\"{extra_sep_factor}\" + r\"\\tabcolsep}}\")\n",
    "        parts.append(\"r\")\n",
    "    else:\n",
    "        parts.append(\"r\")\n",
    "        parts.append(r\"@{\\hspace{\" + f\"{small_sep_factor}\" + r\"\\tabcolsep}}\")\n",
    "        parts.append(\"r\")\n",
    "        parts.append(\"r\")\n",
    "        parts.append(r\"@{\\hspace{\" + f\"{small_sep_factor}\" + r\"\\tabcolsep}}\")\n",
    "        parts.append(\"r\")\n",
    "print(r\"\\begin{tabular}{@{}\" + \"\".join(parts) + r\"@{}}\")\n",
    "print(r\"    \\toprule\")\n",
    "\n",
    "parts = [r\"\\multicolumn{2}{@{}l}{\\textbf{Run}}\"]\n",
    "for i, (reranker, df_reranker) in enumerate(df_table.groupby(\"reranker\", dropna=False, sort=False)):\n",
    "    space = \"\\hspace{\" + f\"{extra_sep_factor}\" + r\"\\tabcolsep}\" if i < len(rerankers_table) - 1 else \"\"\n",
    "    if isna(reranker):\n",
    "        reranker = rerankers_table[nan]\n",
    "        parts.append(\"\\multicolumn{2}{@{}c@{\" + space + r\"}}{\\textbf{\" + reranker + r\"}}\")\n",
    "        parts.append(\"\\multicolumn{1}{@{}c@{\" + space + r\"}}{\\textbf{Opt.}}\")\n",
    "    else:\n",
    "        reranker = rerankers_table[reranker]\n",
    "        parts.append(r\"\\multicolumn{4}{@{}c@{\" + space + r\"}}{\\textbf{\" + reranker + r\"}}\")\n",
    "print(\"    \" + \" & \".join(parts) + r\" \\\\\")\n",
    "\n",
    "parts = []\n",
    "col = 3\n",
    "for i, (reranker, df_reranker) in enumerate(df_table.groupby(\"reranker\", dropna=False, sort=False)):\n",
    "    space = \"r{\" + f\"{extra_sep_factor}\" + r\"\\tabcolsep}\" if i < len(rerankers_table) - 1 else \"\"\n",
    "    if isna(reranker):\n",
    "        parts.append(\"\\cmidrule(\" + space + \"){\" + str(col) + \"-\" + str(col + 1) + \"}\")\n",
    "        col += 2\n",
    "        parts.append(\"\\cmidrule(\" + space + \"){\" + str(col) + \"-\" + str(col) + \"}\")\n",
    "        col += 1\n",
    "    else:\n",
    "        parts.append(\"\\cmidrule(\" + space + \"){\" + str(col) + \"-\" + str(col + 3) + \"}\")\n",
    "        col += 4\n",
    "print(\"    \" + \"\".join(parts))\n",
    "\n",
    "parts = [\"\", \"\"]\n",
    "for i, (reranker, df_reranker) in enumerate(df_table.groupby(\"reranker\", dropna=False, sort=False)):\n",
    "    space = \"\\hspace{\" + f\"{extra_sep_factor}\" + r\"\\tabcolsep}\" if i < len(rerankers_table) - 1 else \"\"\n",
    "    if isna(reranker):\n",
    "        parts.append(r\"\\multicolumn{1}{@{}l}{Score\\kern-1em}\")\n",
    "        parts.append(r\"\\#\")\n",
    "        parts.append(r\"\\kern-0.1emScore\\kern-0.1em\")\n",
    "    else:\n",
    "        parts.append(r\"\\multicolumn{1}{@{}l}{Score\\kern-1em}\")\n",
    "        parts.append(r\"{\\tiny$\\Delta$}\")\n",
    "        parts.append(r\"\\#\")\n",
    "        parts.append(r\"{\\tiny$\\Delta$}\")\n",
    "print(\"    \" + \" & \".join(parts) + r\" \\\\\")\n",
    "print(r\"    \\midrule\")\n",
    "\n",
    "for i, (measure_name, df_measure) in enumerate(df_table.groupby(\"measure\", dropna=False, sort=False)):\n",
    "    measure = measures[measures[\"name\"] == measure_name].iloc[0]\n",
    "    measure_display_name = measure[\"display_name\"]\n",
    "    if measure_display_name == \"nDCG@5 relevance\":\n",
    "        measure_display_name = r\"Topical relevance\"\n",
    "        perfect_column = \"optimal_relevance\"\n",
    "    elif measure_display_name == \"nDCG@5 quality\":\n",
    "        measure_display_name = r\"Argument quality\"\n",
    "        perfect_column = \"optimal_quality\"\n",
    "    df_measure = df_measure.sort_values(\"run_rank_original\")\n",
    "    if i > 0:\n",
    "        print(r\"    \\midrule\")\n",
    "    print(r\"    \\multicolumn{\" + str(len(parts)) + r\"}{@{}l@{}}{\\textit{\" + measure_display_name + r\"}} \\\\\")\n",
    "    print(r\"    \\midrule\")\n",
    "    for (team, run), df_run in df_measure.groupby([\"team\", \"run\"], dropna=False, sort=False):\n",
    "        df_run = df_run.sort_values(\"reranker_index\")\n",
    "        short_team = short_team_names[team]\n",
    "        short_run = short_run_names[(team, run)]\n",
    "        short_team = short_team.replace(\"_\", r\"\\_\")\n",
    "        short_run = short_run.replace(\"_\", r\"\\_\")\n",
    "        parts = [short_team, short_run]\n",
    "        for reranker, df_reranker in df_run.groupby(\"reranker\", dropna=False, sort=False):\n",
    "            hidden = (not isna(reranker) and \"Orig\" in rerankers_table[reranker] and\n",
    "                      df_reranker[\"team\"].iloc[0] in (\"Aldo-Nadi\", \"Captain-Tempesta\"))\n",
    "            value_aggregated = df_reranker[\"value_aggregated\"].iloc[0]\n",
    "            value_original_aggregated = df_reranker[\"value_original_aggregated\"].iloc[0]\n",
    "            value_optimal_aggregated = df_reranker[f\"value_optimal_aggregated\"].iloc[0]\n",
    "            if hidden:\n",
    "                value_aggregated = value_original_aggregated\n",
    "            difference_original_aggregated = value_aggregated.round(2) - value_original_aggregated.round(2)\n",
    "            run_rank = df_reranker[\"run_rank\"].iloc[0]\n",
    "            run_rank_original = df_reranker[\"run_rank_original\"].iloc[0]\n",
    "            if hidden:\n",
    "                run_rank = run_rank_original\n",
    "            run_rank_difference = run_rank - run_rank_original\n",
    "            sub_parts = []\n",
    "            if isna(reranker):\n",
    "                sub_parts.append(f\"{value_aggregated:.2f}\")\n",
    "                sub_parts.append(f\"{run_rank_original:.0f}\")\n",
    "                sub_parts.append(f\"{value_optimal_aggregated:.2f}\")\n",
    "            else:\n",
    "                val_str = f\"{value_aggregated:.2f}\"\n",
    "                if df_reranker[\"p_value_corrected\"].iloc[0] < 0.05:\n",
    "                    val_str = r\"\\textbf{\" + val_str + r\"}\"\n",
    "                sub_parts.append(val_str)\n",
    "                if difference_original_aggregated > 0:\n",
    "                    diff_str = r\"\\scorediffgt{\" + f\"{abs(difference_original_aggregated):.2f}\" + r\"}\"\n",
    "                elif difference_original_aggregated < 0:\n",
    "                    diff_str = r\"\\scoredifflt{\" + f\"{abs(difference_original_aggregated):.2f}\" + r\"}\"\n",
    "                else:\n",
    "                    diff_str = r\"\\scorediffeq{\" + f\"{abs(difference_original_aggregated):.2f}\" + r\"}\"\n",
    "                sub_parts.append(diff_str)\n",
    "                rank_str = f\"{run_rank:.0f}\"\n",
    "                sub_parts.append(rank_str)\n",
    "                if run_rank_difference > 0:\n",
    "                    rank_diff_str = r\"\\rankdiffgt{\" + f\"{abs(run_rank_difference)}\" + r\"}\"\n",
    "                elif run_rank_difference < 0:\n",
    "                    rank_diff_str = r\"\\rankdifflt{\" + f\"{abs(run_rank_difference)}\" + r\"}\"\n",
    "                else:\n",
    "                    rank_diff_str = r\"\\rankdiffeq{\" + f\"{abs(run_rank_difference)}\" + r\"}\"\n",
    "                sub_parts.append(rank_diff_str)\n",
    "                if hidden:\n",
    "                    sub_parts = [\n",
    "                        r\"\\hidden{\" + part + r\"}\"\n",
    "                        for part in sub_parts\n",
    "                    ]\n",
    "            parts += sub_parts\n",
    "        print(\"    \" + \" & \".join(parts) + r\" \\\\\")\n",
    "\n",
    "print(r\"    \\bottomrule\")\n",
    "print(r\"\\end{tabular}\")"
   ],
   "metadata": {
    "collapsed": false,
    "ExecuteTime": {
     "end_time": "2023-09-07T21:26:34.734345951Z",
     "start_time": "2023-09-07T21:26:34.654190648Z"
    }
   }
  },
  {
   "cell_type": "code",
   "execution_count": 101,
   "outputs": [],
   "source": [
    "first_bin = 0.25\n",
    "last_bin = 1.00\n",
    "bin_step = 0.05\n",
    "bins = list(arange(\n",
    "    first_bin - (bin_step / 2),\n",
    "    last_bin + (bin_step / 2) + 0.0001,\n",
    "    bin_step,\n",
    "))\n",
    "# bins"
   ],
   "metadata": {
    "collapsed": false,
    "ExecuteTime": {
     "end_time": "2023-09-07T21:20:36.127712440Z",
     "start_time": "2023-09-07T21:20:36.039622181Z"
    }
   }
  },
  {
   "cell_type": "code",
   "execution_count": 102,
   "outputs": [
    {
     "name": "stdout",
     "output_type": "stream",
     "text": [
      "['Captain-Levi' 'Aldo-Nadi' 'Katana']\n"
     ]
    },
    {
     "data": {
      "text/plain": "            team                                            run  target_f1  \\\n50     Aldo Nadi         Aldo-Nadi seupd2122-kueri_rrf_reranked       0.25   \n51     Aldo Nadi         Aldo-Nadi seupd2122-kueri_rrf_reranked       0.25   \n52     Aldo Nadi         Aldo-Nadi seupd2122-kueri_rrf_reranked       0.25   \n53     Aldo Nadi         Aldo-Nadi seupd2122-kueri_rrf_reranked       0.25   \n54     Aldo Nadi         Aldo-Nadi seupd2122-kueri_rrf_reranked       0.25   \n...          ...                                            ...        ...   \n5095  Captain L.  Captain-Levi levirank_dense_initial_retrieval       1.00   \n5096  Captain L.  Captain-Levi levirank_dense_initial_retrieval       1.00   \n5097  Captain L.  Captain-Levi levirank_dense_initial_retrieval       1.00   \n5098  Captain L.  Captain-Levi levirank_dense_initial_retrieval       1.00   \n5099  Captain L.  Captain-Levi levirank_dense_initial_retrieval       1.00   \n\n               measure  qid  value  difference  \n50    nDCG@5 relevance    2  0.842       0.034  \n51    nDCG@5 relevance    3  0.746      -0.081  \n52    nDCG@5 relevance    8  1.000       0.000  \n53    nDCG@5 relevance    9  0.216      -0.123  \n54    nDCG@5 relevance   12  0.842       0.022  \n...                ...  ...    ...         ...  \n5095    nDCG@5 quality   91  0.699       0.000  \n5096    nDCG@5 quality   92  0.670       0.033  \n5097    nDCG@5 quality   93  0.893       0.000  \n5098    nDCG@5 quality   95  0.650      -0.008  \n5099    nDCG@5 quality  100  0.869       0.039  \n\n[4800 rows x 7 columns]",
      "text/html": "<div>\n<style scoped>\n    .dataframe tbody tr th:only-of-type {\n        vertical-align: middle;\n    }\n\n    .dataframe tbody tr th {\n        vertical-align: top;\n    }\n\n    .dataframe thead th {\n        text-align: right;\n    }\n</style>\n<table border=\"1\" class=\"dataframe\">\n  <thead>\n    <tr style=\"text-align: right;\">\n      <th></th>\n      <th>team</th>\n      <th>run</th>\n      <th>target_f1</th>\n      <th>measure</th>\n      <th>qid</th>\n      <th>value</th>\n      <th>difference</th>\n    </tr>\n  </thead>\n  <tbody>\n    <tr>\n      <th>50</th>\n      <td>Aldo Nadi</td>\n      <td>Aldo-Nadi seupd2122-kueri_rrf_reranked</td>\n      <td>0.25</td>\n      <td>nDCG@5 relevance</td>\n      <td>2</td>\n      <td>0.842</td>\n      <td>0.034</td>\n    </tr>\n    <tr>\n      <th>51</th>\n      <td>Aldo Nadi</td>\n      <td>Aldo-Nadi seupd2122-kueri_rrf_reranked</td>\n      <td>0.25</td>\n      <td>nDCG@5 relevance</td>\n      <td>3</td>\n      <td>0.746</td>\n      <td>-0.081</td>\n    </tr>\n    <tr>\n      <th>52</th>\n      <td>Aldo Nadi</td>\n      <td>Aldo-Nadi seupd2122-kueri_rrf_reranked</td>\n      <td>0.25</td>\n      <td>nDCG@5 relevance</td>\n      <td>8</td>\n      <td>1.000</td>\n      <td>0.000</td>\n    </tr>\n    <tr>\n      <th>53</th>\n      <td>Aldo Nadi</td>\n      <td>Aldo-Nadi seupd2122-kueri_rrf_reranked</td>\n      <td>0.25</td>\n      <td>nDCG@5 relevance</td>\n      <td>9</td>\n      <td>0.216</td>\n      <td>-0.123</td>\n    </tr>\n    <tr>\n      <th>54</th>\n      <td>Aldo Nadi</td>\n      <td>Aldo-Nadi seupd2122-kueri_rrf_reranked</td>\n      <td>0.25</td>\n      <td>nDCG@5 relevance</td>\n      <td>12</td>\n      <td>0.842</td>\n      <td>0.022</td>\n    </tr>\n    <tr>\n      <th>...</th>\n      <td>...</td>\n      <td>...</td>\n      <td>...</td>\n      <td>...</td>\n      <td>...</td>\n      <td>...</td>\n      <td>...</td>\n    </tr>\n    <tr>\n      <th>5095</th>\n      <td>Captain L.</td>\n      <td>Captain-Levi levirank_dense_initial_retrieval</td>\n      <td>1.00</td>\n      <td>nDCG@5 quality</td>\n      <td>91</td>\n      <td>0.699</td>\n      <td>0.000</td>\n    </tr>\n    <tr>\n      <th>5096</th>\n      <td>Captain L.</td>\n      <td>Captain-Levi levirank_dense_initial_retrieval</td>\n      <td>1.00</td>\n      <td>nDCG@5 quality</td>\n      <td>92</td>\n      <td>0.670</td>\n      <td>0.033</td>\n    </tr>\n    <tr>\n      <th>5097</th>\n      <td>Captain L.</td>\n      <td>Captain-Levi levirank_dense_initial_retrieval</td>\n      <td>1.00</td>\n      <td>nDCG@5 quality</td>\n      <td>93</td>\n      <td>0.893</td>\n      <td>0.000</td>\n    </tr>\n    <tr>\n      <th>5098</th>\n      <td>Captain L.</td>\n      <td>Captain-Levi levirank_dense_initial_retrieval</td>\n      <td>1.00</td>\n      <td>nDCG@5 quality</td>\n      <td>95</td>\n      <td>0.650</td>\n      <td>-0.008</td>\n    </tr>\n    <tr>\n      <th>5099</th>\n      <td>Captain L.</td>\n      <td>Captain-Levi levirank_dense_initial_retrieval</td>\n      <td>1.00</td>\n      <td>nDCG@5 quality</td>\n      <td>100</td>\n      <td>0.869</td>\n      <td>0.039</td>\n    </tr>\n  </tbody>\n</table>\n<p>4800 rows × 7 columns</p>\n</div>"
     },
     "execution_count": 102,
     "metadata": {},
     "output_type": "execute_result"
    }
   ],
   "source": [
    "difference_data = []\n",
    "df_tmp = df.copy()\n",
    "df_tmp = df_tmp[~df_tmp[\"target_f1\"].isna()]\n",
    "df_tmp[\"difference_original\"] = df_tmp[\"value\"] - df_tmp[\"value_original\"]\n",
    "for (measure_name, team), df_team in df_tmp.groupby([\"measure\", \"team\"], sort=False):\n",
    "    measure = measures[measures[\"name\"] == measure_name].iloc[0]\n",
    "    run = df_team.sort_values(\"value_original_aggregated\", ascending=not measure[\"maximize\"])[\"run\"].iloc[0]\n",
    "    df_run = df_team[df_team[\"run\"] == run]\n",
    "    for (target_f1, qid, run), df_group in df_run.groupby([\"target_f1\", \"qid\", \"run\"]):\n",
    "        difference_data.append({\n",
    "            \"team\": team,\n",
    "            \"run\": run,\n",
    "            \"target_f1\": target_f1,\n",
    "            \"measure\": measure[\"display_name\"],\n",
    "            \"qid\": qid,\n",
    "            \"value\": df_group[\"value\"].mean(),\n",
    "            \"difference\": df_group[\"difference_original\"].mean(),\n",
    "        })\n",
    "df_plot = DataFrame(difference_data)\n",
    "df_plot[\"team\"] = df_plot[\"team\"].map(short_team_names)\n",
    "df_plot = df_plot[df_plot[\"target_f1\"] >= first_bin]\n",
    "df_plot"
   ],
   "metadata": {
    "collapsed": false,
    "ExecuteTime": {
     "end_time": "2023-09-07T21:20:38.600020601Z",
     "start_time": "2023-09-07T21:20:36.046322749Z"
    }
   }
  },
  {
   "cell_type": "code",
   "execution_count": 103,
   "outputs": [],
   "source": [
    "set_theme(\n",
    "    style=\"ticks\",\n",
    "    palette=\"colorblind\",\n",
    "    font_scale=1.0,\n",
    "    font=\"sans-serif\",\n",
    ")"
   ],
   "metadata": {
    "collapsed": false,
    "ExecuteTime": {
     "end_time": "2023-09-07T21:20:38.600454761Z",
     "start_time": "2023-09-07T21:20:38.580005055Z"
    }
   }
  },
  {
   "cell_type": "code",
   "execution_count": 104,
   "outputs": [
    {
     "name": "stderr",
     "output_type": "stream",
     "text": [
      "/home/heinrich/Repositories/stare/venv/lib/python3.10/site-packages/seaborn/axisgrid.py:118: UserWarning: The figure layout has changed to tight\n",
      "  self._figure.tight_layout(*args, **kwargs)\n"
     ]
    },
    {
     "data": {
      "text/plain": "<seaborn.axisgrid.FacetGrid at 0x7fe1fc11e2c0>"
     },
     "execution_count": 104,
     "metadata": {},
     "output_type": "execute_result"
    },
    {
     "data": {
      "text/plain": "<Figure size 1105.79x304.348 with 2 Axes>",
      "image/png": "[encoded data removed]"
     },
     "metadata": {},
     "output_type": "display_data"
    }
   ],
   "source": [
    "aspect = 1.15\n",
    "width = 3.5\n",
    "plot_values = FacetGrid(\n",
    "    data=df_plot,\n",
    "    col=\"measure\",\n",
    "    sharex=True,\n",
    "    sharey=True,\n",
    "    height=width / aspect,\n",
    "    aspect=aspect,\n",
    ")\n",
    "plot_values.map_dataframe(\n",
    "    lineplot,\n",
    "    x=\"target_f1\",\n",
    "    y=\"value\",\n",
    "    hue=\"team\",\n",
    "    hue_order=df_plot[\"team\"].sort_values().unique(),\n",
    "    style=\"team\",\n",
    "    err_style=None,\n",
    ")\n",
    "plot_values.set_xlabels(r\"F$_1$\")\n",
    "plot_values.set_ylabels(r\"Value\")\n",
    "plot_values.add_legend(\n",
    "    loc=\"upper left\",\n",
    "    ncols=4,\n",
    "    bbox_to_anchor=(0.095, 0.06),\n",
    ")\n",
    "plot_values.set_titles(col_template=\"{col_name}\")\n",
    "plot_values.savefig(\"../data/plot-reranking-f1.pdf\", transparent=True)\n",
    "plot_values.savefig(\"../data/plot-reranking-f1.png\")\n",
    "plot_values"
   ],
   "metadata": {
    "collapsed": false,
    "ExecuteTime": {
     "end_time": "2023-09-07T21:20:42.214012700Z",
     "start_time": "2023-09-07T21:20:38.591024563Z"
    }
   }
  },
  {
   "cell_type": "code",
   "execution_count": 105,
   "outputs": [
    {
     "name": "stderr",
     "output_type": "stream",
     "text": [
      "/home/heinrich/Repositories/stare/venv/lib/python3.10/site-packages/seaborn/axisgrid.py:118: UserWarning: The figure layout has changed to tight\n",
      "  self._figure.tight_layout(*args, **kwargs)\n",
      "/home/heinrich/Repositories/stare/venv/lib/python3.10/site-packages/seaborn/axisgrid.py:118: UserWarning: The figure layout has changed to tight\n",
      "  self._figure.tight_layout(*args, **kwargs)\n"
     ]
    },
    {
     "data": {
      "text/plain": "<seaborn.axisgrid.FacetGrid at 0x7fe1fc8aded0>"
     },
     "execution_count": 105,
     "metadata": {},
     "output_type": "execute_result"
    },
    {
     "data": {
      "text/plain": "<Figure size 1105.79x304.348 with 2 Axes>",
      "image/png": "[encoded data removed]"
     },
     "metadata": {},
     "output_type": "display_data"
    }
   ],
   "source": [
    "aspect = 1.15\n",
    "width = 3.5\n",
    "plot_differences = FacetGrid(\n",
    "    data=df_plot,\n",
    "    col=\"measure\",\n",
    "    sharex=True,\n",
    "    sharey=True,\n",
    "    height=width / aspect,\n",
    "    aspect=aspect,\n",
    ")\n",
    "plot_differences.map_dataframe(\n",
    "    lineplot,\n",
    "    x=\"target_f1\",\n",
    "    y=\"difference\",\n",
    "    hue=\"team\",\n",
    "    hue_order=df_plot[\"team\"].sort_values().unique(),\n",
    "    style=\"team\",\n",
    "    err_style=None,\n",
    ")\n",
    "plot_differences.refline(y=0, color=\"gray\")\n",
    "plot_differences.set_xlabels(r\"F$_1$\")\n",
    "plot_differences.set_ylabels(r\"$\\Delta$ Improvement\")\n",
    "plot_differences.add_legend(\n",
    "    loc=\"upper left\",\n",
    "    ncols=4,\n",
    "    bbox_to_anchor=(0.095, 0.06),\n",
    ")\n",
    "plot_differences.set_titles(col_template=\"{col_name}\")\n",
    "plot_differences.savefig(\"../data/plot-reranking-f1-difference.pdf\", transparent=True)\n",
    "plot_differences.savefig(\"../data/plot-reranking-f1-difference.png\")\n",
    "plot_differences"
   ],
   "metadata": {
    "collapsed": false,
    "ExecuteTime": {
     "end_time": "2023-09-07T21:20:44.532929884Z",
     "start_time": "2023-09-07T21:20:42.214740739Z"
    }
   }
  },
  {
   "cell_type": "code",
   "execution_count": 106,
   "outputs": [
    {
     "name": "stdout",
     "output_type": "stream",
     "text": [
      "nDCG@5 qual. @ 0.35: True False 5.52 0.0\n",
      "nDCG@5 qual. @ 0.40: True False 0.56 0.1\n",
      "nDCG@5 qual. @ 0.45: True False 4.38 0.0\n",
      "nDCG@5 qual. @ 0.50: True False 0.94 0.1\n",
      "nDCG@5 qual. @ 0.55: True False 0.20 0.1\n",
      "nDCG@5 qual. @ 0.60: True False 0.64 0.1\n",
      "nDCG@5 qual. @ 0.65: True False 0.28 0.1\n",
      "nDCG@5 qual. @ 0.70: True False 0.17 0.1\n",
      "nDCG@5 qual. @ 0.75: True False 1.56 0.0\n",
      "nDCG@5 qual. @ 0.80: True False 0.20 0.1\n",
      "nDCG@5 qual. @ 0.85: True False 0.14 0.1\n",
      "nDCG@5 qual. @ 0.90: True False 0.10 0.1\n",
      "nDCG@5 qual. @ 0.95: True False 0.09 0.1\n",
      "nDCG@5 qual. @ 1.00: True False 0.12 0.1\n",
      "nDCG@5 rel. @ 0.30: True False 3.96 0.0\n",
      "nDCG@5 rel. @ 0.35: True False 7.12 0.0\n",
      "nDCG@5 rel. @ 0.45: True False 1.10 0.1\n",
      "nDCG@5 rel. @ 0.50: True False 2.71 0.0\n",
      "nDCG@5 rel. @ 0.55: True False 1.65 0.1\n",
      "nDCG@5 rel. @ 0.60: True False 1.05 0.1\n",
      "nDCG@5 rel. @ 0.65: True False 2.73 0.0\n",
      "nDCG@5 rel. @ 0.70: True False 0.43 0.1\n",
      "nDCG@5 rel. @ 0.75: True False 0.10 0.1\n",
      "nDCG@5 rel. @ 0.80: True False 0.28 0.1\n",
      "nDCG@5 rel. @ 0.85: True False 0.10 0.1\n",
      "nDCG@5 rel. @ 0.90: True True 0.04 0.1\n",
      "nDCG@5 rel. @ 0.90: True True 0.04 0.1\n"
     ]
    }
   ],
   "source": [
    "for measure_name, df_measure in df_tmp.groupby(\"measure\", sort=False):\n",
    "    measure = measures[measures[\"name\"] == measure_name].iloc[0]\n",
    "    run = df_measure.sort_values(\"value_original_aggregated\", ascending=not measure[\"maximize\"])[\"run\"].iloc[0]\n",
    "    df_measure = df_measure[df_measure[\"run\"] == run]\n",
    "    df_measure = df_measure[df_measure[\"target_f1\"].notna()]\n",
    "    for target_f1, df_target_f1 in df_measure.groupby(\"target_f1\", sort=True):\n",
    "        df_target_f1 = df_target_f1.groupby(\"qid\", dropna=False, sort=False).aggregate({\n",
    "            column: \"mean\" if column.startswith(\"value\") else \"first\"\n",
    "            for column in df_target_f1.columns\n",
    "            if column != \"qid\"\n",
    "        }).reset_index()\n",
    "        values = df_target_f1[\"value\"]\n",
    "        values_original = df_target_f1[\"value_original\"]\n",
    "\n",
    "        if not array_equal(values_original, values):\n",
    "            stats = ttest(values_original, values, paired=True)\n",
    "        else:\n",
    "            stats = DataFrame({\n",
    "                \"p-val\": [nan],\n",
    "                \"CI95%\": [(nan, nan)],\n",
    "                \"cohen-d\": [nan],\n",
    "            })\n",
    "        p_val = stats[\"p-val\"].iloc[0] * correction_n\n",
    "        cohen_d = stats[\"cohen-d\"].iloc[0]\n",
    "        significant = p_val < 0.05 and values.mean() > values_original.mean()\n",
    "        if significant:\n",
    "            print(f\"{measure_name} @ {target_f1:.2f}:\", significant, f\"{p_val:.2f}\", f\"{cohen_d:.1f}\")\n",
    "            break\n"
   ],
   "metadata": {
    "collapsed": false,
    "ExecuteTime": {
     "end_time": "2023-09-07T21:20:44.931431593Z",
     "start_time": "2023-09-07T21:20:44.550210025Z"
    }
   }
  },
  {
   "cell_type": "code",
   "execution_count": 107,
   "outputs": [
    {
     "name": "stdout",
     "output_type": "stream",
     "text": [
      "nDCG@5 qual. @ 0.20: 9 26 0.35 1 26 0.04\n",
      "nDCG@5 qual. @ 0.25: 12 26 0.46 0 26 0.00\n",
      "nDCG@5 qual. @ 0.30: 9 26 0.35 0 26 0.00\n",
      "nDCG@5 qual. @ 0.35: 20 26 0.77 0 26 0.00\n",
      "nDCG@5 qual. @ 0.40: 19 26 0.73 0 26 0.00\n",
      "nDCG@5 qual. @ 0.45: 24 26 0.92 1 26 0.04\n",
      "nDCG@5 qual. @ 0.50: 24 26 0.92 0 26 0.00\n",
      "nDCG@5 qual. @ 0.55: 25 26 0.96 4 26 0.15\n",
      "nDCG@5 qual. @ 0.60: 26 26 1.00 2 26 0.08\n",
      "nDCG@5 qual. @ 0.65: 26 26 1.00 9 26 0.35\n",
      "nDCG@5 qual. @ 0.70: 26 26 1.00 8 26 0.31\n",
      "nDCG@5 qual. @ 0.75: 26 26 1.00 14 26 0.54\n",
      "nDCG@5 qual. @ 0.80: 26 26 1.00 17 26 0.65\n",
      "nDCG@5 qual. @ 0.85: 26 26 1.00 20 26 0.77\n",
      "nDCG@5 qual. @ 0.90: 26 26 1.00 22 26 0.85\n",
      "nDCG@5 qual. @ 0.95: 26 26 1.00 24 26 0.92\n",
      "nDCG@5 qual. @ 1.00: 26 26 1.00 25 26 0.96\n",
      "nDCG@5 rel. @ 0.20: 8 26 0.31 0 26 0.00\n",
      "nDCG@5 rel. @ 0.25: 13 26 0.50 0 26 0.00\n",
      "nDCG@5 rel. @ 0.30: 11 26 0.42 0 26 0.00\n",
      "nDCG@5 rel. @ 0.35: 14 26 0.54 0 26 0.00\n",
      "nDCG@5 rel. @ 0.40: 18 26 0.69 0 26 0.00\n",
      "nDCG@5 rel. @ 0.45: 23 26 0.88 0 26 0.00\n",
      "nDCG@5 rel. @ 0.50: 25 26 0.96 3 26 0.12\n",
      "nDCG@5 rel. @ 0.55: 26 26 1.00 2 26 0.08\n",
      "nDCG@5 rel. @ 0.60: 26 26 1.00 3 26 0.12\n",
      "nDCG@5 rel. @ 0.65: 26 26 1.00 10 26 0.38\n",
      "nDCG@5 rel. @ 0.70: 26 26 1.00 14 26 0.54\n",
      "nDCG@5 rel. @ 0.75: 26 26 1.00 14 26 0.54\n",
      "nDCG@5 rel. @ 0.80: 26 26 1.00 18 26 0.69\n",
      "nDCG@5 rel. @ 0.85: 26 26 1.00 21 26 0.81\n",
      "nDCG@5 rel. @ 0.90: 26 26 1.00 22 26 0.85\n",
      "nDCG@5 rel. @ 0.95: 26 26 1.00 26 26 1.00\n",
      "nDCG@5 rel. @ 1.00: 26 26 1.00 26 26 1.00\n"
     ]
    }
   ],
   "source": [
    "for measure_name, df_measure in df_tmp.groupby(\"measure\", sort=False):\n",
    "    measure = measures[measures[\"name\"] == measure_name].iloc[0]\n",
    "    df_measure = df_measure[df_measure[\"target_f1\"].notna()]\n",
    "    for target_f1, df_target_f1 in df_measure.groupby(\"target_f1\", sort=True):\n",
    "        num_improved = 0\n",
    "        num_significant = 0\n",
    "        num_runs = df_target_f1[\"run\"].nunique()\n",
    "        for run, df_run in df_target_f1.groupby(\"run\", sort=False):\n",
    "            df_run = df_run.groupby(\"qid\", dropna=False, sort=False).aggregate({\n",
    "                column: \"mean\" if column.startswith(\"value\") else \"first\"\n",
    "                for column in df_run.columns\n",
    "                if column != \"qid\"\n",
    "            }).reset_index()\n",
    "            values = df_run[\"value\"]\n",
    "            values_original = df_run[\"value_original\"]\n",
    "            improved = values.mean() > values_original.mean() if measure[\n",
    "                \"maximize\"] else values.mean() < values_original.mean()\n",
    "            if improved:\n",
    "                num_improved += 1\n",
    "\n",
    "            if not array_equal(values_original, values):\n",
    "                stats = ttest(values_original, values, paired=True)\n",
    "            else:\n",
    "                stats = DataFrame({\n",
    "                    \"p-val\": [nan],\n",
    "                    \"CI95%\": [(nan, nan)],\n",
    "                    \"cohen-d\": [nan],\n",
    "                })\n",
    "            p_val = stats[\"p-val\"].iloc[0] * correction_n\n",
    "            cohen_d = stats[\"cohen-d\"].iloc[0]\n",
    "            significant = p_val < 0.05 and improved\n",
    "            if significant:\n",
    "                num_significant += 1\n",
    "        print(f\"{measure_name} @ {target_f1:.2f}:\",\n",
    "              # num_improved, num_runs, f\"{num_improved/num_runs:.2f}\", \n",
    "              num_significant, num_runs, f\"{num_significant / num_runs:.2f}\")\n"
   ],
   "metadata": {
    "collapsed": false,
    "ExecuteTime": {
     "end_time": "2023-09-07T21:20:50.460465536Z",
     "start_time": "2023-09-07T21:20:44.935714881Z"
    }
   }
  }
 ],
 "metadata": {
  "kernelspec": {
   "display_name": "Python 3 (ipykernel)",
   "language": "python",
   "name": "python3"
  },
  "language_info": {
   "codemirror_mode": {
    "name": "ipython",
    "version": 3
   },
   "file_extension": ".py",
   "mimetype": "text/x-python",
   "name": "python",
   "nbconvert_exporter": "python",
   "pygments_lexer": "ipython3",
   "version": "3.10.10"
  }
 },
 "nbformat": 4,
 "nbformat_minor": 4
}
