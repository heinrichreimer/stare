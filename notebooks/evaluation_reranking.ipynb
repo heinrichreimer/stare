{
 "cells": [
  {
   "cell_type": "code",
   "execution_count": 8,
   "metadata": {
    "collapsed": false,
    "tags": [],
    "ExecuteTime": {
     "end_time": "2023-08-23T13:15:24.913031384Z",
     "start_time": "2023-08-23T13:15:24.627843045Z"
    }
   },
   "outputs": [],
   "source": [
    "from math import nan\n",
    "from re import compile\n",
    "\n",
    "from numpy import arange, array_equal\n",
    "from pandas import read_csv, DataFrame, concat, Series, isna\n",
    "from pingouin import ttest\n",
    "from seaborn import set_style, color_palette, lineplot, FacetGrid, set_theme"
   ]
  },
  {
   "cell_type": "code",
   "execution_count": 9,
   "metadata": {
    "collapsed": false,
    "tags": [],
    "ExecuteTime": {
     "end_time": "2023-08-23T13:15:25.429900223Z",
     "start_time": "2023-08-23T13:15:25.076022232Z"
    }
   },
   "outputs": [
    {
     "data": {
      "text/plain": "           name      display_name  maximize\n0   nDCG@5 rel.  nDCG@5 relevance      True\n1  nDCG@5 qual.    nDCG@5 quality      True",
      "text/html": "<div>\n<style scoped>\n    .dataframe tbody tr th:only-of-type {\n        vertical-align: middle;\n    }\n\n    .dataframe tbody tr th {\n        vertical-align: top;\n    }\n\n    .dataframe thead th {\n        text-align: right;\n    }\n</style>\n<table border=\"1\" class=\"dataframe\">\n  <thead>\n    <tr style=\"text-align: right;\">\n      <th></th>\n      <th>name</th>\n      <th>display_name</th>\n      <th>maximize</th>\n    </tr>\n  </thead>\n  <tbody>\n    <tr>\n      <th>0</th>\n      <td>nDCG@5 rel.</td>\n      <td>nDCG@5 relevance</td>\n      <td>True</td>\n    </tr>\n    <tr>\n      <th>1</th>\n      <td>nDCG@5 qual.</td>\n      <td>nDCG@5 quality</td>\n      <td>True</td>\n    </tr>\n  </tbody>\n</table>\n</div>"
     },
     "execution_count": 9,
     "metadata": {},
     "output_type": "execute_result"
    }
   ],
   "source": [
    "measures = DataFrame([\n",
    "    {\"name\": \"nDCG@5 rel.\", \"display_name\": r\"nDCG@5 relevance\", \"maximize\": True, },\n",
    "    {\"name\": \"nDCG@5 qual.\", \"display_name\": r\"nDCG@5 quality\", \"maximize\": True, },\n",
    "])\n",
    "measures"
   ]
  },
  {
   "cell_type": "code",
   "execution_count": 10,
   "outputs": [],
   "source": [
    "def target_f1(name: str) -> float:\n",
    "    parts = name.split(\" + \")\n",
    "    for part in parts:\n",
    "        if part.startswith(\"randomize\"):\n",
    "            match = compile(r\"randomize\\(F1<=(.*)\\)\").match(part)\n",
    "            if not match:\n",
    "                return 1.0\n",
    "            return float(match.group(1))\n",
    "    if \"ground-truth\" in parts:\n",
    "        return 1.0\n",
    "    return nan"
   ],
   "metadata": {
    "collapsed": false,
    "ExecuteTime": {
     "end_time": "2023-08-23T13:15:25.560318161Z",
     "start_time": "2023-08-23T13:15:25.195364457Z"
    }
   }
  },
  {
   "cell_type": "code",
   "execution_count": 83,
   "outputs": [
    {
     "data": {
      "text/plain": "                                                    name           team   \n0      Aldo-Nadi seupd2122-kueri_kueristopv2_BM2_fals...      Aldo-Nadi  \\\n1      Aldo-Nadi seupd2122-kueri_kueristopv2_BM2_fals...      Aldo-Nadi   \n2      Aldo-Nadi seupd2122-kueri_kueristopv2_BM2_fals...      Aldo-Nadi   \n3      Aldo-Nadi seupd2122-kueri_kueristopv2_BM2_fals...      Aldo-Nadi   \n4      Aldo-Nadi seupd2122-kueri_kueristopv2_BM2_fals...      Aldo-Nadi   \n...                                                  ...            ...   \n57195  Puss-in-Boots BM25-Baseline + ground-truth + r...  Puss-in-Boots   \n57196  Puss-in-Boots BM25-Baseline + ground-truth + r...  Puss-in-Boots   \n57197  Puss-in-Boots BM25-Baseline + ground-truth + r...  Puss-in-Boots   \n57198  Puss-in-Boots BM25-Baseline + ground-truth + r...  Puss-in-Boots   \n57199  Puss-in-Boots BM25-Baseline + ground-truth + r...  Puss-in-Boots   \n\n                                                     run   \n0      Aldo-Nadi seupd2122-kueri_kueristopv2_BM2_fals...  \\\n1      Aldo-Nadi seupd2122-kueri_kueristopv2_BM2_fals...   \n2      Aldo-Nadi seupd2122-kueri_kueristopv2_BM2_fals...   \n3      Aldo-Nadi seupd2122-kueri_kueristopv2_BM2_fals...   \n4      Aldo-Nadi seupd2122-kueri_kueristopv2_BM2_fals...   \n...                                                  ...   \n57195                        Puss-in-Boots BM25-Baseline   \n57196                        Puss-in-Boots BM25-Baseline   \n57197                        Puss-in-Boots BM25-Baseline   \n57198                        Puss-in-Boots BM25-Baseline   \n57199                        Puss-in-Boots BM25-Baseline   \n\n                                                reranker  target_f1  qid   \n0                                                    NaN        NaN  100  \\\n1                          ground-truth + stance-first@5       1.00  100   \n2                                         stance-first@5        NaN  100   \n3                              gpt3-tsv + stance-first@5        NaN  100   \n4                           roberta-csv + stance-first@5        NaN  100   \n...                                                  ...        ...  ...   \n57195  ground-truth + randomize(F1<=0.40)@5 + stance-...       0.40   95   \n57196  ground-truth + randomize(F1<=0.35)@5 + stance-...       0.35   95   \n57197  ground-truth + randomize(F1<=0.30)@5 + stance-...       0.30   95   \n57198  ground-truth + randomize(F1<=0.25)@5 + stance-...       0.25   95   \n57199  ground-truth + randomize(F1<=0.20)@5 + stance-...       0.20   95   \n\n            measure  value  value_aggregated  value_original   \n0       nDCG@5 rel.  0.170           0.54662           0.170  \\\n1       nDCG@5 rel.  0.339           0.57594           0.170   \n2       nDCG@5 rel.  0.170           0.54642           0.170   \n3       nDCG@5 rel.  0.170           0.55900           0.170   \n4       nDCG@5 rel.  0.339           0.55124           0.170   \n...             ...    ...               ...             ...   \n57195  nDCG@5 qual.  0.361           0.48602           0.361   \n57196  nDCG@5 qual.  0.361           0.48246           0.361   \n57197  nDCG@5 qual.  0.327           0.46664           0.361   \n57198  nDCG@5 qual.  0.327           0.47548           0.361   \n57199  nDCG@5 qual.  0.308           0.46820           0.361   \n\n       value_original_aggregated  difference_original   \n0                        0.54662                0.000  \\\n1                        0.54662                0.169   \n2                        0.54662                0.000   \n3                        0.54662                0.000   \n4                        0.54662                0.169   \n...                          ...                  ...   \n57195                    0.47622                0.000   \n57196                    0.47622                0.000   \n57197                    0.47622               -0.034   \n57198                    0.47622               -0.034   \n57199                    0.47622               -0.053   \n\n       difference_original_aggregated  \n0                             0.00000  \n1                             0.02932  \n2                            -0.00020  \n3                             0.01238  \n4                             0.00462  \n...                               ...  \n57195                         0.00980  \n57196                         0.00624  \n57197                        -0.00958  \n57198                        -0.00074  \n57199                        -0.00802  \n\n[57200 rows x 13 columns]",
      "text/html": "<div>\n<style scoped>\n    .dataframe tbody tr th:only-of-type {\n        vertical-align: middle;\n    }\n\n    .dataframe tbody tr th {\n        vertical-align: top;\n    }\n\n    .dataframe thead th {\n        text-align: right;\n    }\n</style>\n<table border=\"1\" class=\"dataframe\">\n  <thead>\n    <tr style=\"text-align: right;\">\n      <th></th>\n      <th>name</th>\n      <th>team</th>\n      <th>run</th>\n      <th>reranker</th>\n      <th>target_f1</th>\n      <th>qid</th>\n      <th>measure</th>\n      <th>value</th>\n      <th>value_aggregated</th>\n      <th>value_original</th>\n      <th>value_original_aggregated</th>\n      <th>difference_original</th>\n      <th>difference_original_aggregated</th>\n    </tr>\n  </thead>\n  <tbody>\n    <tr>\n      <th>0</th>\n      <td>Aldo-Nadi seupd2122-kueri_kueristopv2_BM2_fals...</td>\n      <td>Aldo-Nadi</td>\n      <td>Aldo-Nadi seupd2122-kueri_kueristopv2_BM2_fals...</td>\n      <td>NaN</td>\n      <td>NaN</td>\n      <td>100</td>\n      <td>nDCG@5 rel.</td>\n      <td>0.170</td>\n      <td>0.54662</td>\n      <td>0.170</td>\n      <td>0.54662</td>\n      <td>0.000</td>\n      <td>0.00000</td>\n    </tr>\n    <tr>\n      <th>1</th>\n      <td>Aldo-Nadi seupd2122-kueri_kueristopv2_BM2_fals...</td>\n      <td>Aldo-Nadi</td>\n      <td>Aldo-Nadi seupd2122-kueri_kueristopv2_BM2_fals...</td>\n      <td>ground-truth + stance-first@5</td>\n      <td>1.00</td>\n      <td>100</td>\n      <td>nDCG@5 rel.</td>\n      <td>0.339</td>\n      <td>0.57594</td>\n      <td>0.170</td>\n      <td>0.54662</td>\n      <td>0.169</td>\n      <td>0.02932</td>\n    </tr>\n    <tr>\n      <th>2</th>\n      <td>Aldo-Nadi seupd2122-kueri_kueristopv2_BM2_fals...</td>\n      <td>Aldo-Nadi</td>\n      <td>Aldo-Nadi seupd2122-kueri_kueristopv2_BM2_fals...</td>\n      <td>stance-first@5</td>\n      <td>NaN</td>\n      <td>100</td>\n      <td>nDCG@5 rel.</td>\n      <td>0.170</td>\n      <td>0.54642</td>\n      <td>0.170</td>\n      <td>0.54662</td>\n      <td>0.000</td>\n      <td>-0.00020</td>\n    </tr>\n    <tr>\n      <th>3</th>\n      <td>Aldo-Nadi seupd2122-kueri_kueristopv2_BM2_fals...</td>\n      <td>Aldo-Nadi</td>\n      <td>Aldo-Nadi seupd2122-kueri_kueristopv2_BM2_fals...</td>\n      <td>gpt3-tsv + stance-first@5</td>\n      <td>NaN</td>\n      <td>100</td>\n      <td>nDCG@5 rel.</td>\n      <td>0.170</td>\n      <td>0.55900</td>\n      <td>0.170</td>\n      <td>0.54662</td>\n      <td>0.000</td>\n      <td>0.01238</td>\n    </tr>\n    <tr>\n      <th>4</th>\n      <td>Aldo-Nadi seupd2122-kueri_kueristopv2_BM2_fals...</td>\n      <td>Aldo-Nadi</td>\n      <td>Aldo-Nadi seupd2122-kueri_kueristopv2_BM2_fals...</td>\n      <td>roberta-csv + stance-first@5</td>\n      <td>NaN</td>\n      <td>100</td>\n      <td>nDCG@5 rel.</td>\n      <td>0.339</td>\n      <td>0.55124</td>\n      <td>0.170</td>\n      <td>0.54662</td>\n      <td>0.169</td>\n      <td>0.00462</td>\n    </tr>\n    <tr>\n      <th>...</th>\n      <td>...</td>\n      <td>...</td>\n      <td>...</td>\n      <td>...</td>\n      <td>...</td>\n      <td>...</td>\n      <td>...</td>\n      <td>...</td>\n      <td>...</td>\n      <td>...</td>\n      <td>...</td>\n      <td>...</td>\n      <td>...</td>\n    </tr>\n    <tr>\n      <th>57195</th>\n      <td>Puss-in-Boots BM25-Baseline + ground-truth + r...</td>\n      <td>Puss-in-Boots</td>\n      <td>Puss-in-Boots BM25-Baseline</td>\n      <td>ground-truth + randomize(F1&lt;=0.40)@5 + stance-...</td>\n      <td>0.40</td>\n      <td>95</td>\n      <td>nDCG@5 qual.</td>\n      <td>0.361</td>\n      <td>0.48602</td>\n      <td>0.361</td>\n      <td>0.47622</td>\n      <td>0.000</td>\n      <td>0.00980</td>\n    </tr>\n    <tr>\n      <th>57196</th>\n      <td>Puss-in-Boots BM25-Baseline + ground-truth + r...</td>\n      <td>Puss-in-Boots</td>\n      <td>Puss-in-Boots BM25-Baseline</td>\n      <td>ground-truth + randomize(F1&lt;=0.35)@5 + stance-...</td>\n      <td>0.35</td>\n      <td>95</td>\n      <td>nDCG@5 qual.</td>\n      <td>0.361</td>\n      <td>0.48246</td>\n      <td>0.361</td>\n      <td>0.47622</td>\n      <td>0.000</td>\n      <td>0.00624</td>\n    </tr>\n    <tr>\n      <th>57197</th>\n      <td>Puss-in-Boots BM25-Baseline + ground-truth + r...</td>\n      <td>Puss-in-Boots</td>\n      <td>Puss-in-Boots BM25-Baseline</td>\n      <td>ground-truth + randomize(F1&lt;=0.30)@5 + stance-...</td>\n      <td>0.30</td>\n      <td>95</td>\n      <td>nDCG@5 qual.</td>\n      <td>0.327</td>\n      <td>0.46664</td>\n      <td>0.361</td>\n      <td>0.47622</td>\n      <td>-0.034</td>\n      <td>-0.00958</td>\n    </tr>\n    <tr>\n      <th>57198</th>\n      <td>Puss-in-Boots BM25-Baseline + ground-truth + r...</td>\n      <td>Puss-in-Boots</td>\n      <td>Puss-in-Boots BM25-Baseline</td>\n      <td>ground-truth + randomize(F1&lt;=0.25)@5 + stance-...</td>\n      <td>0.25</td>\n      <td>95</td>\n      <td>nDCG@5 qual.</td>\n      <td>0.327</td>\n      <td>0.47548</td>\n      <td>0.361</td>\n      <td>0.47622</td>\n      <td>-0.034</td>\n      <td>-0.00074</td>\n    </tr>\n    <tr>\n      <th>57199</th>\n      <td>Puss-in-Boots BM25-Baseline + ground-truth + r...</td>\n      <td>Puss-in-Boots</td>\n      <td>Puss-in-Boots BM25-Baseline</td>\n      <td>ground-truth + randomize(F1&lt;=0.20)@5 + stance-...</td>\n      <td>0.20</td>\n      <td>95</td>\n      <td>nDCG@5 qual.</td>\n      <td>0.308</td>\n      <td>0.46820</td>\n      <td>0.361</td>\n      <td>0.47622</td>\n      <td>-0.053</td>\n      <td>-0.00802</td>\n    </tr>\n  </tbody>\n</table>\n<p>57200 rows × 13 columns</p>\n</div>"
     },
     "execution_count": 83,
     "metadata": {},
     "output_type": "execute_result"
    }
   ],
   "source": [
    "df: DataFrame = read_csv(\"../data/metrics-reranking.csv\")\n",
    "\n",
    "# Remove duplicate runs.\n",
    "df = df.groupby([\"name\", \"qid\"], dropna=False, sort=False).aggregate(\"first\").reset_index()\n",
    "\n",
    "# Pivot measures into column values.\n",
    "df = concat([\n",
    "    concat([\n",
    "        df[[\"name\", \"qid\", measure]].rename(columns={measure: \"value\"}),\n",
    "        DataFrame({\"measure\": [measure] * len(df)}),\n",
    "    ], axis=1)\n",
    "    for measure in measures[\"name\"]\n",
    "])\n",
    "\n",
    "# Add run/team/reranker names.\n",
    "df[\"run\"] = df[\"name\"].apply(lambda name: name.split(\" + \", maxsplit=1)[0])\n",
    "df[\"team\"] = df[\"run\"].apply(lambda run: run.split(\" \", maxsplit=1)[0])\n",
    "df[\"reranker\"] = [\n",
    "    name.split(\" + \", maxsplit=1)[1] if name != run else nan\n",
    "    for _, (name, run) in df[[\"name\", \"run\"]].iterrows()\n",
    "]\n",
    "\n",
    "# Detect target F1 scores.\n",
    "df[\"target_f1\"] = df[\"name\"].apply(target_f1)\n",
    "\n",
    "# Select columns.\n",
    "df = df[[\"name\", \"team\", \"run\", \"reranker\", \"target_f1\", \"qid\", \"measure\", \"value\"]]\n",
    "\n",
    "# Compute aggregated metric values.\n",
    "df_aggregated = df[[\"name\", \"measure\", \"qid\", \"value\"]].groupby([\"name\", \"measure\"], dropna=False,\n",
    "                                                                sort=False).aggregate(\"mean\").drop(\n",
    "    columns=[\"qid\"])\n",
    "df = df.merge(df_aggregated, on=[\"name\", \"measure\"], suffixes=(\"\", \"_aggregated\"))\n",
    "\n",
    "# Add differences to original runs.\n",
    "df = df.merge(\n",
    "    df[df[\"reranker\"].isna()][[\"qid\", \"measure\", \"run\", \"value\", \"value_aggregated\"]],\n",
    "    on=[\"qid\", \"measure\", \"run\"],\n",
    "    suffixes=(\"\", \"_original\"),\n",
    ").rename(columns={\"value_aggregated_original\": \"value_original_aggregated\"})\n",
    "df[\"difference_original\"] = df[\"value\"] - df[\"value_original\"]\n",
    "df[\"difference_original_aggregated\"] = df[\"value_aggregated\"] - df[\"value_original_aggregated\"]\n",
    "\n",
    "df"
   ],
   "metadata": {
    "collapsed": false,
    "ExecuteTime": {
     "end_time": "2023-08-23T14:51:24.844623657Z",
     "start_time": "2023-08-23T14:51:22.862478529Z"
    }
   }
  },
  {
   "cell_type": "code",
   "execution_count": 86,
   "outputs": [
    {
     "data": {
      "text/plain": "{'Aldo-Nadi': 'Aldo Nadi',\n 'Asuna': 'Asuna',\n 'Captain-Levi': 'Captain L.',\n 'Captain-Tempesta': 'Captain T.',\n 'Grimjack': 'Grimjack',\n 'Katana': 'Katana',\n 'Olivier-Armstrong': 'Olivier A.',\n 'Puss-in-Boots': 'Puss in B.'}"
     },
     "execution_count": 86,
     "metadata": {},
     "output_type": "execute_result"
    }
   ],
   "source": [
    "short_team_names = {}\n",
    "team: str\n",
    "for team in df[\"team\"].sort_values().unique():\n",
    "    orig_team = team\n",
    "    for prefix in [\"Captain\", \"Olivier\", \"Puss-in\"]:\n",
    "        if team.startswith(prefix):\n",
    "            team = prefix + team.removeprefix(prefix)[:2] + \".\"\n",
    "    short_team_names[orig_team] = team.replace(\"-\", \" \")\n",
    "short_team_names"
   ],
   "metadata": {
    "collapsed": false,
    "ExecuteTime": {
     "end_time": "2023-08-23T14:52:15.335439083Z",
     "start_time": "2023-08-23T14:52:15.279926075Z"
    }
   }
  },
  {
   "cell_type": "code",
   "execution_count": 87,
   "outputs": [
    {
     "data": {
      "text/plain": "{('Aldo-Nadi', 'Aldo-Nadi seupd2122-kueri_RF_reranked'): 'A',\n ('Aldo-Nadi', 'Aldo-Nadi seupd2122-kueri_kueristopv2_BM2_false_porter'): 'B',\n ('Aldo-Nadi',\n  'Aldo-Nadi seupd2122-kueri_kueristopv2_BM2_false_porter_reranked'): 'C',\n ('Aldo-Nadi', 'Aldo-Nadi seupd2122-kueri_rrf'): 'D',\n ('Aldo-Nadi', 'Aldo-Nadi seupd2122-kueri_rrf_reranked'): 'E',\n ('Asuna', 'Asuna asuna-run-5'): 'A',\n ('Captain-Levi', 'Captain-Levi levirank_baseline_large_duo_t5'): 'A',\n ('Captain-Levi', 'Captain-Levi levirank_dense_initial_retrieval'): 'B',\n ('Captain-Levi', 'Captain-Levi levirank_psuedo_relevance_feedback'): 'C',\n ('Captain-Levi',\n  'Captain-Levi levirank_psuedo_relevance_feedback+voting'): 'D',\n ('Captain-Levi', 'Captain-Levi levirank_voting_retrieval'): 'E',\n ('Captain-Tempesta', 'Captain-Tempesta hextech_run_1'): 'A',\n ('Captain-Tempesta', 'Captain-Tempesta hextech_run_2'): 'B',\n ('Captain-Tempesta', 'Captain-Tempesta hextech_run_3'): 'C',\n ('Captain-Tempesta', 'Captain-Tempesta hextech_run_4'): 'D',\n ('Captain-Tempesta', 'Captain-Tempesta hextech_run_5'): 'E',\n ('Grimjack', 'Grimjack grimjack-all-you-need-is-t0'): 'A',\n ('Grimjack', 'Grimjack grimjack-argumentative-axioms'): 'B',\n ('Grimjack', 'Grimjack grimjack-baseline'): 'C',\n ('Grimjack', 'Grimjack grimjack-fair-argumentative-reranking-with-t0'): 'D',\n ('Grimjack', 'Grimjack grimjack-fair-reranking-argumentative-axioms'): 'E',\n ('Katana', 'Katana Colbert edinburg'): 'A',\n ('Katana', 'Katana Colbert fine tune on touche data'): 'B',\n ('Katana', 'Katana Colbert trained by me'): 'C',\n ('Olivier-Armstrong', 'Olivier-Armstrong tfid_arg_similarity'): 'A',\n ('Puss-in-Boots', 'Puss-in-Boots BM25-Baseline'): 'A'}"
     },
     "execution_count": 87,
     "metadata": {},
     "output_type": "execute_result"
    }
   ],
   "source": [
    "short_run_names = {}\n",
    "for team in df[\"team\"].unique():\n",
    "    for run, char in zip(df[df[\"team\"] == team][\"run\"].sort_values().unique(), \"ABCDEFGHIJKLMNOPQRSTUVWXYZ\"):\n",
    "        short_run_names[(team, run)] = char\n",
    "short_run_names"
   ],
   "metadata": {
    "collapsed": false,
    "ExecuteTime": {
     "end_time": "2023-08-23T14:52:16.570490509Z",
     "start_time": "2023-08-23T14:52:16.508312245Z"
    }
   }
  },
  {
   "cell_type": "code",
   "execution_count": 91,
   "outputs": [
    {
     "name": "stdout",
     "output_type": "stream",
     "text": [
      "\\begin{tabular}{@{}lll@{}}\n",
      "    \\toprule\n",
      "    \\multicolumn{2}{@{}l}{Run} & Run ID \\\\\n",
      "    \\midrule\n",
      "    Aldo Nadi & A & seupd2122-kueri_RF_reranked \\\\\n",
      "    Aldo Nadi & B & seupd2122-kueri_kueristopv2_BM2_false_porter \\\\\n",
      "    Aldo Nadi & C & seupd2122-kueri_kueristopv2_BM2_false_porter_reranked \\\\\n",
      "    Aldo Nadi & D & seupd2122-kueri_rrf \\\\\n",
      "    Aldo Nadi & E & seupd2122-kueri_rrf_reranked \\\\\n",
      "    Asuna & A & asuna-run-5 \\\\\n",
      "    Captain Levi & A & levirank_baseline_large_duo_t5 \\\\\n",
      "    Captain Levi & B & levirank_dense_initial_retrieval \\\\\n",
      "    Captain Levi & C & levirank_psuedo_relevance_feedback \\\\\n",
      "    Captain Levi & D & levirank_psuedo_relevance_feedback+voting \\\\\n",
      "    Captain Levi & E & levirank_voting_retrieval \\\\\n",
      "    Captain Tempesta & A & hextech_run_1 \\\\\n",
      "    Captain Tempesta & B & hextech_run_2 \\\\\n",
      "    Captain Tempesta & C & hextech_run_3 \\\\\n",
      "    Captain Tempesta & D & hextech_run_4 \\\\\n",
      "    Captain Tempesta & E & hextech_run_5 \\\\\n",
      "    Grimjack & A & grimjack-all-you-need-is-t0 \\\\\n",
      "    Grimjack & B & grimjack-argumentative-axioms \\\\\n",
      "    Grimjack & C & grimjack-baseline \\\\\n",
      "    Grimjack & D & grimjack-fair-argumentative-reranking-with-t0 \\\\\n",
      "    Grimjack & E & grimjack-fair-reranking-argumentative-axioms \\\\\n",
      "    Katana & A & Colbert edinburg \\\\\n",
      "    Katana & B & Colbert fine tune on touche data \\\\\n",
      "    Katana & C & Colbert trained by me \\\\\n",
      "    Olivier Armstrong & A & tfid_arg_similarity \\\\\n",
      "    Puss in Boots & A & BM25-Baseline \\\\\n",
      "    \\bottomrule\n",
      "\\end{tabular}\n"
     ]
    }
   ],
   "source": [
    "print(r\"\\begin{tabular}{@{}lll@{}}\")\n",
    "print(r\"    \\toprule\")\n",
    "print(r\"    \\multicolumn{2}{@{}l}{Run} & Run ID \\\\\")\n",
    "print(r\"    \\midrule\")\n",
    "for team in df[\"team\"].sort_values().unique():\n",
    "    for run in df[df[\"team\"] == team][\"run\"].sort_values().unique():\n",
    "        print(f\"    {team.replace('-', ' ')} & {short_run_names[(team, run)]} & {run.removeprefix(team)[1:]} \\\\\\\\\")\n",
    "print(r\"    \\bottomrule\")\n",
    "print(r\"\\end{tabular}\")"
   ],
   "metadata": {
    "collapsed": false,
    "ExecuteTime": {
     "end_time": "2023-08-23T14:53:11.978579803Z",
     "start_time": "2023-08-23T14:53:11.895559751Z"
    }
   }
  },
  {
   "cell_type": "code",
   "execution_count": 134,
   "outputs": [],
   "source": [
    "rerankers_table = {\n",
    "    nan: r\"Touch{\\'e}\",\n",
    "    \"ground-truth + stance-first@5\": r\"Oracle~{\\tiny(\\fone=\\,1.00)}\",\n",
    "    \"ground-truth + randomize(F1<=0.75)@5 + stance-first@5\": r\"Random~{\\tiny(\\fone<\\,0.75)}\",\n",
    "    \"gpt3-tsv + stance-first@5\": r\"GPT-3~{\\tiny(\\fone=\\,0.49)}\",\n",
    "    \"google/flan-t5-base@5 + stance-first@5\": r\"Flan-T5~{\\tiny(\\fone=\\,0.39)}\",\n",
    "    \"roberta-csv + stance-first@5\": r\"\\kern-0.25em RoBERTa~{\\tiny(\\fone=\\,0.34)}\\kern-0.25em\",\n",
    "    \"stance-first@5\": r\"Original~{\\tiny(\\fone<\\,0.36)}\",\n",
    "}\n",
    "correction_n = len(rerankers_table) + 1\n",
    "\n",
    "for key in rerankers_table.keys():\n",
    "    if (not isna(key) and len(df[df[\"reranker\"] == key]) == 0) or (isna(key) and len(df[df[\"reranker\"].isna()]) == 0):\n",
    "        raise ValueError(f\"Re-ranker '{key}' not found.\")"
   ],
   "metadata": {
    "collapsed": false,
    "ExecuteTime": {
     "end_time": "2023-08-23T15:30:08.889183775Z",
     "start_time": "2023-08-23T15:30:08.832893814Z"
    }
   }
  },
  {
   "cell_type": "code",
   "execution_count": 164,
   "outputs": [
    {
     "data": {
      "text/plain": "                                                    name          team   \n10032      Captain-Levi levirank_dense_initial_retrieval  Captain-Levi  \\\n8932         Captain-Levi levirank_baseline_large_duo_t5  Captain-Levi   \n11132  Captain-Levi levirank_psuedo_relevance_feedbac...  Captain-Levi   \n6732              Captain-Levi levirank_voting_retrieval  Captain-Levi   \n7832     Captain-Levi levirank_psuedo_relevance_feedback  Captain-Levi   \n...                                                  ...           ...   \n50734  Grimjack grimjack-fair-argumentative-reranking...      Grimjack   \n46334        Grimjack grimjack-baseline + stance-first@5      Grimjack   \n47434  Grimjack grimjack-argumentative-axioms + stanc...      Grimjack   \n49634  Grimjack grimjack-all-you-need-is-t0 + stance-...      Grimjack   \n34234                 Asuna asuna-run-5 + stance-first@5         Asuna   \n\n                                                     run        reranker   \n10032      Captain-Levi levirank_dense_initial_retrieval             NaN  \\\n8932         Captain-Levi levirank_baseline_large_duo_t5             NaN   \n11132  Captain-Levi levirank_psuedo_relevance_feedbac...             NaN   \n6732              Captain-Levi levirank_voting_retrieval             NaN   \n7832     Captain-Levi levirank_psuedo_relevance_feedback             NaN   \n...                                                  ...             ...   \n50734  Grimjack grimjack-fair-argumentative-reranking...  stance-first@5   \n46334                         Grimjack grimjack-baseline  stance-first@5   \n47434             Grimjack grimjack-argumentative-axioms  stance-first@5   \n49634               Grimjack grimjack-all-you-need-is-t0  stance-first@5   \n34234                                  Asuna asuna-run-5  stance-first@5   \n\n            measure  value_aggregated  value_original_aggregated   \n10032   nDCG@5 rel.           0.75772                    0.75772  \\\n8932    nDCG@5 rel.           0.75512                    0.75512   \n11132   nDCG@5 rel.           0.75280                    0.75280   \n6732    nDCG@5 rel.           0.72734                    0.72734   \n7832    nDCG@5 rel.           0.72146                    0.72146   \n...             ...               ...                        ...   \n50734  nDCG@5 qual.           0.36526                    0.36526   \n46334  nDCG@5 qual.           0.36342                    0.36342   \n47434  nDCG@5 qual.           0.36342                    0.36342   \n49634  nDCG@5 qual.           0.34436                    0.34436   \n34234  nDCG@5 qual.           0.33230                    0.33230   \n\n       difference_original_aggregated  run_rank  run_rank_original   \n10032                             0.0         1                  1  \\\n8932                              0.0         2                  2   \n11132                             0.0         3                  3   \n6732                              0.0         4                  4   \n7832                              0.0         5                  5   \n...                               ...       ...                ...   \n50734                             0.0        22                 22   \n46334                             0.0        23                 23   \n47434                             0.0        24                 24   \n49634                             0.0        25                 25   \n34234                             0.0        26                 26   \n\n       reranker_index  p_value  p_value_corrected  ci95_low  ci95_high   \n10032               0      NaN                NaN       NaN        NaN  \\\n8932                0      NaN                NaN       NaN        NaN   \n11132               0      NaN                NaN       NaN        NaN   \n6732                0      NaN                NaN       NaN        NaN   \n7832                0      NaN                NaN       NaN        NaN   \n...               ...      ...                ...       ...        ...   \n50734               6      NaN                NaN       NaN        NaN   \n46334               6      NaN                NaN       NaN        NaN   \n47434               6      NaN                NaN       NaN        NaN   \n49634               6      NaN                NaN       NaN        NaN   \n34234               6      NaN                NaN       NaN        NaN   \n\n       cohen_d  \n10032      NaN  \n8932       NaN  \n11132      NaN  \n6732       NaN  \n7832       NaN  \n...        ...  \n50734      NaN  \n46334      NaN  \n47434      NaN  \n49634      NaN  \n34234      NaN  \n\n[364 rows x 16 columns]",
      "text/html": "<div>\n<style scoped>\n    .dataframe tbody tr th:only-of-type {\n        vertical-align: middle;\n    }\n\n    .dataframe tbody tr th {\n        vertical-align: top;\n    }\n\n    .dataframe thead th {\n        text-align: right;\n    }\n</style>\n<table border=\"1\" class=\"dataframe\">\n  <thead>\n    <tr style=\"text-align: right;\">\n      <th></th>\n      <th>name</th>\n      <th>team</th>\n      <th>run</th>\n      <th>reranker</th>\n      <th>measure</th>\n      <th>value_aggregated</th>\n      <th>value_original_aggregated</th>\n      <th>difference_original_aggregated</th>\n      <th>run_rank</th>\n      <th>run_rank_original</th>\n      <th>reranker_index</th>\n      <th>p_value</th>\n      <th>p_value_corrected</th>\n      <th>ci95_low</th>\n      <th>ci95_high</th>\n      <th>cohen_d</th>\n    </tr>\n  </thead>\n  <tbody>\n    <tr>\n      <th>10032</th>\n      <td>Captain-Levi levirank_dense_initial_retrieval</td>\n      <td>Captain-Levi</td>\n      <td>Captain-Levi levirank_dense_initial_retrieval</td>\n      <td>NaN</td>\n      <td>nDCG@5 rel.</td>\n      <td>0.75772</td>\n      <td>0.75772</td>\n      <td>0.0</td>\n      <td>1</td>\n      <td>1</td>\n      <td>0</td>\n      <td>NaN</td>\n      <td>NaN</td>\n      <td>NaN</td>\n      <td>NaN</td>\n      <td>NaN</td>\n    </tr>\n    <tr>\n      <th>8932</th>\n      <td>Captain-Levi levirank_baseline_large_duo_t5</td>\n      <td>Captain-Levi</td>\n      <td>Captain-Levi levirank_baseline_large_duo_t5</td>\n      <td>NaN</td>\n      <td>nDCG@5 rel.</td>\n      <td>0.75512</td>\n      <td>0.75512</td>\n      <td>0.0</td>\n      <td>2</td>\n      <td>2</td>\n      <td>0</td>\n      <td>NaN</td>\n      <td>NaN</td>\n      <td>NaN</td>\n      <td>NaN</td>\n      <td>NaN</td>\n    </tr>\n    <tr>\n      <th>11132</th>\n      <td>Captain-Levi levirank_psuedo_relevance_feedbac...</td>\n      <td>Captain-Levi</td>\n      <td>Captain-Levi levirank_psuedo_relevance_feedbac...</td>\n      <td>NaN</td>\n      <td>nDCG@5 rel.</td>\n      <td>0.75280</td>\n      <td>0.75280</td>\n      <td>0.0</td>\n      <td>3</td>\n      <td>3</td>\n      <td>0</td>\n      <td>NaN</td>\n      <td>NaN</td>\n      <td>NaN</td>\n      <td>NaN</td>\n      <td>NaN</td>\n    </tr>\n    <tr>\n      <th>6732</th>\n      <td>Captain-Levi levirank_voting_retrieval</td>\n      <td>Captain-Levi</td>\n      <td>Captain-Levi levirank_voting_retrieval</td>\n      <td>NaN</td>\n      <td>nDCG@5 rel.</td>\n      <td>0.72734</td>\n      <td>0.72734</td>\n      <td>0.0</td>\n      <td>4</td>\n      <td>4</td>\n      <td>0</td>\n      <td>NaN</td>\n      <td>NaN</td>\n      <td>NaN</td>\n      <td>NaN</td>\n      <td>NaN</td>\n    </tr>\n    <tr>\n      <th>7832</th>\n      <td>Captain-Levi levirank_psuedo_relevance_feedback</td>\n      <td>Captain-Levi</td>\n      <td>Captain-Levi levirank_psuedo_relevance_feedback</td>\n      <td>NaN</td>\n      <td>nDCG@5 rel.</td>\n      <td>0.72146</td>\n      <td>0.72146</td>\n      <td>0.0</td>\n      <td>5</td>\n      <td>5</td>\n      <td>0</td>\n      <td>NaN</td>\n      <td>NaN</td>\n      <td>NaN</td>\n      <td>NaN</td>\n      <td>NaN</td>\n    </tr>\n    <tr>\n      <th>...</th>\n      <td>...</td>\n      <td>...</td>\n      <td>...</td>\n      <td>...</td>\n      <td>...</td>\n      <td>...</td>\n      <td>...</td>\n      <td>...</td>\n      <td>...</td>\n      <td>...</td>\n      <td>...</td>\n      <td>...</td>\n      <td>...</td>\n      <td>...</td>\n      <td>...</td>\n      <td>...</td>\n    </tr>\n    <tr>\n      <th>50734</th>\n      <td>Grimjack grimjack-fair-argumentative-reranking...</td>\n      <td>Grimjack</td>\n      <td>Grimjack grimjack-fair-argumentative-reranking...</td>\n      <td>stance-first@5</td>\n      <td>nDCG@5 qual.</td>\n      <td>0.36526</td>\n      <td>0.36526</td>\n      <td>0.0</td>\n      <td>22</td>\n      <td>22</td>\n      <td>6</td>\n      <td>NaN</td>\n      <td>NaN</td>\n      <td>NaN</td>\n      <td>NaN</td>\n      <td>NaN</td>\n    </tr>\n    <tr>\n      <th>46334</th>\n      <td>Grimjack grimjack-baseline + stance-first@5</td>\n      <td>Grimjack</td>\n      <td>Grimjack grimjack-baseline</td>\n      <td>stance-first@5</td>\n      <td>nDCG@5 qual.</td>\n      <td>0.36342</td>\n      <td>0.36342</td>\n      <td>0.0</td>\n      <td>23</td>\n      <td>23</td>\n      <td>6</td>\n      <td>NaN</td>\n      <td>NaN</td>\n      <td>NaN</td>\n      <td>NaN</td>\n      <td>NaN</td>\n    </tr>\n    <tr>\n      <th>47434</th>\n      <td>Grimjack grimjack-argumentative-axioms + stanc...</td>\n      <td>Grimjack</td>\n      <td>Grimjack grimjack-argumentative-axioms</td>\n      <td>stance-first@5</td>\n      <td>nDCG@5 qual.</td>\n      <td>0.36342</td>\n      <td>0.36342</td>\n      <td>0.0</td>\n      <td>24</td>\n      <td>24</td>\n      <td>6</td>\n      <td>NaN</td>\n      <td>NaN</td>\n      <td>NaN</td>\n      <td>NaN</td>\n      <td>NaN</td>\n    </tr>\n    <tr>\n      <th>49634</th>\n      <td>Grimjack grimjack-all-you-need-is-t0 + stance-...</td>\n      <td>Grimjack</td>\n      <td>Grimjack grimjack-all-you-need-is-t0</td>\n      <td>stance-first@5</td>\n      <td>nDCG@5 qual.</td>\n      <td>0.34436</td>\n      <td>0.34436</td>\n      <td>0.0</td>\n      <td>25</td>\n      <td>25</td>\n      <td>6</td>\n      <td>NaN</td>\n      <td>NaN</td>\n      <td>NaN</td>\n      <td>NaN</td>\n      <td>NaN</td>\n    </tr>\n    <tr>\n      <th>34234</th>\n      <td>Asuna asuna-run-5 + stance-first@5</td>\n      <td>Asuna</td>\n      <td>Asuna asuna-run-5</td>\n      <td>stance-first@5</td>\n      <td>nDCG@5 qual.</td>\n      <td>0.33230</td>\n      <td>0.33230</td>\n      <td>0.0</td>\n      <td>26</td>\n      <td>26</td>\n      <td>6</td>\n      <td>NaN</td>\n      <td>NaN</td>\n      <td>NaN</td>\n      <td>NaN</td>\n      <td>NaN</td>\n    </tr>\n  </tbody>\n</table>\n<p>364 rows × 16 columns</p>\n</div>"
     },
     "execution_count": 164,
     "metadata": {},
     "output_type": "execute_result"
    }
   ],
   "source": [
    "df_table = df[\n",
    "    df[\"reranker\"].isin(rerankers_table.keys()) |\n",
    "    df[\"reranker\"].isna()\n",
    "    ]\n",
    "reranker_index = {\n",
    "    reranker: i\n",
    "    for i, reranker in enumerate(rerankers_table.keys())\n",
    "}\n",
    "\n",
    "\n",
    "def table_row(df: DataFrame, measure_name: str, run: str, reranker: str) -> Series:\n",
    "    measure = measures[measures[\"name\"] == measure_name].iloc[0]\n",
    "\n",
    "    df_reranked = df[df[\"run\"] == run]\n",
    "    if isna(reranker):\n",
    "        df_reranked = df_reranked[df_reranked[\"reranker\"].isna()]\n",
    "    else:\n",
    "        df_reranked = df_reranked[df_reranked[\"reranker\"] == reranker]\n",
    "\n",
    "    df_originals = df[df[\"reranker\"].isna()]\n",
    "    df_originals = df_originals.sort_values(\"run\").sort_values(\"value_aggregated\", ascending=not measure[\"maximize\"])\n",
    "    run_ranks_original = {run: i + 1 for i, run in enumerate(df_originals[\"run\"].unique())}\n",
    "    run_rank_original = run_ranks_original[run]\n",
    "    df_leaderboard = concat([\n",
    "        df_originals[df_originals[\"run\"] != run],\n",
    "        df_reranked,\n",
    "    ])\n",
    "    df_leaderboard = df_leaderboard.sort_values(\"run\").sort_values(\"value_aggregated\",\n",
    "                                                                   ascending=not measure[\"maximize\"])\n",
    "    run_ranks = {run: i + 1 for i, run in enumerate(df_leaderboard[\"run\"].unique())}\n",
    "    run_rank = run_ranks[run]\n",
    "\n",
    "    df_original = df_originals[df_originals[\"run\"] == run]\n",
    "\n",
    "    df_reranked = df_reranked.sort_values(\"qid\")\n",
    "    df_original = df_original.sort_values(\"qid\")\n",
    "\n",
    "    if not array_equal(df_original[\"value\"], df_reranked[\"value\"]):\n",
    "        stats = ttest(df_original[\"value\"], df_reranked[\"value\"], paired=True)\n",
    "    else:\n",
    "        stats = DataFrame({\n",
    "            \"p-val\": [nan],\n",
    "            \"CI95%\": [(nan, nan)],\n",
    "            \"cohen-d\": [nan],\n",
    "        })\n",
    "\n",
    "    res: Series = df_reranked[[\n",
    "        \"name\", \"team\", \"run\", \"reranker\", \"measure\",\n",
    "        \"value_aggregated\", \"value_original_aggregated\", \"difference_original_aggregated\"\n",
    "    ]].iloc[0]\n",
    "    res[\"run_rank\"] = run_rank\n",
    "    res[\"run_rank_original\"] = run_rank_original\n",
    "    res[\"reranker_index\"] = reranker_index[reranker]\n",
    "    res[\"p_value\"] = stats[\"p-val\"].iloc[0]\n",
    "    res[\"p_value_corrected\"] = stats[\"p-val\"].iloc[0] * correction_n\n",
    "    res[\"ci95_low\"] = stats[\"CI95%\"].iloc[0][0]\n",
    "    res[\"ci95_high\"] = stats[\"CI95%\"].iloc[0][1]\n",
    "    res[\"cohen_d\"] = stats[\"cohen-d\"].iloc[0]\n",
    "    return res\n",
    "\n",
    "\n",
    "df_table = DataFrame([\n",
    "    table_row(\n",
    "        df_table_measure,\n",
    "        measure,\n",
    "        run,\n",
    "        reranker,\n",
    "    )\n",
    "    for reranker in rerankers_table.keys()\n",
    "    for measure, df_table_measure in df_table.groupby(\"measure\", dropna=False, sort=False)\n",
    "    for run in df_table[\"run\"].unique()\n",
    "])\n",
    "\n",
    "df_table.sort_values([\"measure\", \"reranker_index\", \"run_rank\"], ascending=[False, True, True], inplace=True)\n",
    "\n",
    "df_table"
   ],
   "metadata": {
    "collapsed": false,
    "ExecuteTime": {
     "end_time": "2023-08-23T16:12:32.849943930Z",
     "start_time": "2023-08-23T16:12:22.377034948Z"
    }
   }
  },
  {
   "cell_type": "code",
   "execution_count": 165,
   "outputs": [],
   "source": [
    "# TODO: Report for each run: optimal achievable ndcg when re-ranking top-5\n",
    "# TODO: Flan raus"
   ],
   "metadata": {
    "collapsed": false,
    "ExecuteTime": {
     "end_time": "2023-08-23T16:12:32.870342912Z",
     "start_time": "2023-08-23T16:12:32.851350043Z"
    }
   }
  },
  {
   "cell_type": "code",
   "execution_count": 178,
   "outputs": [
    {
     "name": "stdout",
     "output_type": "stream",
     "text": [
      "\\renewcommand{\\tabcolsep}{0.38em}\n",
      "\\begin{tabular}{@{}l@{\\hspace{0.342em}}l@{\\hspace{1.55em}}r@{\\hspace{0.342em}}r@{\\hspace{1.55em}}r@{\\hspace{0.342em}}rr@{\\hspace{0.342em}}r@{\\hspace{1.55em}}r@{\\hspace{0.342em}}rr@{\\hspace{0.342em}}r@{\\hspace{1.55em}}r@{\\hspace{0.342em}}rr@{\\hspace{0.342em}}r@{\\hspace{1.55em}}r@{\\hspace{0.342em}}rr@{\\hspace{0.342em}}r@{\\hspace{1.55em}}r@{\\hspace{0.342em}}rr@{\\hspace{0.342em}}r@{\\hspace{1.55em}}r@{\\hspace{0.342em}}rr@{\\hspace{0.342em}}r@{}}\n",
      "    \\toprule\n",
      "    \\multicolumn{2}{@{}l}{\\textbf{Run}} & \\multicolumn{2}{@{}c@{\\hspace{1.55em}}}{\\textbf{Touch{\\'e}}} & \\multicolumn{4}{@{}c@{\\hspace{1.55em}}}{\\textbf{Oracle~{\\tiny(\\fone=\\,1.00)}}} & \\multicolumn{4}{@{}c@{\\hspace{1.55em}}}{\\textbf{Random~{\\tiny(\\fone<\\,0.75)}}} & \\multicolumn{4}{@{}c@{\\hspace{1.55em}}}{\\textbf{GPT-3~{\\tiny(\\fone=\\,0.49)}}} & \\multicolumn{4}{@{}c@{\\hspace{1.55em}}}{\\textbf{Flan-T5~{\\tiny(\\fone=\\,0.39)}}} & \\multicolumn{4}{@{}c@{\\hspace{1.55em}}}{\\textbf{\\kern-0.25em RoBERTa~{\\tiny(\\fone=\\,0.34)}\\kern-0.25em}} & \\multicolumn{4}{@{}c@{}}{\\textbf{Original~{\\tiny(\\fone<\\,0.36)}}} \\\\\n",
      "    \\cmidrule(r{1.55em}){3-4}\\cmidrule(r{1.55em}){5-8}\\cmidrule(r{1.55em}){9-12}\\cmidrule(r{1.55em}){13-16}\\cmidrule(r{1.55em}){17-20}\\cmidrule(r{1.55em}){21-24}\\cmidrule(){25-28}\n",
      "     &  & Val. & \\# & Val. & {\\tiny$\\Delta$} & \\# & {\\tiny$\\Delta$} & Val. & {\\tiny$\\Delta$} & \\# & {\\tiny$\\Delta$} & Val. & {\\tiny$\\Delta$} & \\# & {\\tiny$\\Delta$} & Val. & {\\tiny$\\Delta$} & \\# & {\\tiny$\\Delta$} & Val. & {\\tiny$\\Delta$} & \\# & {\\tiny$\\Delta$} & Val. & {\\tiny$\\Delta$} & \\# & {\\tiny$\\Delta$} \\\\\n",
      "    \\midrule\n",
      "    \\multicolumn{28}{@{}l@{}}{\\textit{nDCG@5 evaluated using relevance labels}} \\\\\n",
      "    \\midrule\n",
      "    Captain L. & B & 0.76 & 1 & \\textbf{0.79} & \\textbf{+0.03} & 1 & {\\tiny$\\phantom{\\uparrow}$}0 & 0.78 & +0.02 & 1 & {\\tiny$\\phantom{\\uparrow}$}0 & 0.78 & +0.02 & 1 & {\\tiny$\\phantom{\\uparrow}$}0 & 0.76 & +0.01 & 1 & {\\tiny$\\phantom{\\uparrow}$}0 & 0.77 & +0.01 & 1 & {\\tiny$\\phantom{\\uparrow}$}0 & 0.75 & +0.00 & 2 & {\\tiny$\\downarrow$}1 \\\\\n",
      "    Captain L. & A & 0.76 & 2 & \\textbf{0.79} & \\textbf{+0.03} & 1 & {\\tiny$\\uparrow$}1 & 0.77 & +0.01 & 1 & {\\tiny$\\uparrow$}1 & 0.78 & +0.02 & 1 & {\\tiny$\\uparrow$}1 & 0.76 & +0.01 & 1 & {\\tiny$\\uparrow$}1 & 0.76 & +0.01 & 1 & {\\tiny$\\uparrow$}1 & 0.75 & +0.00 & 3 & {\\tiny$\\downarrow$}1 \\\\\n",
      "    Captain L. & D & 0.75 & 3 & \\textbf{0.78} & \\textbf{+0.03} & 1 & {\\tiny$\\uparrow$}2 & 0.77 & +0.02 & 1 & {\\tiny$\\uparrow$}2 & 0.77 & +0.02 & 1 & {\\tiny$\\uparrow$}2 & 0.76 & +0.01 & 1 & {\\tiny$\\uparrow$}2 & 0.75 & +0.00 & 3 & {\\tiny$\\phantom{\\uparrow}$}0 & 0.75 & +0.00 & 3 & {\\tiny$\\phantom{\\uparrow}$}0 \\\\\n",
      "    Captain L. & E & 0.73 & 4 & \\textbf{0.75} & \\textbf{+0.02} & 4 & {\\tiny$\\phantom{\\uparrow}$}0 & 0.74 & +0.01 & 4 & {\\tiny$\\phantom{\\uparrow}$}0 & 0.74 & +0.01 & 4 & {\\tiny$\\phantom{\\uparrow}$}0 & 0.72 & +0.00 & 4 & {\\tiny$\\phantom{\\uparrow}$}0 & 0.73 & +0.00 & 4 & {\\tiny$\\phantom{\\uparrow}$}0 & 0.73 & +0.00 & 4 & {\\tiny$\\phantom{\\uparrow}$}0 \\\\\n",
      "    Captain L. & C & 0.72 & 5 & \\textbf{0.75} & \\textbf{+0.03} & 4 & {\\tiny$\\uparrow$}1 & 0.74 & +0.02 & 4 & {\\tiny$\\uparrow$}1 & 0.74 & +0.01 & 4 & {\\tiny$\\uparrow$}1 & 0.72 & +0.00 & 5 & {\\tiny$\\phantom{\\uparrow}$}0 & 0.73 & +0.00 & 5 & {\\tiny$\\phantom{\\uparrow}$}0 & 0.72 & +0.00 & 5 & {\\tiny$\\phantom{\\uparrow}$}0 \\\\\n",
      "    Aldo Nadi & E & 0.71 & 6 & \\textbf{0.74} & \\textbf{+0.03} & 4 & {\\tiny$\\uparrow$}2 & 0.73 & +0.02 & 4 & {\\tiny$\\uparrow$}2 & 0.72 & +0.01 & 6 & {\\tiny$\\phantom{\\uparrow}$}0 & 0.71 & +0.00 & 6 & {\\tiny$\\phantom{\\uparrow}$}0 & 0.71 & +0.00 & 6 & {\\tiny$\\phantom{\\uparrow}$}0 & \\hidden{0.71} & \\hidden{+0.00} & \\hidden{6} & \\hidden{{\\tiny$\\phantom{\\uparrow}$}0} \\\\\n",
      "    Aldo Nadi & A & 0.70 & 7 & \\textbf{0.73} & \\textbf{+0.03} & 4 & {\\tiny$\\uparrow$}3 & \\textbf{0.72} & \\textbf{+0.02} & 6 & {\\tiny$\\uparrow$}1 & 0.70 & +0.01 & 7 & {\\tiny$\\phantom{\\uparrow}$}0 & 0.71 & +0.02 & 6 & {\\tiny$\\uparrow$}1 & 0.70 & +0.01 & 7 & {\\tiny$\\phantom{\\uparrow}$}0 & \\hidden{0.70} & \\hidden{+0.00} & \\hidden{7} & \\hidden{{\\tiny$\\phantom{\\uparrow}$}0} \\\\\n",
      "    Aldo Nadi & D & 0.67 & 8 & \\textbf{0.70} & \\textbf{+0.03} & 7 & {\\tiny$\\uparrow$}1 & 0.68 & +0.01 & 8 & {\\tiny$\\phantom{\\uparrow}$}0 & 0.68 & +0.01 & 8 & {\\tiny$\\phantom{\\uparrow}$}0 & 0.68 & +0.01 & 8 & {\\tiny$\\phantom{\\uparrow}$}0 & 0.68 & +0.01 & 8 & {\\tiny$\\phantom{\\uparrow}$}0 & \\hidden{0.67} & \\hidden{+0.00} & \\hidden{8} & \\hidden{{\\tiny$\\phantom{\\uparrow}$}0} \\\\\n",
      "    Aldo Nadi & C & 0.64 & 9 & \\textbf{0.67} & \\textbf{+0.04} & 8 & {\\tiny$\\uparrow$}1 & 0.66 & +0.02 & 9 & {\\tiny$\\phantom{\\uparrow}$}0 & 0.65 & +0.01 & 9 & {\\tiny$\\phantom{\\uparrow}$}0 & 0.64 & +0.00 & 9 & {\\tiny$\\phantom{\\uparrow}$}0 & 0.63 & +0.00 & 9 & {\\tiny$\\phantom{\\uparrow}$}0 & \\hidden{0.64} & \\hidden{+0.00} & \\hidden{9} & \\hidden{{\\tiny$\\phantom{\\uparrow}$}0} \\\\\n",
      "    Katana & A & 0.62 & 10 & \\textbf{0.65} & \\textbf{+0.04} & 9 & {\\tiny$\\uparrow$}1 & 0.64 & +0.02 & 9 & {\\tiny$\\uparrow$}1 & \\textbf{0.65} & \\textbf{+0.03} & 9 & {\\tiny$\\uparrow$}1 & 0.63 & +0.01 & 10 & {\\tiny$\\phantom{\\uparrow}$}0 & 0.62 & +0.01 & 10 & {\\tiny$\\phantom{\\uparrow}$}0 & 0.62 & +0.00 & 10 & {\\tiny$\\phantom{\\uparrow}$}0 \\\\\n",
      "    Katana & C & 0.60 & 11 & \\textbf{0.64} & \\textbf{+0.04} & 9 & {\\tiny$\\uparrow$}2 & \\textbf{0.63} & \\textbf{+0.03} & 10 & {\\tiny$\\uparrow$}1 & \\textbf{0.62} & \\textbf{+0.02} & 10 & {\\tiny$\\uparrow$}1 & 0.61 & +0.01 & 11 & {\\tiny$\\phantom{\\uparrow}$}0 & 0.60 & +0.00 & 11 & {\\tiny$\\phantom{\\uparrow}$}0 & 0.60 & +0.00 & 11 & {\\tiny$\\phantom{\\uparrow}$}0 \\\\\n",
      "    Captain T. & A & 0.57 & 12 & \\textbf{0.61} & \\textbf{+0.04} & 11 & {\\tiny$\\uparrow$}1 & \\textbf{0.60} & \\textbf{+0.03} & 12 & {\\tiny$\\phantom{\\uparrow}$}0 & 0.59 & +0.01 & 12 & {\\tiny$\\phantom{\\uparrow}$}0 & 0.58 & +0.00 & 12 & {\\tiny$\\phantom{\\uparrow}$}0 & 0.58 & +0.00 & 12 & {\\tiny$\\phantom{\\uparrow}$}0 & \\hidden{0.57} & \\hidden{+0.00} & \\hidden{12} & \\hidden{{\\tiny$\\phantom{\\uparrow}$}0} \\\\\n",
      "    Captain T. & B & 0.57 & 13 & \\textbf{0.61} & \\textbf{+0.04} & 11 & {\\tiny$\\uparrow$}2 & 0.59 & +0.02 & 12 & {\\tiny$\\uparrow$}1 & 0.58 & +0.01 & 12 & {\\tiny$\\uparrow$}1 & 0.57 & +0.00 & 13 & {\\tiny$\\phantom{\\uparrow}$}0 & 0.57 & +0.00 & 13 & {\\tiny$\\phantom{\\uparrow}$}0 & \\hidden{0.57} & \\hidden{+0.00} & \\hidden{13} & \\hidden{{\\tiny$\\phantom{\\uparrow}$}0} \\\\\n",
      "    Captain T. & C & 0.56 & 14 & \\textbf{0.59} & \\textbf{+0.03} & 12 & {\\tiny$\\uparrow$}2 & 0.58 & +0.02 & 12 & {\\tiny$\\uparrow$}2 & 0.57 & +0.01 & 13 & {\\tiny$\\uparrow$}1 & 0.57 & +0.00 & 14 & {\\tiny$\\phantom{\\uparrow}$}0 & 0.56 & +0.00 & 15 & {\\tiny$\\downarrow$}1 & \\hidden{0.56} & \\hidden{+0.00} & \\hidden{14} & \\hidden{{\\tiny$\\phantom{\\uparrow}$}0} \\\\\n",
      "    Katana & B & 0.56 & 15 & \\textbf{0.60} & \\textbf{+0.04} & 11 & {\\tiny$\\uparrow$}4 & \\textbf{0.59} & \\textbf{+0.02} & 12 & {\\tiny$\\uparrow$}3 & 0.58 & +0.02 & 12 & {\\tiny$\\uparrow$}3 & 0.56 & -0.01 & 16 & {\\tiny$\\downarrow$}1 & 0.56 & +0.00 & 15 & {\\tiny$\\phantom{\\uparrow}$}0 & 0.56 & +0.00 & 15 & {\\tiny$\\phantom{\\uparrow}$}0 \\\\\n",
      "    Captain T. & E & 0.56 & 16 & \\textbf{0.60} & \\textbf{+0.04} & 12 & {\\tiny$\\uparrow$}4 & \\textbf{0.59} & \\textbf{+0.04} & 12 & {\\tiny$\\uparrow$}4 & 0.58 & +0.02 & 12 & {\\tiny$\\uparrow$}4 & 0.57 & +0.01 & 14 & {\\tiny$\\uparrow$}2 & 0.56 & +0.00 & 16 & {\\tiny$\\phantom{\\uparrow}$}0 & \\hidden{0.56} & \\hidden{+0.00} & \\hidden{16} & \\hidden{{\\tiny$\\phantom{\\uparrow}$}0} \\\\\n",
      "    Aldo Nadi & B & 0.55 & 17 & \\textbf{0.58} & \\textbf{+0.03} & 12 & {\\tiny$\\uparrow$}5 & 0.56 & +0.01 & 16 & {\\tiny$\\uparrow$}1 & 0.56 & +0.01 & 16 & {\\tiny$\\uparrow$}1 & 0.55 & +0.00 & 17 & {\\tiny$\\phantom{\\uparrow}$}0 & 0.55 & +0.00 & 17 & {\\tiny$\\phantom{\\uparrow}$}0 & \\hidden{0.55} & \\hidden{+0.00} & \\hidden{17} & \\hidden{{\\tiny$\\phantom{\\uparrow}$}0} \\\\\n",
      "    Captain T. & D & 0.54 & 18 & \\textbf{0.58} & \\textbf{+0.04} & 12 & {\\tiny$\\uparrow$}6 & 0.57 & +0.03 & 14 & {\\tiny$\\uparrow$}4 & 0.56 & +0.02 & 16 & {\\tiny$\\uparrow$}2 & 0.54 & +0.01 & 18 & {\\tiny$\\phantom{\\uparrow}$}0 & 0.54 & +0.00 & 18 & {\\tiny$\\phantom{\\uparrow}$}0 & \\hidden{0.54} & \\hidden{+0.00} & \\hidden{18} & \\hidden{{\\tiny$\\phantom{\\uparrow}$}0} \\\\\n",
      "    Olivier A. & A & 0.48 & 19 & \\textbf{0.55} & \\textbf{+0.07} & 17 & {\\tiny$\\uparrow$}2 & \\textbf{0.53} & \\textbf{+0.05} & 19 & {\\tiny$\\phantom{\\uparrow}$}0 & \\textbf{0.52} & \\textbf{+0.04} & 19 & {\\tiny$\\phantom{\\uparrow}$}0 & 0.50 & +0.02 & 19 & {\\tiny$\\phantom{\\uparrow}$}0 & \\textbf{0.51} & \\textbf{+0.03} & 19 & {\\tiny$\\phantom{\\uparrow}$}0 & 0.49 & +0.01 & 19 & {\\tiny$\\phantom{\\uparrow}$}0 \\\\\n",
      "    Puss in B. & A & 0.47 & 20 & \\textbf{0.52} & \\textbf{+0.05} & 19 & {\\tiny$\\uparrow$}1 & \\textbf{0.50} & \\textbf{+0.03} & 19 & {\\tiny$\\uparrow$}1 & 0.49 & +0.02 & 19 & {\\tiny$\\uparrow$}1 & 0.47 & +0.00 & 20 & {\\tiny$\\phantom{\\uparrow}$}0 & 0.47 & +0.00 & 20 & {\\tiny$\\phantom{\\uparrow}$}0 & 0.47 & +0.00 & 20 & {\\tiny$\\phantom{\\uparrow}$}0 \\\\\n",
      "    Grimjack & E & 0.42 & 21 & \\textbf{0.46} & \\textbf{+0.04} & 21 & {\\tiny$\\phantom{\\uparrow}$}0 & 0.45 & +0.02 & 21 & {\\tiny$\\phantom{\\uparrow}$}0 & 0.44 & +0.01 & 21 & {\\tiny$\\phantom{\\uparrow}$}0 & 0.42 & +0.00 & 21 & {\\tiny$\\phantom{\\uparrow}$}0 & 0.43 & +0.01 & 21 & {\\tiny$\\phantom{\\uparrow}$}0 & 0.42 & +0.00 & 21 & {\\tiny$\\phantom{\\uparrow}$}0 \\\\\n",
      "    Grimjack & C & 0.38 & 22 & \\textbf{0.44} & \\textbf{+0.06} & 21 & {\\tiny$\\uparrow$}1 & \\textbf{0.42} & \\textbf{+0.04} & 22 & {\\tiny$\\phantom{\\uparrow}$}0 & \\textbf{0.41} & \\textbf{+0.03} & 22 & {\\tiny$\\phantom{\\uparrow}$}0 & 0.39 & +0.01 & 22 & {\\tiny$\\phantom{\\uparrow}$}0 & 0.40 & +0.02 & 22 & {\\tiny$\\phantom{\\uparrow}$}0 & 0.38 & +0.00 & 22 & {\\tiny$\\phantom{\\uparrow}$}0 \\\\\n",
      "    Grimjack & B & 0.38 & 23 & \\textbf{0.44} & \\textbf{+0.06} & 21 & {\\tiny$\\uparrow$}2 & \\textbf{0.42} & \\textbf{+0.04} & 22 & {\\tiny$\\uparrow$}1 & \\textbf{0.41} & \\textbf{+0.03} & 22 & {\\tiny$\\uparrow$}1 & 0.39 & +0.01 & 22 & {\\tiny$\\uparrow$}1 & 0.40 & +0.02 & 22 & {\\tiny$\\uparrow$}1 & 0.38 & +0.00 & 23 & {\\tiny$\\phantom{\\uparrow}$}0 \\\\\n",
      "    Grimjack & D & 0.35 & 24 & \\textbf{0.38} & \\textbf{+0.03} & 22 & {\\tiny$\\uparrow$}2 & \\textbf{0.37} & \\textbf{+0.02} & 24 & {\\tiny$\\phantom{\\uparrow}$}0 & 0.36 & +0.01 & 24 & {\\tiny$\\phantom{\\uparrow}$}0 & 0.35 & +0.00 & 24 & {\\tiny$\\phantom{\\uparrow}$}0 & 0.35 & +0.00 & 24 & {\\tiny$\\phantom{\\uparrow}$}0 & 0.35 & +0.00 & 24 & {\\tiny$\\phantom{\\uparrow}$}0 \\\\\n",
      "    Grimjack & A & 0.34 & 25 & \\textbf{0.40} & \\textbf{+0.06} & 22 & {\\tiny$\\uparrow$}3 & \\textbf{0.40} & \\textbf{+0.05} & 22 & {\\tiny$\\uparrow$}3 & \\textbf{0.38} & \\textbf{+0.03} & 22 & {\\tiny$\\uparrow$}3 & 0.37 & +0.02 & 24 & {\\tiny$\\uparrow$}1 & 0.37 & +0.02 & 24 & {\\tiny$\\uparrow$}1 & 0.34 & +0.00 & 25 & {\\tiny$\\phantom{\\uparrow}$}0 \\\\\n",
      "    Asuna & A & 0.26 & 26 & \\textbf{0.32} & \\textbf{+0.05} & 26 & {\\tiny$\\phantom{\\uparrow}$}0 & \\textbf{0.29} & \\textbf{+0.03} & 26 & {\\tiny$\\phantom{\\uparrow}$}0 & 0.28 & +0.02 & 26 & {\\tiny$\\phantom{\\uparrow}$}0 & 0.27 & +0.01 & 26 & {\\tiny$\\phantom{\\uparrow}$}0 & 0.27 & +0.01 & 26 & {\\tiny$\\phantom{\\uparrow}$}0 & 0.26 & +0.00 & 26 & {\\tiny$\\phantom{\\uparrow}$}0 \\\\\n",
      "    \\midrule\n",
      "    \\multicolumn{28}{@{}l@{}}{\\textit{nDCG@5 evaluated using argument quality labels}} \\\\\n",
      "    \\midrule\n",
      "    Aldo Nadi & A & 0.77 & 1 & 0.80 & +0.02 & 1 & {\\tiny$\\phantom{\\uparrow}$}0 & 0.79 & +0.02 & 1 & {\\tiny$\\phantom{\\uparrow}$}0 & 0.78 & +0.01 & 1 & {\\tiny$\\phantom{\\uparrow}$}0 & 0.78 & +0.01 & 1 & {\\tiny$\\phantom{\\uparrow}$}0 & 0.78 & +0.01 & 1 & {\\tiny$\\phantom{\\uparrow}$}0 & \\hidden{0.77} & \\hidden{+0.00} & \\hidden{1} & \\hidden{{\\tiny$\\phantom{\\uparrow}$}0} \\\\\n",
      "    Aldo Nadi & C & 0.76 & 2 & \\textbf{0.79} & \\textbf{+0.03} & 1 & {\\tiny$\\uparrow$}1 & 0.78 & +0.02 & 1 & {\\tiny$\\uparrow$}1 & 0.77 & +0.01 & 2 & {\\tiny$\\phantom{\\uparrow}$}0 & 0.76 & -0.01 & 2 & {\\tiny$\\phantom{\\uparrow}$}0 & 0.76 & +0.00 & 2 & {\\tiny$\\phantom{\\uparrow}$}0 & \\hidden{0.76} & \\hidden{+0.00} & \\hidden{2} & \\hidden{{\\tiny$\\phantom{\\uparrow}$}0} \\\\\n",
      "    Aldo Nadi & E & 0.75 & 3 & \\textbf{0.77} & \\textbf{+0.03} & 2 & {\\tiny$\\uparrow$}1 & 0.77 & +0.02 & 2 & {\\tiny$\\uparrow$}1 & 0.75 & +0.01 & 3 & {\\tiny$\\phantom{\\uparrow}$}0 & 0.74 & +0.00 & 3 & {\\tiny$\\phantom{\\uparrow}$}0 & 0.75 & +0.00 & 3 & {\\tiny$\\phantom{\\uparrow}$}0 & \\hidden{0.75} & \\hidden{+0.00} & \\hidden{3} & \\hidden{{\\tiny$\\phantom{\\uparrow}$}0} \\\\\n",
      "    Captain L. & B & 0.74 & 4 & \\textbf{0.77} & \\textbf{+0.03} & 2 & {\\tiny$\\uparrow$}2 & \\textbf{0.77} & \\textbf{+0.02} & 2 & {\\tiny$\\uparrow$}2 & \\textbf{0.77} & \\textbf{+0.03} & 2 & {\\tiny$\\uparrow$}2 & 0.76 & +0.02 & 3 & {\\tiny$\\uparrow$}1 & 0.75 & +0.01 & 3 & {\\tiny$\\uparrow$}1 & 0.74 & +0.00 & 5 & {\\tiny$\\downarrow$}1 \\\\\n",
      "    Captain L. & A & 0.74 & 5 & \\textbf{0.77} & \\textbf{+0.03} & 2 & {\\tiny$\\uparrow$}3 & \\textbf{0.76} & \\textbf{+0.02} & 3 & {\\tiny$\\uparrow$}2 & \\textbf{0.77} & \\textbf{+0.03} & 2 & {\\tiny$\\uparrow$}3 & \\textbf{0.76} & \\textbf{+0.02} & 3 & {\\tiny$\\uparrow$}2 & 0.75 & +0.01 & 3 & {\\tiny$\\uparrow$}2 & 0.74 & +0.00 & 5 & {\\tiny$\\phantom{\\uparrow}$}0 \\\\\n",
      "    Captain L. & D & 0.73 & 6 & \\textbf{0.75} & \\textbf{+0.02} & 4 & {\\tiny$\\uparrow$}2 & 0.74 & +0.01 & 5 & {\\tiny$\\uparrow$}1 & \\textbf{0.75} & \\textbf{+0.02} & 3 & {\\tiny$\\uparrow$}3 & \\textbf{0.75} & \\textbf{+0.02} & 4 & {\\tiny$\\uparrow$}2 & 0.73 & +0.00 & 6 & {\\tiny$\\phantom{\\uparrow}$}0 & 0.73 & +0.00 & 6 & {\\tiny$\\phantom{\\uparrow}$}0 \\\\\n",
      "    Captain L. & E & 0.71 & 7 & \\textbf{0.73} & \\textbf{+0.02} & 7 & {\\tiny$\\phantom{\\uparrow}$}0 & 0.71 & +0.01 & 7 & {\\tiny$\\phantom{\\uparrow}$}0 & 0.72 & +0.01 & 7 & {\\tiny$\\phantom{\\uparrow}$}0 & 0.72 & +0.01 & 7 & {\\tiny$\\phantom{\\uparrow}$}0 & 0.71 & +0.00 & 7 & {\\tiny$\\phantom{\\uparrow}$}0 & 0.71 & +0.00 & 7 & {\\tiny$\\phantom{\\uparrow}$}0 \\\\\n",
      "    Captain L. & C & 0.70 & 8 & \\textbf{0.72} & \\textbf{+0.03} & 7 & {\\tiny$\\uparrow$}1 & \\textbf{0.71} & \\textbf{+0.02} & 7 & {\\tiny$\\uparrow$}1 & \\textbf{0.72} & \\textbf{+0.02} & 7 & {\\tiny$\\uparrow$}1 & 0.70 & +0.01 & 8 & {\\tiny$\\phantom{\\uparrow}$}0 & 0.70 & +0.00 & 8 & {\\tiny$\\phantom{\\uparrow}$}0 & 0.70 & +0.00 & 8 & {\\tiny$\\phantom{\\uparrow}$}0 \\\\\n",
      "    Aldo Nadi & D & 0.66 & 9 & \\textbf{0.69} & \\textbf{+0.03} & 9 & {\\tiny$\\phantom{\\uparrow}$}0 & 0.68 & +0.02 & 9 & {\\tiny$\\phantom{\\uparrow}$}0 & 0.68 & +0.01 & 9 & {\\tiny$\\phantom{\\uparrow}$}0 & 0.67 & +0.01 & 9 & {\\tiny$\\phantom{\\uparrow}$}0 & 0.68 & +0.01 & 9 & {\\tiny$\\phantom{\\uparrow}$}0 & \\hidden{0.66} & \\hidden{+0.00} & \\hidden{9} & \\hidden{{\\tiny$\\phantom{\\uparrow}$}0} \\\\\n",
      "    Katana & C & 0.64 & 10 & \\textbf{0.67} & \\textbf{+0.03} & 9 & {\\tiny$\\uparrow$}1 & 0.66 & +0.02 & 10 & {\\tiny$\\phantom{\\uparrow}$}0 & 0.66 & +0.02 & 9 & {\\tiny$\\uparrow$}1 & 0.66 & +0.01 & 10 & {\\tiny$\\phantom{\\uparrow}$}0 & 0.65 & +0.01 & 10 & {\\tiny$\\phantom{\\uparrow}$}0 & 0.64 & +0.00 & 10 & {\\tiny$\\phantom{\\uparrow}$}0 \\\\\n",
      "    Katana & A & 0.64 & 11 & \\textbf{0.68} & \\textbf{+0.03} & 9 & {\\tiny$\\uparrow$}2 & 0.67 & +0.02 & 9 & {\\tiny$\\uparrow$}2 & \\textbf{0.67} & \\textbf{+0.03} & 9 & {\\tiny$\\uparrow$}2 & 0.66 & +0.01 & 10 & {\\tiny$\\uparrow$}1 & 0.65 & +0.01 & 10 & {\\tiny$\\uparrow$}1 & 0.64 & +0.00 & 11 & {\\tiny$\\phantom{\\uparrow}$}0 \\\\\n",
      "    Katana & B & 0.64 & 12 & \\textbf{0.67} & \\textbf{+0.04} & 9 & {\\tiny$\\uparrow$}3 & \\textbf{0.66} & \\textbf{+0.03} & 9 & {\\tiny$\\uparrow$}3 & 0.66 & +0.02 & 10 & {\\tiny$\\uparrow$}2 & 0.64 & +0.00 & 12 & {\\tiny$\\phantom{\\uparrow}$}0 & 0.64 & +0.01 & 11 & {\\tiny$\\uparrow$}1 & 0.64 & +0.00 & 12 & {\\tiny$\\phantom{\\uparrow}$}0 \\\\\n",
      "    Captain T. & E & 0.60 & 13 & \\textbf{0.63} & \\textbf{+0.03} & 13 & {\\tiny$\\phantom{\\uparrow}$}0 & \\textbf{0.63} & \\textbf{+0.03} & 13 & {\\tiny$\\phantom{\\uparrow}$}0 & \\textbf{0.62} & \\textbf{+0.03} & 13 & {\\tiny$\\phantom{\\uparrow}$}0 & 0.61 & +0.01 & 13 & {\\tiny$\\phantom{\\uparrow}$}0 & 0.60 & +0.00 & 13 & {\\tiny$\\phantom{\\uparrow}$}0 & \\hidden{0.60} & \\hidden{+0.00} & \\hidden{13} & \\hidden{{\\tiny$\\phantom{\\uparrow}$}0} \\\\\n",
      "    Captain T. & B & 0.59 & 14 & \\textbf{0.62} & \\textbf{+0.03} & 13 & {\\tiny$\\uparrow$}1 & 0.61 & +0.02 & 13 & {\\tiny$\\uparrow$}1 & 0.61 & +0.02 & 13 & {\\tiny$\\uparrow$}1 & 0.60 & +0.01 & 13 & {\\tiny$\\uparrow$}1 & 0.59 & +0.00 & 14 & {\\tiny$\\phantom{\\uparrow}$}0 & \\hidden{0.59} & \\hidden{+0.00} & \\hidden{14} & \\hidden{{\\tiny$\\phantom{\\uparrow}$}0} \\\\\n",
      "    Captain T. & A & 0.59 & 15 & \\textbf{0.62} & \\textbf{+0.03} & 13 & {\\tiny$\\uparrow$}2 & 0.60 & +0.01 & 13 & {\\tiny$\\uparrow$}2 & 0.61 & +0.02 & 13 & {\\tiny$\\uparrow$}2 & 0.60 & +0.01 & 14 & {\\tiny$\\uparrow$}1 & 0.59 & +0.00 & 15 & {\\tiny$\\phantom{\\uparrow}$}0 & \\hidden{0.59} & \\hidden{+0.00} & \\hidden{15} & \\hidden{{\\tiny$\\phantom{\\uparrow}$}0} \\\\\n",
      "    Captain T. & C & 0.58 & 16 & \\textbf{0.61} & \\textbf{+0.02} & 13 & {\\tiny$\\uparrow$}3 & 0.59 & +0.01 & 14 & {\\tiny$\\uparrow$}2 & 0.60 & +0.01 & 13 & {\\tiny$\\uparrow$}3 & 0.59 & +0.01 & 15 & {\\tiny$\\uparrow$}1 & 0.58 & +0.00 & 16 & {\\tiny$\\phantom{\\uparrow}$}0 & \\hidden{0.58} & \\hidden{+0.00} & \\hidden{16} & \\hidden{{\\tiny$\\phantom{\\uparrow}$}0} \\\\\n",
      "    Olivier A. & A & 0.57 & 17 & \\textbf{0.62} & \\textbf{+0.05} & 13 & {\\tiny$\\uparrow$}4 & \\textbf{0.60} & \\textbf{+0.03} & 13 & {\\tiny$\\uparrow$}4 & \\textbf{0.61} & \\textbf{+0.04} & 13 & {\\tiny$\\uparrow$}4 & 0.59 & +0.02 & 16 & {\\tiny$\\uparrow$}1 & 0.59 & +0.02 & 15 & {\\tiny$\\uparrow$}2 & 0.58 & +0.01 & 17 & {\\tiny$\\phantom{\\uparrow}$}0 \\\\\n",
      "    Aldo Nadi & B & 0.57 & 18 & \\textbf{0.60} & \\textbf{+0.03} & 13 & {\\tiny$\\uparrow$}5 & 0.59 & +0.02 & 15 & {\\tiny$\\uparrow$}3 & 0.58 & +0.01 & 17 & {\\tiny$\\uparrow$}1 & 0.58 & +0.01 & 17 & {\\tiny$\\uparrow$}1 & 0.58 & +0.02 & 16 & {\\tiny$\\uparrow$}2 & \\hidden{0.57} & \\hidden{+0.00} & \\hidden{18} & \\hidden{{\\tiny$\\phantom{\\uparrow}$}0} \\\\\n",
      "    Captain T. & D & 0.57 & 19 & \\textbf{0.61} & \\textbf{+0.04} & 13 & {\\tiny$\\uparrow$}6 & \\textbf{0.60} & \\textbf{+0.03} & 14 & {\\tiny$\\uparrow$}5 & \\textbf{0.59} & \\textbf{+0.02} & 15 & {\\tiny$\\uparrow$}4 & 0.58 & +0.01 & 17 & {\\tiny$\\uparrow$}2 & 0.57 & +0.01 & 17 & {\\tiny$\\uparrow$}2 & \\hidden{0.57} & \\hidden{+0.00} & \\hidden{19} & \\hidden{{\\tiny$\\phantom{\\uparrow}$}0} \\\\\n",
      "    Puss in B. & A & 0.48 & 20 & \\textbf{0.51} & \\textbf{+0.03} & 20 & {\\tiny$\\phantom{\\uparrow}$}0 & 0.49 & +0.02 & 20 & {\\tiny$\\phantom{\\uparrow}$}0 & 0.49 & +0.01 & 20 & {\\tiny$\\phantom{\\uparrow}$}0 & 0.49 & +0.01 & 20 & {\\tiny$\\phantom{\\uparrow}$}0 & 0.50 & +0.02 & 20 & {\\tiny$\\phantom{\\uparrow}$}0 & 0.48 & +0.00 & 20 & {\\tiny$\\phantom{\\uparrow}$}0 \\\\\n",
      "    Grimjack & E & 0.40 & 21 & \\textbf{0.44} & \\textbf{+0.04} & 21 & {\\tiny$\\phantom{\\uparrow}$}0 & 0.42 & +0.02 & 21 & {\\tiny$\\phantom{\\uparrow}$}0 & \\textbf{0.42} & \\textbf{+0.02} & 21 & {\\tiny$\\phantom{\\uparrow}$}0 & 0.41 & +0.01 & 21 & {\\tiny$\\phantom{\\uparrow}$}0 & \\textbf{0.43} & \\textbf{+0.02} & 21 & {\\tiny$\\phantom{\\uparrow}$}0 & 0.40 & +0.00 & 21 & {\\tiny$\\phantom{\\uparrow}$}0 \\\\\n",
      "    Grimjack & D & 0.37 & 22 & \\textbf{0.39} & \\textbf{+0.03} & 22 & {\\tiny$\\phantom{\\uparrow}$}0 & 0.38 & +0.01 & 22 & {\\tiny$\\phantom{\\uparrow}$}0 & 0.38 & +0.01 & 22 & {\\tiny$\\phantom{\\uparrow}$}0 & 0.38 & +0.01 & 22 & {\\tiny$\\phantom{\\uparrow}$}0 & 0.37 & +0.00 & 22 & {\\tiny$\\phantom{\\uparrow}$}0 & 0.37 & +0.00 & 22 & {\\tiny$\\phantom{\\uparrow}$}0 \\\\\n",
      "    Grimjack & C & 0.36 & 23 & \\textbf{0.41} & \\textbf{+0.05} & 21 & {\\tiny$\\uparrow$}2 & \\textbf{0.39} & \\textbf{+0.03} & 22 & {\\tiny$\\uparrow$}1 & \\textbf{0.39} & \\textbf{+0.03} & 22 & {\\tiny$\\uparrow$}1 & \\textbf{0.39} & \\textbf{+0.03} & 22 & {\\tiny$\\uparrow$}1 & \\textbf{0.40} & \\textbf{+0.04} & 22 & {\\tiny$\\uparrow$}1 & 0.36 & +0.00 & 23 & {\\tiny$\\phantom{\\uparrow}$}0 \\\\\n",
      "    Grimjack & B & 0.36 & 24 & \\textbf{0.41} & \\textbf{+0.05} & 21 & {\\tiny$\\uparrow$}3 & \\textbf{0.40} & \\textbf{+0.04} & 22 & {\\tiny$\\uparrow$}2 & \\textbf{0.39} & \\textbf{+0.03} & 22 & {\\tiny$\\uparrow$}2 & \\textbf{0.39} & \\textbf{+0.03} & 22 & {\\tiny$\\uparrow$}2 & \\textbf{0.40} & \\textbf{+0.04} & 22 & {\\tiny$\\uparrow$}2 & 0.36 & +0.00 & 24 & {\\tiny$\\phantom{\\uparrow}$}0 \\\\\n",
      "    Grimjack & A & 0.34 & 25 & \\textbf{0.39} & \\textbf{+0.05} & 22 & {\\tiny$\\uparrow$}3 & \\textbf{0.39} & \\textbf{+0.04} & 22 & {\\tiny$\\uparrow$}3 & \\textbf{0.38} & \\textbf{+0.03} & 22 & {\\tiny$\\uparrow$}3 & \\textbf{0.38} & \\textbf{+0.03} & 22 & {\\tiny$\\uparrow$}3 & 0.36 & +0.02 & 25 & {\\tiny$\\phantom{\\uparrow}$}0 & 0.34 & +0.00 & 25 & {\\tiny$\\phantom{\\uparrow}$}0 \\\\\n",
      "    Asuna & A & 0.33 & 26 & \\textbf{0.38} & \\textbf{+0.05} & 22 & {\\tiny$\\uparrow$}4 & 0.36 & +0.03 & 25 & {\\tiny$\\uparrow$}1 & 0.35 & +0.02 & 25 & {\\tiny$\\uparrow$}1 & 0.35 & +0.02 & 25 & {\\tiny$\\uparrow$}1 & 0.35 & +0.01 & 25 & {\\tiny$\\uparrow$}1 & 0.33 & +0.00 & 26 & {\\tiny$\\phantom{\\uparrow}$}0 \\\\\n",
      "    \\bottomrule\n",
      "\\end{tabular}\n"
     ]
    }
   ],
   "source": [
    "extra_space_em = 1.55\n",
    "col_sep_em = 0.38\n",
    "parts = [\"l\", r\"@{\\hspace{\" + f\"{col_sep_em * 0.9}\" + r\"em}}\", \"l\"]\n",
    "for i, (reranker, df_reranker) in enumerate(df_table.groupby(\"reranker\", dropna=False, sort=False)):\n",
    "    parts.append(r\"@{\\hspace{\" + f\"{extra_space_em}\" + r\"em}}\")\n",
    "    if isna(reranker):\n",
    "        parts.append(\"r\")\n",
    "        parts.append(r\"@{\\hspace{\" + f\"{col_sep_em * 0.9}\" + r\"em}}\")\n",
    "        parts.append(\"r\")\n",
    "    else:\n",
    "        parts.append(\"r\")\n",
    "        parts.append(r\"@{\\hspace{\" + f\"{col_sep_em * 0.9}\" + r\"em}}\")\n",
    "        parts.append(\"r\")\n",
    "        parts.append(\"r\")\n",
    "        parts.append(r\"@{\\hspace{\" + f\"{col_sep_em * 0.9}\" + r\"em}}\")\n",
    "        parts.append(\"r\")\n",
    "print(r\"\\renewcommand{\\tabcolsep}{\" + f\"{col_sep_em}\" + r\"em}\")\n",
    "print(r\"\\begin{tabular}{@{}\" + \"\".join(parts) + r\"@{}}\")\n",
    "print(r\"    \\toprule\")\n",
    "\n",
    "parts = [r\"\\multicolumn{2}{@{}l}{\\textbf{Run}}\"]\n",
    "for i, (reranker, df_reranker) in enumerate(df_table.groupby(\"reranker\", dropna=False, sort=False)):\n",
    "    space = \"\\hspace{\" + f\"{extra_space_em}\" + \"em}\" if i < len(rerankers_table) - 1 else \"\"\n",
    "    if isna(reranker):\n",
    "        reranker = rerankers_table[nan]\n",
    "        parts.append(\"\\multicolumn{2}{@{}c@{\" + space + r\"}}{\\textbf{\" + reranker + r\"}}\")\n",
    "    else:\n",
    "        reranker = rerankers_table[reranker]\n",
    "        parts.append(r\"\\multicolumn{4}{@{}c@{\" + space + r\"}}{\\textbf{\" + reranker + r\"}}\")\n",
    "print(\"    \" + \" & \".join(parts) + r\" \\\\\")\n",
    "\n",
    "parts = []\n",
    "col = 3\n",
    "for i, (reranker, df_reranker) in enumerate(df_table.groupby(\"reranker\", dropna=False, sort=False)):\n",
    "    space = \"r{\" + f\"{extra_space_em}\" + \"em}\" if i < len(rerankers_table) - 1 else \"\"\n",
    "    if isna(reranker):\n",
    "        parts.append(\"\\cmidrule(\" + space + \"){\" + str(col) + \"-\" + str(col + 1) + \"}\")\n",
    "        col += 2\n",
    "    else:\n",
    "        parts.append(\"\\cmidrule(\" + space + \"){\" + str(col) + \"-\" + str(col + 3) + \"}\")\n",
    "        col += 4\n",
    "print(\"    \" + \"\".join(parts))\n",
    "\n",
    "parts = [\"\", \"\"]\n",
    "for i, (reranker, df_reranker) in enumerate(df_table.groupby(\"reranker\", dropna=False, sort=False)):\n",
    "    space = \"\\hspace{\" + f\"{extra_space_em}\" + \"em}\" if i < len(rerankers_table) - 1 else \"\"\n",
    "    if isna(reranker):\n",
    "        parts.append(r\"Val.\")\n",
    "        parts.append(r\"\\#\")\n",
    "    else:\n",
    "        parts.append(r\"Val.\")\n",
    "        parts.append(r\"{\\tiny$\\Delta$}\")\n",
    "        parts.append(r\"\\#\")\n",
    "        parts.append(r\"{\\tiny$\\Delta$}\")\n",
    "print(\"    \" + \" & \".join(parts) + r\" \\\\\")\n",
    "print(r\"    \\midrule\")\n",
    "\n",
    "rank_worse = r\"{\\tiny$\\downarrow$}\"\n",
    "rank_better = r\"{\\tiny$\\uparrow$}\"\n",
    "rank_equal = r\"{\\tiny$\\phantom{\\uparrow}$}\"\n",
    "for i, (measure_name, df_measure) in enumerate(df_table.groupby(\"measure\", dropna=False, sort=False)):\n",
    "    measure = measures[measures[\"name\"] == measure_name].iloc[0]\n",
    "    measure_display_name = measure[\"display_name\"]\n",
    "    if measure_display_name == \"nDCG@5 relevance\":\n",
    "        measure_display_name = r\"nDCG@5 evaluated using relevance labels\"\n",
    "    elif measure_display_name == \"nDCG@5 quality\":\n",
    "        measure_display_name = r\"nDCG@5 evaluated using argument quality labels\"\n",
    "    df_measure = df_measure.sort_values(\"run_rank_original\")\n",
    "    if i > 0:\n",
    "        print(r\"    \\midrule\")\n",
    "    print(r\"    \\multicolumn{\" + str(len(parts)) + r\"}{@{}l@{}}{\\textit{\" + measure_display_name + r\"}} \\\\\")\n",
    "    print(r\"    \\midrule\")\n",
    "    for (team, run), df_run in df_measure.groupby([\"team\", \"run\"], dropna=False, sort=False):\n",
    "        df_run = df_run.sort_values(\"reranker_index\")\n",
    "        short_team = short_team_names[team]\n",
    "        short_run = short_run_names[(team, run)]\n",
    "        short_team = short_team.replace(\"_\", r\"\\_\")\n",
    "        short_run = short_run.replace(\"_\", r\"\\_\")\n",
    "        parts = [short_team, short_run]\n",
    "        for reranker, df_reranker in df_run.groupby(\"reranker\", dropna=False, sort=False):\n",
    "            value_aggregated = df_reranker[\"value_aggregated\"].iloc[0]\n",
    "            difference_original_aggregated = df_reranker[\"difference_original_aggregated\"].iloc[0]\n",
    "            run_rank = df_reranker[\"run_rank\"].iloc[0]\n",
    "            run_rank_original = df_reranker[\"run_rank_original\"].iloc[0]\n",
    "            run_rank_difference = run_rank - run_rank_original\n",
    "            if isna(reranker):\n",
    "                parts.append(f\"{value_aggregated:.2f}\")\n",
    "                parts.append(f\"{run_rank:.0f}\")\n",
    "            else:\n",
    "                hidden = \"Original\" in rerankers_table[reranker] and df_reranker[\"team\"].iloc[0] in (\"Aldo-Nadi\", \"Captain-Tempesta\")\n",
    "                val_str = f\"{value_aggregated:.2f}\"\n",
    "                if df_reranker[\"p_value_corrected\"].iloc[0] < 0.05:\n",
    "                    val_str = r\"\\textbf{\" + val_str + r\"}\"\n",
    "                if hidden:\n",
    "                    val_str = r\"\\hidden{\" + val_str + r\"}\"\n",
    "                parts.append(val_str)\n",
    "                diff_str = f\"{'+' if difference_original_aggregated.round(2) >= 0 else '-'}{abs(difference_original_aggregated):.2f}\"\n",
    "                if df_reranker[\"p_value_corrected\"].iloc[0] < 0.05:\n",
    "                    diff_str = r\"\\textbf{\" + diff_str + r\"}\"\n",
    "                if hidden:\n",
    "                    diff_str = r\"\\hidden{\" + diff_str + r\"}\"\n",
    "                parts.append(diff_str)\n",
    "                rank_str = f\"{run_rank:.0f}\"\n",
    "                if hidden:\n",
    "                    rank_str = r\"\\hidden{\" + rank_str + r\"}\"\n",
    "                parts.append(rank_str)\n",
    "                rank_diff_str = f\"{rank_worse if run_rank_difference > 0 else rank_better if run_rank_difference < 0 else rank_equal}{abs(run_rank_difference):.0f}\"\n",
    "                if hidden:\n",
    "                    rank_diff_str = r\"\\hidden{\" + rank_diff_str + r\"}\"\n",
    "                parts.append(rank_diff_str                                 )\n",
    "        print(\"    \" + \" & \".join(parts) + r\" \\\\\")\n",
    "\n",
    "print(r\"    \\bottomrule\")\n",
    "print(r\"\\end{tabular}\")"
   ],
   "metadata": {
    "collapsed": false,
    "ExecuteTime": {
     "end_time": "2023-08-23T17:31:22.480033129Z",
     "start_time": "2023-08-23T17:31:22.336204583Z"
    }
   }
  },
  {
   "cell_type": "code",
   "execution_count": 100,
   "outputs": [],
   "source": [
    "first_bin = 0.2\n",
    "last_bin = 1.00\n",
    "bin_step = 0.05\n",
    "bins = list(arange(\n",
    "    first_bin - (bin_step / 2),\n",
    "    last_bin + (bin_step / 2) + 0.0001,\n",
    "    bin_step,\n",
    "))\n",
    "# bins"
   ],
   "metadata": {
    "collapsed": false,
    "ExecuteTime": {
     "end_time": "2023-08-23T14:56:35.063605038Z",
     "start_time": "2023-08-23T14:56:35.043131209Z"
    }
   }
  },
  {
   "cell_type": "code",
   "execution_count": 101,
   "outputs": [],
   "source": [
    "width = 4"
   ],
   "metadata": {
    "collapsed": false,
    "ExecuteTime": {
     "end_time": "2023-08-23T14:56:35.362305198Z",
     "start_time": "2023-08-23T14:56:35.355412495Z"
    }
   }
  },
  {
   "cell_type": "code",
   "execution_count": 102,
   "outputs": [
    {
     "ename": "NameError",
     "evalue": "name 'df_difference' is not defined",
     "output_type": "error",
     "traceback": [
      "\u001B[0;31m---------------------------------------------------------------------------\u001B[0m",
      "\u001B[0;31mNameError\u001B[0m                                 Traceback (most recent call last)",
      "Cell \u001B[0;32mIn[102], line 4\u001B[0m\n\u001B[1;32m      2\u001B[0m set_style(\u001B[38;5;124m\"\u001B[39m\u001B[38;5;124mticks\u001B[39m\u001B[38;5;124m\"\u001B[39m)\n\u001B[1;32m      3\u001B[0m aspect \u001B[38;5;241m=\u001B[39m \u001B[38;5;241m1.25\u001B[39m\n\u001B[0;32m----> 4\u001B[0m df_plot_differences_baseline \u001B[38;5;241m=\u001B[39m \u001B[43mdf_difference\u001B[49m\u001B[38;5;241m.\u001B[39mcopy()\n\u001B[1;32m      5\u001B[0m df_plot_differences_baseline \u001B[38;5;241m=\u001B[39m df_plot_differences_baseline\u001B[38;5;241m.\u001B[39mmerge(df_best_team_baselines_aggregated[[\u001B[38;5;124m\"\u001B[39m\u001B[38;5;124mrun\u001B[39m\u001B[38;5;124m\"\u001B[39m]],\n\u001B[1;32m      6\u001B[0m                                                                   on\u001B[38;5;241m=\u001B[39m[\u001B[38;5;124m\"\u001B[39m\u001B[38;5;124mrun\u001B[39m\u001B[38;5;124m\"\u001B[39m])\n\u001B[1;32m      7\u001B[0m df_plot_differences_baseline \u001B[38;5;241m=\u001B[39m df_plot_differences_baseline[df_plot_differences_baseline[\u001B[38;5;124m\"\u001B[39m\u001B[38;5;124mtarget_f1\u001B[39m\u001B[38;5;124m\"\u001B[39m]\u001B[38;5;241m.\u001B[39mnotna()]\n",
      "\u001B[0;31mNameError\u001B[0m: name 'df_difference' is not defined"
     ]
    }
   ],
   "source": [
    "set_theme()\n",
    "set_style(\"ticks\")\n",
    "aspect = 1.25\n",
    "df_plot_differences_baseline = df_difference.copy()\n",
    "df_plot_differences_baseline = df_plot_differences_baseline.merge(df_best_team_baselines_aggregated[[\"run\"]],\n",
    "                                                                  on=[\"run\"])\n",
    "df_plot_differences_baseline = df_plot_differences_baseline[df_plot_differences_baseline[\"target_f1\"].notna()]\n",
    "df_plot_differences_baseline = df_plot_differences_baseline[df_plot_differences_baseline[\"target_f1\"] >= first_bin]\n",
    "plot_differences = FacetGrid(\n",
    "    data=df_plot_differences_baseline,\n",
    "    col=\"measure\",\n",
    "    sharex=True,\n",
    "    sharey=True,\n",
    "    height=width / aspect,\n",
    "    aspect=aspect,\n",
    ")\n",
    "plot_differences.map_dataframe(\n",
    "    lineplot,\n",
    "    x=\"target_f1\",\n",
    "    y=\"difference_baseline\",\n",
    "    hue=\"team\",\n",
    "    hue_order=df_plot_differences_baseline[\"team\"].sort_values().unique(),\n",
    "    palette=color_palette(\"colorblind\")[:len(df_plot_differences_baseline[\"team\"].unique())],\n",
    "    markers=False,\n",
    "    dashes=False,\n",
    "    err_style=\"band\",\n",
    "    err_kws=dict(\n",
    "        alpha=0.05,\n",
    "    ),\n",
    "    style=\"team\",\n",
    "    linewidth=0.8,\n",
    ")\n",
    "plot_differences.refline(y=0)\n",
    "plot_differences.set_xlabels(r\"F$_1$@5\")\n",
    "plot_differences.set_ylabels(r\"$\\Delta$ Improvement\")\n",
    "plot_differences.add_legend(\n",
    "    loc=\"upper center\",\n",
    "    ncols=len(df_plot_differences_baseline[\"team\"].unique()),\n",
    "    bbox_to_anchor=(0.28, 0),\n",
    ")\n",
    "plot_differences.set_titles(col_template=\"{col_name}\")\n",
    "plot_differences.savefig(\"../data/plot-reranking-f1-difference-baseline.pdf\", transparent=True)\n",
    "plot_differences.savefig(\"../data/plot-reranking-f1-difference-baseline.png\", transparent=True)\n",
    "plot_differences"
   ],
   "metadata": {
    "collapsed": false,
    "ExecuteTime": {
     "end_time": "2023-08-23T14:56:36.147599857Z",
     "start_time": "2023-08-23T14:56:36.097376708Z"
    }
   }
  },
  {
   "cell_type": "code",
   "execution_count": 47,
   "metadata": {
    "collapsed": false,
    "tags": [],
    "ExecuteTime": {
     "end_time": "2023-06-06T20:58:03.111855656Z",
     "start_time": "2023-06-06T20:58:03.066771262Z"
    }
   },
   "outputs": [
    {
     "data": {
      "text/plain": "                                                  name_x           team   \n450    Aldo-Nadi seupd2122-kueri_RF_reranked + ground...      Aldo-Nadi  \\\n451    Aldo-Nadi seupd2122-kueri_RF_reranked + ground...      Aldo-Nadi   \n454    Aldo-Nadi seupd2122-kueri_RF_reranked + ground...      Aldo-Nadi   \n455    Aldo-Nadi seupd2122-kueri_RF_reranked + ground...      Aldo-Nadi   \n457    Aldo-Nadi seupd2122-kueri_RF_reranked + ground...      Aldo-Nadi   \n...                                                  ...            ...   \n44195  Puss-in-Boots BM25-Baseline + ground-truth + s...  Puss-in-Boots   \n44196  Puss-in-Boots BM25-Baseline + ground-truth + s...  Puss-in-Boots   \n44197  Puss-in-Boots BM25-Baseline + ground-truth + s...  Puss-in-Boots   \n44198  Puss-in-Boots BM25-Baseline + ground-truth + s...  Puss-in-Boots   \n44199  Puss-in-Boots BM25-Baseline + ground-truth + s...  Puss-in-Boots   \n\n                                         run  target_f1  qid       measure   \n450    Aldo-Nadi seupd2122-kueri_RF_reranked       0.65    2  nDCG@5 qual.  \\\n451    Aldo-Nadi seupd2122-kueri_RF_reranked       0.65    3  nDCG@5 qual.   \n454    Aldo-Nadi seupd2122-kueri_RF_reranked       0.65   12  nDCG@5 qual.   \n455    Aldo-Nadi seupd2122-kueri_RF_reranked       0.65   14  nDCG@5 qual.   \n457    Aldo-Nadi seupd2122-kueri_RF_reranked       0.65   18  nDCG@5 qual.   \n...                                      ...        ...  ...           ...   \n44195            Puss-in-Boots BM25-Baseline       1.00   91   nDCG@5 rel.   \n44196            Puss-in-Boots BM25-Baseline       1.00   92   nDCG@5 rel.   \n44197            Puss-in-Boots BM25-Baseline       1.00   93   nDCG@5 rel.   \n44198            Puss-in-Boots BM25-Baseline       1.00   95   nDCG@5 rel.   \n44199            Puss-in-Boots BM25-Baseline       1.00  100   nDCG@5 rel.   \n\n       value  value_baseline  value_best_team_baseline   \n450    0.757           0.746                     0.746  \\\n451    0.566           0.573                     0.573   \n454    0.869           0.854                     0.854   \n455    0.777           0.743                     0.743   \n457    0.830           0.893                     0.893   \n...      ...             ...                       ...   \n44195  0.626           0.626                     0.626   \n44196  0.603           0.525                     0.525   \n44197  0.684           0.684                     0.684   \n44198  0.277           0.192                     0.192   \n44199  0.723           0.684                     0.684   \n\n       value_best_global_baseline  ...  ci95_high_best_team_baseline   \n450                         0.746  ...                          0.03  \\\n451                         0.573  ...                          0.03   \n454                         0.854  ...                          0.03   \n455                         0.743  ...                          0.03   \n457                         0.893  ...                          0.03   \n...                           ...  ...                           ...   \n44195                       0.869  ...                          0.06   \n44196                       0.644  ...                          0.06   \n44197                       0.681  ...                          0.06   \n44198                       0.754  ...                          0.06   \n44199                       0.616  ...                          0.06   \n\n       cohen_d_best_team_baseline  p_value_best_global_baseline   \n450                      0.083781                  8.663051e-03  \\\n451                      0.083781                  8.663051e-03   \n454                      0.083781                  8.663051e-03   \n455                      0.083781                  8.663051e-03   \n457                      0.083781                  8.663051e-03   \n...                           ...                           ...   \n44195                    0.200651                  2.320311e-08   \n44196                    0.200651                  2.320311e-08   \n44197                    0.200651                  2.320311e-08   \n44198                    0.200651                  2.320311e-08   \n44199                    0.200651                  2.320311e-08   \n\n       p_value_corrected_best_global_baseline  ci95_low_best_global_baseline   \n450                              3.465220e-02                           0.00  \\\n451                              3.465220e-02                           0.00   \n454                              3.465220e-02                           0.00   \n455                              3.465220e-02                           0.00   \n457                              3.465220e-02                           0.00   \n...                                       ...                            ...   \n44195                            9.281243e-08                          -0.31   \n44196                            9.281243e-08                          -0.31   \n44197                            9.281243e-08                          -0.31   \n44198                            9.281243e-08                          -0.31   \n44199                            9.281243e-08                          -0.31   \n\n       ci95_high_best_global_baseline  cohen_d_best_global_baseline   \n450                              0.03                      0.083781  \\\n451                              0.03                      0.083781   \n454                              0.03                      0.083781   \n455                              0.03                      0.083781   \n457                              0.03                      0.083781   \n...                               ...                           ...   \n44195                           -0.17                      1.175081   \n44196                           -0.17                      1.175081   \n44197                           -0.17                      1.175081   \n44198                           -0.17                      1.175081   \n44199                           -0.17                      1.175081   \n\n             name_y  maximize  improved  \n450    nDCG@5 qual.      True      True  \n451    nDCG@5 qual.      True      True  \n454    nDCG@5 qual.      True      True  \n455    nDCG@5 qual.      True      True  \n457    nDCG@5 qual.      True      True  \n...             ...       ...       ...  \n44195   nDCG@5 rel.      True      True  \n44196   nDCG@5 rel.      True      True  \n44197   nDCG@5 rel.      True      True  \n44198   nDCG@5 rel.      True      True  \n44199   nDCG@5 rel.      True      True  \n\n[28726 rows x 31 columns]",
      "text/html": "<div>\n<style scoped>\n    .dataframe tbody tr th:only-of-type {\n        vertical-align: middle;\n    }\n\n    .dataframe tbody tr th {\n        vertical-align: top;\n    }\n\n    .dataframe thead th {\n        text-align: right;\n    }\n</style>\n<table border=\"1\" class=\"dataframe\">\n  <thead>\n    <tr style=\"text-align: right;\">\n      <th></th>\n      <th>name_x</th>\n      <th>team</th>\n      <th>run</th>\n      <th>target_f1</th>\n      <th>qid</th>\n      <th>measure</th>\n      <th>value</th>\n      <th>value_baseline</th>\n      <th>value_best_team_baseline</th>\n      <th>value_best_global_baseline</th>\n      <th>...</th>\n      <th>ci95_high_best_team_baseline</th>\n      <th>cohen_d_best_team_baseline</th>\n      <th>p_value_best_global_baseline</th>\n      <th>p_value_corrected_best_global_baseline</th>\n      <th>ci95_low_best_global_baseline</th>\n      <th>ci95_high_best_global_baseline</th>\n      <th>cohen_d_best_global_baseline</th>\n      <th>name_y</th>\n      <th>maximize</th>\n      <th>improved</th>\n    </tr>\n  </thead>\n  <tbody>\n    <tr>\n      <th>450</th>\n      <td>Aldo-Nadi seupd2122-kueri_RF_reranked + ground...</td>\n      <td>Aldo-Nadi</td>\n      <td>Aldo-Nadi seupd2122-kueri_RF_reranked</td>\n      <td>0.65</td>\n      <td>2</td>\n      <td>nDCG@5 qual.</td>\n      <td>0.757</td>\n      <td>0.746</td>\n      <td>0.746</td>\n      <td>0.746</td>\n      <td>...</td>\n      <td>0.03</td>\n      <td>0.083781</td>\n      <td>8.663051e-03</td>\n      <td>3.465220e-02</td>\n      <td>0.00</td>\n      <td>0.03</td>\n      <td>0.083781</td>\n      <td>nDCG@5 qual.</td>\n      <td>True</td>\n      <td>True</td>\n    </tr>\n    <tr>\n      <th>451</th>\n      <td>Aldo-Nadi seupd2122-kueri_RF_reranked + ground...</td>\n      <td>Aldo-Nadi</td>\n      <td>Aldo-Nadi seupd2122-kueri_RF_reranked</td>\n      <td>0.65</td>\n      <td>3</td>\n      <td>nDCG@5 qual.</td>\n      <td>0.566</td>\n      <td>0.573</td>\n      <td>0.573</td>\n      <td>0.573</td>\n      <td>...</td>\n      <td>0.03</td>\n      <td>0.083781</td>\n      <td>8.663051e-03</td>\n      <td>3.465220e-02</td>\n      <td>0.00</td>\n      <td>0.03</td>\n      <td>0.083781</td>\n      <td>nDCG@5 qual.</td>\n      <td>True</td>\n      <td>True</td>\n    </tr>\n    <tr>\n      <th>454</th>\n      <td>Aldo-Nadi seupd2122-kueri_RF_reranked + ground...</td>\n      <td>Aldo-Nadi</td>\n      <td>Aldo-Nadi seupd2122-kueri_RF_reranked</td>\n      <td>0.65</td>\n      <td>12</td>\n      <td>nDCG@5 qual.</td>\n      <td>0.869</td>\n      <td>0.854</td>\n      <td>0.854</td>\n      <td>0.854</td>\n      <td>...</td>\n      <td>0.03</td>\n      <td>0.083781</td>\n      <td>8.663051e-03</td>\n      <td>3.465220e-02</td>\n      <td>0.00</td>\n      <td>0.03</td>\n      <td>0.083781</td>\n      <td>nDCG@5 qual.</td>\n      <td>True</td>\n      <td>True</td>\n    </tr>\n    <tr>\n      <th>455</th>\n      <td>Aldo-Nadi seupd2122-kueri_RF_reranked + ground...</td>\n      <td>Aldo-Nadi</td>\n      <td>Aldo-Nadi seupd2122-kueri_RF_reranked</td>\n      <td>0.65</td>\n      <td>14</td>\n      <td>nDCG@5 qual.</td>\n      <td>0.777</td>\n      <td>0.743</td>\n      <td>0.743</td>\n      <td>0.743</td>\n      <td>...</td>\n      <td>0.03</td>\n      <td>0.083781</td>\n      <td>8.663051e-03</td>\n      <td>3.465220e-02</td>\n      <td>0.00</td>\n      <td>0.03</td>\n      <td>0.083781</td>\n      <td>nDCG@5 qual.</td>\n      <td>True</td>\n      <td>True</td>\n    </tr>\n    <tr>\n      <th>457</th>\n      <td>Aldo-Nadi seupd2122-kueri_RF_reranked + ground...</td>\n      <td>Aldo-Nadi</td>\n      <td>Aldo-Nadi seupd2122-kueri_RF_reranked</td>\n      <td>0.65</td>\n      <td>18</td>\n      <td>nDCG@5 qual.</td>\n      <td>0.830</td>\n      <td>0.893</td>\n      <td>0.893</td>\n      <td>0.893</td>\n      <td>...</td>\n      <td>0.03</td>\n      <td>0.083781</td>\n      <td>8.663051e-03</td>\n      <td>3.465220e-02</td>\n      <td>0.00</td>\n      <td>0.03</td>\n      <td>0.083781</td>\n      <td>nDCG@5 qual.</td>\n      <td>True</td>\n      <td>True</td>\n    </tr>\n    <tr>\n      <th>...</th>\n      <td>...</td>\n      <td>...</td>\n      <td>...</td>\n      <td>...</td>\n      <td>...</td>\n      <td>...</td>\n      <td>...</td>\n      <td>...</td>\n      <td>...</td>\n      <td>...</td>\n      <td>...</td>\n      <td>...</td>\n      <td>...</td>\n      <td>...</td>\n      <td>...</td>\n      <td>...</td>\n      <td>...</td>\n      <td>...</td>\n      <td>...</td>\n      <td>...</td>\n      <td>...</td>\n    </tr>\n    <tr>\n      <th>44195</th>\n      <td>Puss-in-Boots BM25-Baseline + ground-truth + s...</td>\n      <td>Puss-in-Boots</td>\n      <td>Puss-in-Boots BM25-Baseline</td>\n      <td>1.00</td>\n      <td>91</td>\n      <td>nDCG@5 rel.</td>\n      <td>0.626</td>\n      <td>0.626</td>\n      <td>0.626</td>\n      <td>0.869</td>\n      <td>...</td>\n      <td>0.06</td>\n      <td>0.200651</td>\n      <td>2.320311e-08</td>\n      <td>9.281243e-08</td>\n      <td>-0.31</td>\n      <td>-0.17</td>\n      <td>1.175081</td>\n      <td>nDCG@5 rel.</td>\n      <td>True</td>\n      <td>True</td>\n    </tr>\n    <tr>\n      <th>44196</th>\n      <td>Puss-in-Boots BM25-Baseline + ground-truth + s...</td>\n      <td>Puss-in-Boots</td>\n      <td>Puss-in-Boots BM25-Baseline</td>\n      <td>1.00</td>\n      <td>92</td>\n      <td>nDCG@5 rel.</td>\n      <td>0.603</td>\n      <td>0.525</td>\n      <td>0.525</td>\n      <td>0.644</td>\n      <td>...</td>\n      <td>0.06</td>\n      <td>0.200651</td>\n      <td>2.320311e-08</td>\n      <td>9.281243e-08</td>\n      <td>-0.31</td>\n      <td>-0.17</td>\n      <td>1.175081</td>\n      <td>nDCG@5 rel.</td>\n      <td>True</td>\n      <td>True</td>\n    </tr>\n    <tr>\n      <th>44197</th>\n      <td>Puss-in-Boots BM25-Baseline + ground-truth + s...</td>\n      <td>Puss-in-Boots</td>\n      <td>Puss-in-Boots BM25-Baseline</td>\n      <td>1.00</td>\n      <td>93</td>\n      <td>nDCG@5 rel.</td>\n      <td>0.684</td>\n      <td>0.684</td>\n      <td>0.684</td>\n      <td>0.681</td>\n      <td>...</td>\n      <td>0.06</td>\n      <td>0.200651</td>\n      <td>2.320311e-08</td>\n      <td>9.281243e-08</td>\n      <td>-0.31</td>\n      <td>-0.17</td>\n      <td>1.175081</td>\n      <td>nDCG@5 rel.</td>\n      <td>True</td>\n      <td>True</td>\n    </tr>\n    <tr>\n      <th>44198</th>\n      <td>Puss-in-Boots BM25-Baseline + ground-truth + s...</td>\n      <td>Puss-in-Boots</td>\n      <td>Puss-in-Boots BM25-Baseline</td>\n      <td>1.00</td>\n      <td>95</td>\n      <td>nDCG@5 rel.</td>\n      <td>0.277</td>\n      <td>0.192</td>\n      <td>0.192</td>\n      <td>0.754</td>\n      <td>...</td>\n      <td>0.06</td>\n      <td>0.200651</td>\n      <td>2.320311e-08</td>\n      <td>9.281243e-08</td>\n      <td>-0.31</td>\n      <td>-0.17</td>\n      <td>1.175081</td>\n      <td>nDCG@5 rel.</td>\n      <td>True</td>\n      <td>True</td>\n    </tr>\n    <tr>\n      <th>44199</th>\n      <td>Puss-in-Boots BM25-Baseline + ground-truth + s...</td>\n      <td>Puss-in-Boots</td>\n      <td>Puss-in-Boots BM25-Baseline</td>\n      <td>1.00</td>\n      <td>100</td>\n      <td>nDCG@5 rel.</td>\n      <td>0.723</td>\n      <td>0.684</td>\n      <td>0.684</td>\n      <td>0.616</td>\n      <td>...</td>\n      <td>0.06</td>\n      <td>0.200651</td>\n      <td>2.320311e-08</td>\n      <td>9.281243e-08</td>\n      <td>-0.31</td>\n      <td>-0.17</td>\n      <td>1.175081</td>\n      <td>nDCG@5 rel.</td>\n      <td>True</td>\n      <td>True</td>\n    </tr>\n  </tbody>\n</table>\n<p>28726 rows × 31 columns</p>\n</div>"
     },
     "execution_count": 47,
     "metadata": {},
     "output_type": "execute_result"
    }
   ],
   "source": [
    "set_theme()\n",
    "set_style(\"ticks\")\n",
    "aspect = 1.45\n",
    "# reference = \"baseline\"\n",
    "# reference = \"best_team_baseline\"\n",
    "reference = \"best_global_baseline\"\n",
    "df_plot_significances = df_ttest.copy()\n",
    "df_plot_significances = df_plot_significances[df_plot_significances[\"target_f1\"].notna()]\n",
    "df_plot_significances = df_plot_significances.merge(measures[[\"name\", \"maximize\"]], left_on=\"measure\", right_on=\"name\")\n",
    "df_plot_significances[\"improved\"] = (df_plot_significances[\"maximize\"] & df_plot_significances[\n",
    "    f\"difference_{reference}\"] > 0) | (~df_plot_significances[\"maximize\"] & df_plot_significances[\n",
    "    f\"difference_{reference}\"] < 0)\n",
    "df_plot_significances = df_plot_significances[df_plot_significances[\"improved\"]]\n",
    "df_plot_significances = df_plot_significances[df_plot_significances[f\"p_value_corrected_{reference}\"] < 0.05]\n",
    "# df_plot_significances = df_plot_significances.groupby(\"run\").aggregate(\"first\").reset_index()\n",
    "df_plot_significances\n",
    "# plot_significances = FacetGrid(\n",
    "#     data=df_plot_significances,\n",
    "#     col=\"measure\",\n",
    "#     # ylim=(0, 26),\n",
    "#     sharex=True,\n",
    "#     sharey=True,\n",
    "#     height=width / aspect,\n",
    "#     aspect=aspect,\n",
    "# )\n",
    "# plot_significances.map_dataframe(\n",
    "#     histplot,\n",
    "#     element=\"poly\",\n",
    "#     x=\"target_f1\",\n",
    "#     hue=\"team\",\n",
    "#     hue_order=df_plot_significances[\"team\"].sort_values().unique(),\n",
    "#     palette=color_palette(\"colorblind\")[:len(df_plot_significances[\"team\"].unique())],\n",
    "#     bins=bins,\n",
    "#     multiple=\"stack\",\n",
    "# )\n",
    "# # plot_significances.refline(y=len(df[\"run\"].unique()) / 2)\n",
    "# plot_significances.set_ylabels(r\"# Improved rankings\")\n",
    "# plot_significances.set_xlabels(r\"F$_1$@5\")\n",
    "# plot_significances.add_legend(\n",
    "#     legend_data=plot_differences._legend_data,\n",
    "#     ncols=len(df_plot_significances[\"team\"].unique()),\n",
    "#     loc=\"upper center\",\n",
    "#     bbox_to_anchor=(0.28, 0),\n",
    "# )\n",
    "# plot_significances.set_titles(col_template=\"{col_name}\")\n",
    "## plot_significances.savefig(\"../data/plot-reranking-f1-num-significant-runs.pdf\", transparent=True)\n",
    "## plot_significances.savefig(\"../data/plot-reranking-f1-num-significant-runs.png\", transparent=True)\n",
    "# plot_significances"
   ]
  },
  {
   "cell_type": "code",
   "execution_count": 47,
   "metadata": {
    "ExecuteTime": {
     "end_time": "2023-06-06T20:58:03.112111637Z",
     "start_time": "2023-06-06T20:58:03.110806115Z"
    }
   },
   "outputs": [],
   "source": []
  }
 ],
 "metadata": {
  "kernelspec": {
   "display_name": "Python 3 (ipykernel)",
   "language": "python",
   "name": "python3"
  },
  "language_info": {
   "codemirror_mode": {
    "name": "ipython",
    "version": 3
   },
   "file_extension": ".py",
   "mimetype": "text/x-python",
   "name": "python",
   "nbconvert_exporter": "python",
   "pygments_lexer": "ipython3",
   "version": "3.10.10"
  }
 },
 "nbformat": 4,
 "nbformat_minor": 4
}
