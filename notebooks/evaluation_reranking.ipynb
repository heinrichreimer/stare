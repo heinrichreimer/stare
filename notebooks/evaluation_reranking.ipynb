{
 "cells": [
  {
   "cell_type": "code",
   "execution_count": 50,
   "metadata": {
    "collapsed": false,
    "tags": [],
    "ExecuteTime": {
     "end_time": "2023-09-02T10:49:45.959364180Z",
     "start_time": "2023-09-02T10:49:45.946595201Z"
    }
   },
   "outputs": [],
   "source": [
    "from math import nan\n",
    "from re import compile\n",
    "\n",
    "from numpy import arange, array_equal\n",
    "from pandas import read_csv, DataFrame, concat, Series, isna\n",
    "from pingouin import ttest\n",
    "from seaborn import set_style, color_palette, lineplot, FacetGrid, set_theme"
   ]
  },
  {
   "cell_type": "code",
   "execution_count": 51,
   "metadata": {
    "collapsed": false,
    "tags": [],
    "ExecuteTime": {
     "end_time": "2023-09-02T10:49:46.502512681Z",
     "start_time": "2023-09-02T10:49:46.496490001Z"
    }
   },
   "outputs": [
    {
     "data": {
      "text/plain": "           name      display_name  maximize\n0   nDCG@5 rel.  nDCG@5 relevance      True\n1  nDCG@5 qual.    nDCG@5 quality      True",
      "text/html": "<div>\n<style scoped>\n    .dataframe tbody tr th:only-of-type {\n        vertical-align: middle;\n    }\n\n    .dataframe tbody tr th {\n        vertical-align: top;\n    }\n\n    .dataframe thead th {\n        text-align: right;\n    }\n</style>\n<table border=\"1\" class=\"dataframe\">\n  <thead>\n    <tr style=\"text-align: right;\">\n      <th></th>\n      <th>name</th>\n      <th>display_name</th>\n      <th>maximize</th>\n    </tr>\n  </thead>\n  <tbody>\n    <tr>\n      <th>0</th>\n      <td>nDCG@5 rel.</td>\n      <td>nDCG@5 relevance</td>\n      <td>True</td>\n    </tr>\n    <tr>\n      <th>1</th>\n      <td>nDCG@5 qual.</td>\n      <td>nDCG@5 quality</td>\n      <td>True</td>\n    </tr>\n  </tbody>\n</table>\n</div>"
     },
     "execution_count": 51,
     "metadata": {},
     "output_type": "execute_result"
    }
   ],
   "source": [
    "measures = DataFrame([\n",
    "    {\"name\": \"nDCG@5 rel.\", \"display_name\": r\"nDCG@5 relevance\", \"maximize\": True, },\n",
    "    {\"name\": \"nDCG@5 qual.\", \"display_name\": r\"nDCG@5 quality\", \"maximize\": True, },\n",
    "])\n",
    "measures"
   ]
  },
  {
   "cell_type": "code",
   "execution_count": 52,
   "outputs": [],
   "source": [
    "def target_f1(name: str) -> float:\n",
    "    parts = name.split(\" + \")\n",
    "    for part in parts:\n",
    "        if part.startswith(\"randomize\"):\n",
    "            match = compile(r\"randomize\\(F1<=(.*)\\)\").match(part)\n",
    "            if not match:\n",
    "                return 1.0\n",
    "            return float(match.group(1))\n",
    "    if \"ground-truth\" in parts:\n",
    "        return 1.0\n",
    "    return nan"
   ],
   "metadata": {
    "collapsed": false,
    "ExecuteTime": {
     "end_time": "2023-09-02T10:49:46.715345868Z",
     "start_time": "2023-09-02T10:49:46.673257901Z"
    }
   }
  },
  {
   "cell_type": "code",
   "execution_count": 53,
   "outputs": [
    {
     "data": {
      "text/plain": "                                                    name           team  \\\n0      Aldo-Nadi seupd2122-kueri_kueristopv2_BM2_fals...      Aldo-Nadi   \n1      Aldo-Nadi seupd2122-kueri_kueristopv2_BM2_fals...      Aldo-Nadi   \n2      Aldo-Nadi seupd2122-kueri_kueristopv2_BM2_fals...      Aldo-Nadi   \n3      Aldo-Nadi seupd2122-kueri_kueristopv2_BM2_fals...      Aldo-Nadi   \n4      Aldo-Nadi seupd2122-kueri_kueristopv2_BM2_fals...      Aldo-Nadi   \n...                                                  ...            ...   \n62395  Puss-in-Boots BM25-Baseline + ground-truth + r...  Puss-in-Boots   \n62396  Puss-in-Boots BM25-Baseline + ground-truth + r...  Puss-in-Boots   \n62397  Puss-in-Boots BM25-Baseline + ground-truth + r...  Puss-in-Boots   \n62398  Puss-in-Boots BM25-Baseline + ground-truth + r...  Puss-in-Boots   \n62399  Puss-in-Boots BM25-Baseline + ground-truth + r...  Puss-in-Boots   \n\n                                                     run  \\\n0      Aldo-Nadi seupd2122-kueri_kueristopv2_BM2_fals...   \n1      Aldo-Nadi seupd2122-kueri_kueristopv2_BM2_fals...   \n2      Aldo-Nadi seupd2122-kueri_kueristopv2_BM2_fals...   \n3      Aldo-Nadi seupd2122-kueri_kueristopv2_BM2_fals...   \n4      Aldo-Nadi seupd2122-kueri_kueristopv2_BM2_fals...   \n...                                                  ...   \n62395                        Puss-in-Boots BM25-Baseline   \n62396                        Puss-in-Boots BM25-Baseline   \n62397                        Puss-in-Boots BM25-Baseline   \n62398                        Puss-in-Boots BM25-Baseline   \n62399                        Puss-in-Boots BM25-Baseline   \n\n                                                reranker  target_f1  qid  \\\n0                                                    NaN        NaN  100   \n1                                    optimal-relevance@5        NaN  100   \n2                                      optimal-quality@5        NaN  100   \n3                          ground-truth + stance-first@5       1.00  100   \n4                                         stance-first@5        NaN  100   \n...                                                  ...        ...  ...   \n62395  ground-truth + randomize(F1<=0.40)@5 + stance-...       0.40   95   \n62396  ground-truth + randomize(F1<=0.35)@5 + stance-...       0.35   95   \n62397  ground-truth + randomize(F1<=0.30)@5 + stance-...       0.30   95   \n62398  ground-truth + randomize(F1<=0.25)@5 + stance-...       0.25   95   \n62399  ground-truth + randomize(F1<=0.20)@5 + stance-...       0.20   95   \n\n            measure  value  value_aggregated  value_original  \\\n0       nDCG@5 rel.  0.170           0.54662           0.170   \n1       nDCG@5 rel.  0.339           0.60660           0.170   \n2       nDCG@5 rel.  0.339           0.56770           0.170   \n3       nDCG@5 rel.  0.339           0.57594           0.170   \n4       nDCG@5 rel.  0.170           0.54642           0.170   \n...             ...    ...               ...             ...   \n62395  nDCG@5 qual.  0.361           0.48602           0.361   \n62396  nDCG@5 qual.  0.361           0.48246           0.361   \n62397  nDCG@5 qual.  0.327           0.46664           0.361   \n62398  nDCG@5 qual.  0.327           0.47548           0.361   \n62399  nDCG@5 qual.  0.308           0.46820           0.361   \n\n       value_original_aggregated  value_optimal  value_optimal_aggregated  \n0                        0.54662          0.339                   0.60660  \n1                        0.54662          0.339                   0.60660  \n2                        0.54662          0.339                   0.60660  \n3                        0.54662          0.339                   0.60660  \n4                        0.54662          0.339                   0.60660  \n...                          ...            ...                       ...  \n62395                    0.47622          0.361                   0.54428  \n62396                    0.47622          0.361                   0.54428  \n62397                    0.47622          0.361                   0.54428  \n62398                    0.47622          0.361                   0.54428  \n62399                    0.47622          0.361                   0.54428  \n\n[62400 rows x 13 columns]",
      "text/html": "<div>\n<style scoped>\n    .dataframe tbody tr th:only-of-type {\n        vertical-align: middle;\n    }\n\n    .dataframe tbody tr th {\n        vertical-align: top;\n    }\n\n    .dataframe thead th {\n        text-align: right;\n    }\n</style>\n<table border=\"1\" class=\"dataframe\">\n  <thead>\n    <tr style=\"text-align: right;\">\n      <th></th>\n      <th>name</th>\n      <th>team</th>\n      <th>run</th>\n      <th>reranker</th>\n      <th>target_f1</th>\n      <th>qid</th>\n      <th>measure</th>\n      <th>value</th>\n      <th>value_aggregated</th>\n      <th>value_original</th>\n      <th>value_original_aggregated</th>\n      <th>value_optimal</th>\n      <th>value_optimal_aggregated</th>\n    </tr>\n  </thead>\n  <tbody>\n    <tr>\n      <th>0</th>\n      <td>Aldo-Nadi seupd2122-kueri_kueristopv2_BM2_fals...</td>\n      <td>Aldo-Nadi</td>\n      <td>Aldo-Nadi seupd2122-kueri_kueristopv2_BM2_fals...</td>\n      <td>NaN</td>\n      <td>NaN</td>\n      <td>100</td>\n      <td>nDCG@5 rel.</td>\n      <td>0.170</td>\n      <td>0.54662</td>\n      <td>0.170</td>\n      <td>0.54662</td>\n      <td>0.339</td>\n      <td>0.60660</td>\n    </tr>\n    <tr>\n      <th>1</th>\n      <td>Aldo-Nadi seupd2122-kueri_kueristopv2_BM2_fals...</td>\n      <td>Aldo-Nadi</td>\n      <td>Aldo-Nadi seupd2122-kueri_kueristopv2_BM2_fals...</td>\n      <td>optimal-relevance@5</td>\n      <td>NaN</td>\n      <td>100</td>\n      <td>nDCG@5 rel.</td>\n      <td>0.339</td>\n      <td>0.60660</td>\n      <td>0.170</td>\n      <td>0.54662</td>\n      <td>0.339</td>\n      <td>0.60660</td>\n    </tr>\n    <tr>\n      <th>2</th>\n      <td>Aldo-Nadi seupd2122-kueri_kueristopv2_BM2_fals...</td>\n      <td>Aldo-Nadi</td>\n      <td>Aldo-Nadi seupd2122-kueri_kueristopv2_BM2_fals...</td>\n      <td>optimal-quality@5</td>\n      <td>NaN</td>\n      <td>100</td>\n      <td>nDCG@5 rel.</td>\n      <td>0.339</td>\n      <td>0.56770</td>\n      <td>0.170</td>\n      <td>0.54662</td>\n      <td>0.339</td>\n      <td>0.60660</td>\n    </tr>\n    <tr>\n      <th>3</th>\n      <td>Aldo-Nadi seupd2122-kueri_kueristopv2_BM2_fals...</td>\n      <td>Aldo-Nadi</td>\n      <td>Aldo-Nadi seupd2122-kueri_kueristopv2_BM2_fals...</td>\n      <td>ground-truth + stance-first@5</td>\n      <td>1.00</td>\n      <td>100</td>\n      <td>nDCG@5 rel.</td>\n      <td>0.339</td>\n      <td>0.57594</td>\n      <td>0.170</td>\n      <td>0.54662</td>\n      <td>0.339</td>\n      <td>0.60660</td>\n    </tr>\n    <tr>\n      <th>4</th>\n      <td>Aldo-Nadi seupd2122-kueri_kueristopv2_BM2_fals...</td>\n      <td>Aldo-Nadi</td>\n      <td>Aldo-Nadi seupd2122-kueri_kueristopv2_BM2_fals...</td>\n      <td>stance-first@5</td>\n      <td>NaN</td>\n      <td>100</td>\n      <td>nDCG@5 rel.</td>\n      <td>0.170</td>\n      <td>0.54642</td>\n      <td>0.170</td>\n      <td>0.54662</td>\n      <td>0.339</td>\n      <td>0.60660</td>\n    </tr>\n    <tr>\n      <th>...</th>\n      <td>...</td>\n      <td>...</td>\n      <td>...</td>\n      <td>...</td>\n      <td>...</td>\n      <td>...</td>\n      <td>...</td>\n      <td>...</td>\n      <td>...</td>\n      <td>...</td>\n      <td>...</td>\n      <td>...</td>\n      <td>...</td>\n    </tr>\n    <tr>\n      <th>62395</th>\n      <td>Puss-in-Boots BM25-Baseline + ground-truth + r...</td>\n      <td>Puss-in-Boots</td>\n      <td>Puss-in-Boots BM25-Baseline</td>\n      <td>ground-truth + randomize(F1&lt;=0.40)@5 + stance-...</td>\n      <td>0.40</td>\n      <td>95</td>\n      <td>nDCG@5 qual.</td>\n      <td>0.361</td>\n      <td>0.48602</td>\n      <td>0.361</td>\n      <td>0.47622</td>\n      <td>0.361</td>\n      <td>0.54428</td>\n    </tr>\n    <tr>\n      <th>62396</th>\n      <td>Puss-in-Boots BM25-Baseline + ground-truth + r...</td>\n      <td>Puss-in-Boots</td>\n      <td>Puss-in-Boots BM25-Baseline</td>\n      <td>ground-truth + randomize(F1&lt;=0.35)@5 + stance-...</td>\n      <td>0.35</td>\n      <td>95</td>\n      <td>nDCG@5 qual.</td>\n      <td>0.361</td>\n      <td>0.48246</td>\n      <td>0.361</td>\n      <td>0.47622</td>\n      <td>0.361</td>\n      <td>0.54428</td>\n    </tr>\n    <tr>\n      <th>62397</th>\n      <td>Puss-in-Boots BM25-Baseline + ground-truth + r...</td>\n      <td>Puss-in-Boots</td>\n      <td>Puss-in-Boots BM25-Baseline</td>\n      <td>ground-truth + randomize(F1&lt;=0.30)@5 + stance-...</td>\n      <td>0.30</td>\n      <td>95</td>\n      <td>nDCG@5 qual.</td>\n      <td>0.327</td>\n      <td>0.46664</td>\n      <td>0.361</td>\n      <td>0.47622</td>\n      <td>0.361</td>\n      <td>0.54428</td>\n    </tr>\n    <tr>\n      <th>62398</th>\n      <td>Puss-in-Boots BM25-Baseline + ground-truth + r...</td>\n      <td>Puss-in-Boots</td>\n      <td>Puss-in-Boots BM25-Baseline</td>\n      <td>ground-truth + randomize(F1&lt;=0.25)@5 + stance-...</td>\n      <td>0.25</td>\n      <td>95</td>\n      <td>nDCG@5 qual.</td>\n      <td>0.327</td>\n      <td>0.47548</td>\n      <td>0.361</td>\n      <td>0.47622</td>\n      <td>0.361</td>\n      <td>0.54428</td>\n    </tr>\n    <tr>\n      <th>62399</th>\n      <td>Puss-in-Boots BM25-Baseline + ground-truth + r...</td>\n      <td>Puss-in-Boots</td>\n      <td>Puss-in-Boots BM25-Baseline</td>\n      <td>ground-truth + randomize(F1&lt;=0.20)@5 + stance-...</td>\n      <td>0.20</td>\n      <td>95</td>\n      <td>nDCG@5 qual.</td>\n      <td>0.308</td>\n      <td>0.46820</td>\n      <td>0.361</td>\n      <td>0.47622</td>\n      <td>0.361</td>\n      <td>0.54428</td>\n    </tr>\n  </tbody>\n</table>\n<p>62400 rows × 13 columns</p>\n</div>"
     },
     "execution_count": 53,
     "metadata": {},
     "output_type": "execute_result"
    }
   ],
   "source": [
    "df: DataFrame = read_csv(\"../data/metrics-reranking.csv\")\n",
    "\n",
    "# Remove duplicate runs.\n",
    "df = df.groupby([\"name\", \"qid\"], dropna=False, sort=False).aggregate(\"first\").reset_index()\n",
    "\n",
    "# Pivot measures into column values.\n",
    "df = concat([\n",
    "    concat([\n",
    "        df[[\"name\", \"qid\", measure]].rename(columns={measure: \"value\"}),\n",
    "        DataFrame({\"measure\": [measure] * len(df)}),\n",
    "    ], axis=1)\n",
    "    for measure in measures[\"name\"]\n",
    "])\n",
    "\n",
    "# Add run/team/reranker names.\n",
    "df[\"run\"] = df[\"name\"].apply(lambda name: name.split(\" + \", maxsplit=1)[0])\n",
    "df[\"team\"] = df[\"run\"].apply(lambda run: run.split(\" \", maxsplit=1)[0])\n",
    "df[\"reranker\"] = [\n",
    "    name.split(\" + \", maxsplit=1)[1] if name != run else nan\n",
    "    for _, (name, run) in df[[\"name\", \"run\"]].iterrows()\n",
    "]\n",
    "\n",
    "# Detect target F1 scores.\n",
    "df[\"target_f1\"] = df[\"name\"].apply(target_f1)\n",
    "\n",
    "# Select columns.\n",
    "df = df[[\"name\", \"team\", \"run\", \"reranker\", \"target_f1\", \"qid\", \"measure\", \"value\"]]\n",
    "\n",
    "# Compute aggregated metric values.\n",
    "df_aggregated = df[[\"name\", \"measure\", \"qid\", \"value\"]].groupby([\"name\", \"measure\"], dropna=False,\n",
    "                                                                sort=False).aggregate(\"mean\").drop(\n",
    "    columns=[\"qid\"])\n",
    "df = df.merge(df_aggregated, on=[\"name\", \"measure\"], suffixes=(\"\", \"_aggregated\"))\n",
    "\n",
    "# Add differences to original runs.\n",
    "df = df.merge(\n",
    "    df.loc[df[\"reranker\"].isna(), [\"qid\", \"measure\", \"run\", \"value\", \"value_aggregated\"]],\n",
    "    on=[\"qid\", \"measure\", \"run\"],\n",
    "    suffixes=(\"\", \"_original\"),\n",
    ").rename(columns={\"value_aggregated_original\": \"value_original_aggregated\"})\n",
    "\n",
    "# Add differences to optimal runs.\n",
    "df = df.merge(\n",
    "    df.loc[df[\"reranker\"] == \"optimal-relevance@5\", [\"qid\", \"measure\", \"run\", \"value\", \"value_aggregated\"]],\n",
    "    on=[\"qid\", \"measure\", \"run\"],\n",
    "    suffixes=(\"\", \"_optimal_relevance\"),\n",
    ")\n",
    "# df = df[df[\"reranker\"] != \"optimal-relevance@5\"]\n",
    "df = df.merge(\n",
    "    df.loc[df[\"reranker\"] == \"optimal-quality@5\", [\"qid\", \"measure\", \"run\", \"value\", \"value_aggregated\"]],\n",
    "    on=[\"qid\", \"measure\", \"run\"],\n",
    "    suffixes=(\"\", \"_optimal_quality\"),\n",
    ")\n",
    "# df = df[df[\"reranker\"] != \"optimal-quality@5\"]\n",
    "df.loc[df[\"measure\"] == \"nDCG@5 rel.\", \"value_optimal\"] = df.loc[df[\"measure\"] == \"nDCG@5 rel.\", \"value_optimal_relevance\"]\n",
    "df.loc[df[\"measure\"] == \"nDCG@5 rel.\", \"value_optimal_aggregated\"] = df.loc[df[\"measure\"] == \"nDCG@5 rel.\", \"value_aggregated_optimal_relevance\"]\n",
    "del df[\"value_optimal_relevance\"]\n",
    "del df[\"value_aggregated_optimal_relevance\"]\n",
    "df.loc[df[\"measure\"] == \"nDCG@5 qual.\", \"value_optimal\"] = df.loc[df[\"measure\"] == \"nDCG@5 qual.\", \"value_optimal_quality\"]\n",
    "df.loc[df[\"measure\"] == \"nDCG@5 qual.\", \"value_optimal_aggregated\"] = df.loc[df[\"measure\"] == \"nDCG@5 qual.\", \"value_aggregated_optimal_quality\"]\n",
    "del df[\"value_optimal_quality\"]\n",
    "del df[\"value_aggregated_optimal_quality\"]\n",
    "df"
   ],
   "metadata": {
    "collapsed": false,
    "ExecuteTime": {
     "end_time": "2023-09-02T10:49:49.125628414Z",
     "start_time": "2023-09-02T10:49:46.929002374Z"
    }
   }
  },
  {
   "cell_type": "code",
   "execution_count": 54,
   "outputs": [
    {
     "data": {
      "text/plain": "                                                    name           team  \\\n0      Aldo-Nadi seupd2122-kueri_kueristopv2_BM2_fals...      Aldo-Nadi   \n1      Aldo-Nadi seupd2122-kueri_kueristopv2_BM2_fals...      Aldo-Nadi   \n2      Aldo-Nadi seupd2122-kueri_kueristopv2_BM2_fals...      Aldo-Nadi   \n3      Aldo-Nadi seupd2122-kueri_kueristopv2_BM2_fals...      Aldo-Nadi   \n4      Aldo-Nadi seupd2122-kueri_kueristopv2_BM2_fals...      Aldo-Nadi   \n...                                                  ...            ...   \n62347  Puss-in-Boots BM25-Baseline + ground-truth + r...  Puss-in-Boots   \n62348  Puss-in-Boots BM25-Baseline + ground-truth + r...  Puss-in-Boots   \n62349  Puss-in-Boots BM25-Baseline + ground-truth + r...  Puss-in-Boots   \n62350  Puss-in-Boots BM25-Baseline + ground-truth + r...  Puss-in-Boots   \n62351  Puss-in-Boots BM25-Baseline + ground-truth + r...  Puss-in-Boots   \n\n                                                     run  \\\n0      Aldo-Nadi seupd2122-kueri_kueristopv2_BM2_fals...   \n1      Aldo-Nadi seupd2122-kueri_kueristopv2_BM2_fals...   \n2      Aldo-Nadi seupd2122-kueri_kueristopv2_BM2_fals...   \n3      Aldo-Nadi seupd2122-kueri_kueristopv2_BM2_fals...   \n4      Aldo-Nadi seupd2122-kueri_kueristopv2_BM2_fals...   \n...                                                  ...   \n62347                        Puss-in-Boots BM25-Baseline   \n62348                        Puss-in-Boots BM25-Baseline   \n62349                        Puss-in-Boots BM25-Baseline   \n62350                        Puss-in-Boots BM25-Baseline   \n62351                        Puss-in-Boots BM25-Baseline   \n\n                                                reranker  target_f1  qid  \\\n0                                                    NaN        NaN  100   \n1                                    optimal-relevance@5        NaN  100   \n2                                      optimal-quality@5        NaN  100   \n3                          ground-truth + stance-first@5       1.00  100   \n4                                         stance-first@5        NaN  100   \n...                                                  ...        ...  ...   \n62347  ground-truth + randomize(F1<=0.40)@5 + stance-...       0.40   92   \n62348  ground-truth + randomize(F1<=0.35)@5 + stance-...       0.35   92   \n62349  ground-truth + randomize(F1<=0.30)@5 + stance-...       0.30   92   \n62350  ground-truth + randomize(F1<=0.25)@5 + stance-...       0.25   92   \n62351  ground-truth + randomize(F1<=0.20)@5 + stance-...       0.20   92   \n\n            measure  value  value_aggregated  value_original  \\\n0       nDCG@5 rel.  0.170           0.54662           0.170   \n1       nDCG@5 rel.  0.339           0.60660           0.170   \n2       nDCG@5 rel.  0.339           0.56770           0.170   \n3       nDCG@5 rel.  0.339           0.57594           0.170   \n4       nDCG@5 rel.  0.170           0.54642           0.170   \n...             ...    ...               ...             ...   \n62347  nDCG@5 qual.  0.503           0.48602           0.503   \n62348  nDCG@5 qual.  0.503           0.48246           0.503   \n62349  nDCG@5 qual.  0.519           0.46664           0.503   \n62350  nDCG@5 qual.  0.503           0.47548           0.503   \n62351  nDCG@5 qual.  0.410           0.46820           0.503   \n\n       value_original_aggregated  value_optimal  value_optimal_aggregated  \n0                        0.54662          0.339                   0.60660  \n1                        0.54662          0.339                   0.60660  \n2                        0.54662          0.339                   0.60660  \n3                        0.54662          0.339                   0.60660  \n4                        0.54662          0.339                   0.60660  \n...                          ...            ...                       ...  \n62347                    0.47622          0.592                   0.54428  \n62348                    0.47622          0.592                   0.54428  \n62349                    0.47622          0.592                   0.54428  \n62350                    0.47622          0.592                   0.54428  \n62351                    0.47622          0.592                   0.54428  \n\n[43032 rows x 13 columns]",
      "text/html": "<div>\n<style scoped>\n    .dataframe tbody tr th:only-of-type {\n        vertical-align: middle;\n    }\n\n    .dataframe tbody tr th {\n        vertical-align: top;\n    }\n\n    .dataframe thead th {\n        text-align: right;\n    }\n</style>\n<table border=\"1\" class=\"dataframe\">\n  <thead>\n    <tr style=\"text-align: right;\">\n      <th></th>\n      <th>name</th>\n      <th>team</th>\n      <th>run</th>\n      <th>reranker</th>\n      <th>target_f1</th>\n      <th>qid</th>\n      <th>measure</th>\n      <th>value</th>\n      <th>value_aggregated</th>\n      <th>value_original</th>\n      <th>value_original_aggregated</th>\n      <th>value_optimal</th>\n      <th>value_optimal_aggregated</th>\n    </tr>\n  </thead>\n  <tbody>\n    <tr>\n      <th>0</th>\n      <td>Aldo-Nadi seupd2122-kueri_kueristopv2_BM2_fals...</td>\n      <td>Aldo-Nadi</td>\n      <td>Aldo-Nadi seupd2122-kueri_kueristopv2_BM2_fals...</td>\n      <td>NaN</td>\n      <td>NaN</td>\n      <td>100</td>\n      <td>nDCG@5 rel.</td>\n      <td>0.170</td>\n      <td>0.54662</td>\n      <td>0.170</td>\n      <td>0.54662</td>\n      <td>0.339</td>\n      <td>0.60660</td>\n    </tr>\n    <tr>\n      <th>1</th>\n      <td>Aldo-Nadi seupd2122-kueri_kueristopv2_BM2_fals...</td>\n      <td>Aldo-Nadi</td>\n      <td>Aldo-Nadi seupd2122-kueri_kueristopv2_BM2_fals...</td>\n      <td>optimal-relevance@5</td>\n      <td>NaN</td>\n      <td>100</td>\n      <td>nDCG@5 rel.</td>\n      <td>0.339</td>\n      <td>0.60660</td>\n      <td>0.170</td>\n      <td>0.54662</td>\n      <td>0.339</td>\n      <td>0.60660</td>\n    </tr>\n    <tr>\n      <th>2</th>\n      <td>Aldo-Nadi seupd2122-kueri_kueristopv2_BM2_fals...</td>\n      <td>Aldo-Nadi</td>\n      <td>Aldo-Nadi seupd2122-kueri_kueristopv2_BM2_fals...</td>\n      <td>optimal-quality@5</td>\n      <td>NaN</td>\n      <td>100</td>\n      <td>nDCG@5 rel.</td>\n      <td>0.339</td>\n      <td>0.56770</td>\n      <td>0.170</td>\n      <td>0.54662</td>\n      <td>0.339</td>\n      <td>0.60660</td>\n    </tr>\n    <tr>\n      <th>3</th>\n      <td>Aldo-Nadi seupd2122-kueri_kueristopv2_BM2_fals...</td>\n      <td>Aldo-Nadi</td>\n      <td>Aldo-Nadi seupd2122-kueri_kueristopv2_BM2_fals...</td>\n      <td>ground-truth + stance-first@5</td>\n      <td>1.00</td>\n      <td>100</td>\n      <td>nDCG@5 rel.</td>\n      <td>0.339</td>\n      <td>0.57594</td>\n      <td>0.170</td>\n      <td>0.54662</td>\n      <td>0.339</td>\n      <td>0.60660</td>\n    </tr>\n    <tr>\n      <th>4</th>\n      <td>Aldo-Nadi seupd2122-kueri_kueristopv2_BM2_fals...</td>\n      <td>Aldo-Nadi</td>\n      <td>Aldo-Nadi seupd2122-kueri_kueristopv2_BM2_fals...</td>\n      <td>stance-first@5</td>\n      <td>NaN</td>\n      <td>100</td>\n      <td>nDCG@5 rel.</td>\n      <td>0.170</td>\n      <td>0.54642</td>\n      <td>0.170</td>\n      <td>0.54662</td>\n      <td>0.339</td>\n      <td>0.60660</td>\n    </tr>\n    <tr>\n      <th>...</th>\n      <td>...</td>\n      <td>...</td>\n      <td>...</td>\n      <td>...</td>\n      <td>...</td>\n      <td>...</td>\n      <td>...</td>\n      <td>...</td>\n      <td>...</td>\n      <td>...</td>\n      <td>...</td>\n      <td>...</td>\n      <td>...</td>\n    </tr>\n    <tr>\n      <th>62347</th>\n      <td>Puss-in-Boots BM25-Baseline + ground-truth + r...</td>\n      <td>Puss-in-Boots</td>\n      <td>Puss-in-Boots BM25-Baseline</td>\n      <td>ground-truth + randomize(F1&lt;=0.40)@5 + stance-...</td>\n      <td>0.40</td>\n      <td>92</td>\n      <td>nDCG@5 qual.</td>\n      <td>0.503</td>\n      <td>0.48602</td>\n      <td>0.503</td>\n      <td>0.47622</td>\n      <td>0.592</td>\n      <td>0.54428</td>\n    </tr>\n    <tr>\n      <th>62348</th>\n      <td>Puss-in-Boots BM25-Baseline + ground-truth + r...</td>\n      <td>Puss-in-Boots</td>\n      <td>Puss-in-Boots BM25-Baseline</td>\n      <td>ground-truth + randomize(F1&lt;=0.35)@5 + stance-...</td>\n      <td>0.35</td>\n      <td>92</td>\n      <td>nDCG@5 qual.</td>\n      <td>0.503</td>\n      <td>0.48246</td>\n      <td>0.503</td>\n      <td>0.47622</td>\n      <td>0.592</td>\n      <td>0.54428</td>\n    </tr>\n    <tr>\n      <th>62349</th>\n      <td>Puss-in-Boots BM25-Baseline + ground-truth + r...</td>\n      <td>Puss-in-Boots</td>\n      <td>Puss-in-Boots BM25-Baseline</td>\n      <td>ground-truth + randomize(F1&lt;=0.30)@5 + stance-...</td>\n      <td>0.30</td>\n      <td>92</td>\n      <td>nDCG@5 qual.</td>\n      <td>0.519</td>\n      <td>0.46664</td>\n      <td>0.503</td>\n      <td>0.47622</td>\n      <td>0.592</td>\n      <td>0.54428</td>\n    </tr>\n    <tr>\n      <th>62350</th>\n      <td>Puss-in-Boots BM25-Baseline + ground-truth + r...</td>\n      <td>Puss-in-Boots</td>\n      <td>Puss-in-Boots BM25-Baseline</td>\n      <td>ground-truth + randomize(F1&lt;=0.25)@5 + stance-...</td>\n      <td>0.25</td>\n      <td>92</td>\n      <td>nDCG@5 qual.</td>\n      <td>0.503</td>\n      <td>0.47548</td>\n      <td>0.503</td>\n      <td>0.47622</td>\n      <td>0.592</td>\n      <td>0.54428</td>\n    </tr>\n    <tr>\n      <th>62351</th>\n      <td>Puss-in-Boots BM25-Baseline + ground-truth + r...</td>\n      <td>Puss-in-Boots</td>\n      <td>Puss-in-Boots BM25-Baseline</td>\n      <td>ground-truth + randomize(F1&lt;=0.20)@5 + stance-...</td>\n      <td>0.20</td>\n      <td>92</td>\n      <td>nDCG@5 qual.</td>\n      <td>0.410</td>\n      <td>0.46820</td>\n      <td>0.503</td>\n      <td>0.47622</td>\n      <td>0.592</td>\n      <td>0.54428</td>\n    </tr>\n  </tbody>\n</table>\n<p>43032 rows × 13 columns</p>\n</div>"
     },
     "execution_count": 54,
     "metadata": {},
     "output_type": "execute_result"
    }
   ],
   "source": [
    "df[df[\"value_original\"] != df[\"value_optimal\"]]"
   ],
   "metadata": {
    "collapsed": false,
    "ExecuteTime": {
     "end_time": "2023-09-02T10:49:49.135234896Z",
     "start_time": "2023-09-02T10:49:49.120783804Z"
    }
   }
  },
  {
   "cell_type": "code",
   "execution_count": 55,
   "outputs": [
    {
     "data": {
      "text/plain": "{'Aldo-Nadi': 'Aldo Nadi',\n 'Asuna': 'Asuna',\n 'Captain-Levi': 'Captain L.',\n 'Captain-Tempesta': 'Captain T.',\n 'Grimjack': 'Grimjack',\n 'Katana': 'Katana',\n 'Olivier-Armstrong': 'Olivier A.',\n 'Puss-in-Boots': 'Puss in B.'}"
     },
     "execution_count": 55,
     "metadata": {},
     "output_type": "execute_result"
    }
   ],
   "source": [
    "short_team_names = {}\n",
    "team: str\n",
    "for team in df[\"team\"].sort_values().unique():\n",
    "    orig_team = team\n",
    "    for prefix in [\"Captain\", \"Olivier\", \"Puss-in\"]:\n",
    "        if team.startswith(prefix):\n",
    "            team = prefix + team.removeprefix(prefix)[:2] + \".\"\n",
    "    short_team_names[orig_team] = team.replace(\"-\", \" \")\n",
    "short_team_names"
   ],
   "metadata": {
    "collapsed": false,
    "ExecuteTime": {
     "end_time": "2023-09-02T10:49:52.787039723Z",
     "start_time": "2023-09-02T10:49:52.743058218Z"
    }
   }
  },
  {
   "cell_type": "code",
   "execution_count": 56,
   "outputs": [
    {
     "data": {
      "text/plain": "{('Aldo-Nadi', 'Aldo-Nadi seupd2122-kueri_RF_reranked'): 'A',\n ('Aldo-Nadi', 'Aldo-Nadi seupd2122-kueri_kueristopv2_BM2_false_porter'): 'B',\n ('Aldo-Nadi',\n  'Aldo-Nadi seupd2122-kueri_kueristopv2_BM2_false_porter_reranked'): 'C',\n ('Aldo-Nadi', 'Aldo-Nadi seupd2122-kueri_rrf'): 'D',\n ('Aldo-Nadi', 'Aldo-Nadi seupd2122-kueri_rrf_reranked'): 'E',\n ('Asuna', 'Asuna asuna-run-5'): 'A',\n ('Captain-Levi', 'Captain-Levi levirank_baseline_large_duo_t5'): 'A',\n ('Captain-Levi', 'Captain-Levi levirank_dense_initial_retrieval'): 'B',\n ('Captain-Levi', 'Captain-Levi levirank_psuedo_relevance_feedback'): 'C',\n ('Captain-Levi',\n  'Captain-Levi levirank_psuedo_relevance_feedback+voting'): 'D',\n ('Captain-Levi', 'Captain-Levi levirank_voting_retrieval'): 'E',\n ('Captain-Tempesta', 'Captain-Tempesta hextech_run_1'): 'A',\n ('Captain-Tempesta', 'Captain-Tempesta hextech_run_2'): 'B',\n ('Captain-Tempesta', 'Captain-Tempesta hextech_run_3'): 'C',\n ('Captain-Tempesta', 'Captain-Tempesta hextech_run_4'): 'D',\n ('Captain-Tempesta', 'Captain-Tempesta hextech_run_5'): 'E',\n ('Grimjack', 'Grimjack grimjack-all-you-need-is-t0'): 'A',\n ('Grimjack', 'Grimjack grimjack-argumentative-axioms'): 'B',\n ('Grimjack', 'Grimjack grimjack-baseline'): 'C',\n ('Grimjack', 'Grimjack grimjack-fair-argumentative-reranking-with-t0'): 'D',\n ('Grimjack', 'Grimjack grimjack-fair-reranking-argumentative-axioms'): 'E',\n ('Katana', 'Katana Colbert edinburg'): 'A',\n ('Katana', 'Katana Colbert fine tune on touche data'): 'B',\n ('Katana', 'Katana Colbert trained by me'): 'C',\n ('Olivier-Armstrong', 'Olivier-Armstrong tfid_arg_similarity'): 'A',\n ('Puss-in-Boots', 'Puss-in-Boots BM25-Baseline'): 'A'}"
     },
     "execution_count": 56,
     "metadata": {},
     "output_type": "execute_result"
    }
   ],
   "source": [
    "short_run_names = {}\n",
    "for team in df[\"team\"].unique():\n",
    "    for run, char in zip(df[df[\"team\"] == team][\"run\"].sort_values().unique(), \"ABCDEFGHIJKLMNOPQRSTUVWXYZ\"):\n",
    "        short_run_names[(team, run)] = char\n",
    "short_run_names"
   ],
   "metadata": {
    "collapsed": false,
    "ExecuteTime": {
     "end_time": "2023-09-02T10:49:54.186323491Z",
     "start_time": "2023-09-02T10:49:54.123936967Z"
    }
   }
  },
  {
   "cell_type": "code",
   "execution_count": 57,
   "outputs": [
    {
     "name": "stdout",
     "output_type": "stream",
     "text": [
      "\\begin{tabular}{@{}lll@{}}\n",
      "    \\toprule\n",
      "    \\multicolumn{2}{@{}l}{Run} & Run ID \\\\\n",
      "    \\midrule\n",
      "    Aldo Nadi & A & seupd2122-kueri_RF_reranked \\\\\n",
      "    Aldo Nadi & B & seupd2122-kueri_kueristopv2_BM2_false_porter \\\\\n",
      "    Aldo Nadi & C & seupd2122-kueri_kueristopv2_BM2_false_porter_reranked \\\\\n",
      "    Aldo Nadi & D & seupd2122-kueri_rrf \\\\\n",
      "    Aldo Nadi & E & seupd2122-kueri_rrf_reranked \\\\\n",
      "    Asuna & A & asuna-run-5 \\\\\n",
      "    Captain Levi & A & levirank_baseline_large_duo_t5 \\\\\n",
      "    Captain Levi & B & levirank_dense_initial_retrieval \\\\\n",
      "    Captain Levi & C & levirank_psuedo_relevance_feedback \\\\\n",
      "    Captain Levi & D & levirank_psuedo_relevance_feedback+voting \\\\\n",
      "    Captain Levi & E & levirank_voting_retrieval \\\\\n",
      "    Captain Tempesta & A & hextech_run_1 \\\\\n",
      "    Captain Tempesta & B & hextech_run_2 \\\\\n",
      "    Captain Tempesta & C & hextech_run_3 \\\\\n",
      "    Captain Tempesta & D & hextech_run_4 \\\\\n",
      "    Captain Tempesta & E & hextech_run_5 \\\\\n",
      "    Grimjack & A & grimjack-all-you-need-is-t0 \\\\\n",
      "    Grimjack & B & grimjack-argumentative-axioms \\\\\n",
      "    Grimjack & C & grimjack-baseline \\\\\n",
      "    Grimjack & D & grimjack-fair-argumentative-reranking-with-t0 \\\\\n",
      "    Grimjack & E & grimjack-fair-reranking-argumentative-axioms \\\\\n",
      "    Katana & A & Colbert edinburg \\\\\n",
      "    Katana & B & Colbert fine tune on touche data \\\\\n",
      "    Katana & C & Colbert trained by me \\\\\n",
      "    Olivier Armstrong & A & tfid_arg_similarity \\\\\n",
      "    Puss in Boots & A & BM25-Baseline \\\\\n",
      "    \\bottomrule\n",
      "\\end{tabular}\n"
     ]
    }
   ],
   "source": [
    "print(r\"\\begin{tabular}{@{}lll@{}}\")\n",
    "print(r\"    \\toprule\")\n",
    "print(r\"    \\multicolumn{2}{@{}l}{Run} & Run ID \\\\\")\n",
    "print(r\"    \\midrule\")\n",
    "for team in df[\"team\"].sort_values().unique():\n",
    "    for run in df[df[\"team\"] == team][\"run\"].sort_values().unique():\n",
    "        print(f\"    {team.replace('-', ' ')} & {short_run_names[(team, run)]} & {run.removeprefix(team)[1:]} \\\\\\\\\")\n",
    "print(r\"    \\bottomrule\")\n",
    "print(r\"\\end{tabular}\")"
   ],
   "metadata": {
    "collapsed": false,
    "ExecuteTime": {
     "end_time": "2023-09-02T10:49:55.013849693Z",
     "start_time": "2023-09-02T10:49:54.929635730Z"
    }
   }
  },
  {
   "cell_type": "code",
   "execution_count": 58,
   "outputs": [],
   "source": [
    "rerankers_table = {\n",
    "    nan: r\"Touch{\\'e}\",\n",
    "    \"ground-truth + stance-first@5\": r\"Oracle~{\\tiny(\\fone=\\,1.00)}\",\n",
    "    \"ground-truth + randomize(F1<=0.75)@5 + stance-first@5\": r\"Simul.~{\\tiny(\\fone<\\,0.75)}\",\n",
    "    \"gpt3-tsv + stance-first@5\": r\"GPT-3~{\\tiny(\\fone=\\,0.49)}\",\n",
    "    \"google/flan-t5-base@5 + stance-first@5\": r\"Flan-T5~{\\tiny(\\fone=\\,0.39)}\",\n",
    "    \"roberta-csv + stance-first@5\": r\"\\kern-0.25em RoBERTa~{\\tiny(\\fone=\\,0.34)}\\kern-0.25em\",\n",
    "    \"stance-first@5\": r\"Orig.~{\\tiny(\\fone<\\,0.36)}\",\n",
    "}\n",
    "correction_n = len(rerankers_table) + 1\n",
    "\n",
    "for key in rerankers_table.keys():\n",
    "    if (not isna(key) and len(df[df[\"reranker\"] == key]) == 0) or (isna(key) and len(df[df[\"reranker\"].isna()]) == 0):\n",
    "        raise ValueError(f\"Re-ranker '{key}' not found.\")"
   ],
   "metadata": {
    "collapsed": false,
    "ExecuteTime": {
     "end_time": "2023-09-02T10:49:55.823745157Z",
     "start_time": "2023-09-02T10:49:55.792861096Z"
    }
   }
  },
  {
   "cell_type": "code",
   "execution_count": 61,
   "outputs": [
    {
     "data": {
      "text/plain": "                                                    name          team  \\\n10944      Captain-Levi levirank_dense_initial_retrieval  Captain-Levi   \n9744         Captain-Levi levirank_baseline_large_duo_t5  Captain-Levi   \n12144  Captain-Levi levirank_psuedo_relevance_feedbac...  Captain-Levi   \n7344              Captain-Levi levirank_voting_retrieval  Captain-Levi   \n8544     Captain-Levi levirank_psuedo_relevance_feedback  Captain-Levi   \n...                                                  ...           ...   \n55348  Grimjack grimjack-fair-argumentative-reranking...      Grimjack   \n50548        Grimjack grimjack-baseline + stance-first@5      Grimjack   \n51748  Grimjack grimjack-argumentative-axioms + stanc...      Grimjack   \n54148  Grimjack grimjack-all-you-need-is-t0 + stance-...      Grimjack   \n37348                 Asuna asuna-run-5 + stance-first@5         Asuna   \n\n                                                     run        reranker  \\\n10944      Captain-Levi levirank_dense_initial_retrieval             NaN   \n9744         Captain-Levi levirank_baseline_large_duo_t5             NaN   \n12144  Captain-Levi levirank_psuedo_relevance_feedbac...             NaN   \n7344              Captain-Levi levirank_voting_retrieval             NaN   \n8544     Captain-Levi levirank_psuedo_relevance_feedback             NaN   \n...                                                  ...             ...   \n55348  Grimjack grimjack-fair-argumentative-reranking...  stance-first@5   \n50548                         Grimjack grimjack-baseline  stance-first@5   \n51748             Grimjack grimjack-argumentative-axioms  stance-first@5   \n54148               Grimjack grimjack-all-you-need-is-t0  stance-first@5   \n37348                                  Asuna asuna-run-5  stance-first@5   \n\n            measure  value_aggregated  value_original_aggregated  \\\n10944   nDCG@5 rel.           0.75772                    0.75772   \n9744    nDCG@5 rel.           0.75512                    0.75512   \n12144   nDCG@5 rel.           0.75280                    0.75280   \n7344    nDCG@5 rel.           0.72734                    0.72734   \n8544    nDCG@5 rel.           0.72146                    0.72146   \n...             ...               ...                        ...   \n55348  nDCG@5 qual.           0.36526                    0.36526   \n50548  nDCG@5 qual.           0.36342                    0.36342   \n51748  nDCG@5 qual.           0.36342                    0.36342   \n54148  nDCG@5 qual.           0.34436                    0.34436   \n37348  nDCG@5 qual.           0.33230                    0.33230   \n\n       value_optimal_aggregated  run_rank  run_rank_original  reranker_index  \\\n10944                   0.81460         1                  1               0   \n9744                    0.81528         2                  2               0   \n12144                   0.81268         3                  3               0   \n7344                    0.79032         4                  4               0   \n8544                    0.78258         5                  5               0   \n...                         ...       ...                ...             ...   \n55348                   0.42194        22                 22               6   \n50548                   0.44190        23                 23               6   \n51748                   0.44190        24                 24               6   \n54148                   0.41780        25                 25               6   \n37348                   0.41516        26                 26               6   \n\n       p_value  p_value_corrected  ci95_low  ci95_high  cohen_d  \n10944      NaN                NaN       NaN        NaN      NaN  \n9744       NaN                NaN       NaN        NaN      NaN  \n12144      NaN                NaN       NaN        NaN      NaN  \n7344       NaN                NaN       NaN        NaN      NaN  \n8544       NaN                NaN       NaN        NaN      NaN  \n...        ...                ...       ...        ...      ...  \n55348      NaN                NaN       NaN        NaN      NaN  \n50548      NaN                NaN       NaN        NaN      NaN  \n51748      NaN                NaN       NaN        NaN      NaN  \n54148      NaN                NaN       NaN        NaN      NaN  \n37348      NaN                NaN       NaN        NaN      NaN  \n\n[364 rows x 16 columns]",
      "text/html": "<div>\n<style scoped>\n    .dataframe tbody tr th:only-of-type {\n        vertical-align: middle;\n    }\n\n    .dataframe tbody tr th {\n        vertical-align: top;\n    }\n\n    .dataframe thead th {\n        text-align: right;\n    }\n</style>\n<table border=\"1\" class=\"dataframe\">\n  <thead>\n    <tr style=\"text-align: right;\">\n      <th></th>\n      <th>name</th>\n      <th>team</th>\n      <th>run</th>\n      <th>reranker</th>\n      <th>measure</th>\n      <th>value_aggregated</th>\n      <th>value_original_aggregated</th>\n      <th>value_optimal_aggregated</th>\n      <th>run_rank</th>\n      <th>run_rank_original</th>\n      <th>reranker_index</th>\n      <th>p_value</th>\n      <th>p_value_corrected</th>\n      <th>ci95_low</th>\n      <th>ci95_high</th>\n      <th>cohen_d</th>\n    </tr>\n  </thead>\n  <tbody>\n    <tr>\n      <th>10944</th>\n      <td>Captain-Levi levirank_dense_initial_retrieval</td>\n      <td>Captain-Levi</td>\n      <td>Captain-Levi levirank_dense_initial_retrieval</td>\n      <td>NaN</td>\n      <td>nDCG@5 rel.</td>\n      <td>0.75772</td>\n      <td>0.75772</td>\n      <td>0.81460</td>\n      <td>1</td>\n      <td>1</td>\n      <td>0</td>\n      <td>NaN</td>\n      <td>NaN</td>\n      <td>NaN</td>\n      <td>NaN</td>\n      <td>NaN</td>\n    </tr>\n    <tr>\n      <th>9744</th>\n      <td>Captain-Levi levirank_baseline_large_duo_t5</td>\n      <td>Captain-Levi</td>\n      <td>Captain-Levi levirank_baseline_large_duo_t5</td>\n      <td>NaN</td>\n      <td>nDCG@5 rel.</td>\n      <td>0.75512</td>\n      <td>0.75512</td>\n      <td>0.81528</td>\n      <td>2</td>\n      <td>2</td>\n      <td>0</td>\n      <td>NaN</td>\n      <td>NaN</td>\n      <td>NaN</td>\n      <td>NaN</td>\n      <td>NaN</td>\n    </tr>\n    <tr>\n      <th>12144</th>\n      <td>Captain-Levi levirank_psuedo_relevance_feedbac...</td>\n      <td>Captain-Levi</td>\n      <td>Captain-Levi levirank_psuedo_relevance_feedbac...</td>\n      <td>NaN</td>\n      <td>nDCG@5 rel.</td>\n      <td>0.75280</td>\n      <td>0.75280</td>\n      <td>0.81268</td>\n      <td>3</td>\n      <td>3</td>\n      <td>0</td>\n      <td>NaN</td>\n      <td>NaN</td>\n      <td>NaN</td>\n      <td>NaN</td>\n      <td>NaN</td>\n    </tr>\n    <tr>\n      <th>7344</th>\n      <td>Captain-Levi levirank_voting_retrieval</td>\n      <td>Captain-Levi</td>\n      <td>Captain-Levi levirank_voting_retrieval</td>\n      <td>NaN</td>\n      <td>nDCG@5 rel.</td>\n      <td>0.72734</td>\n      <td>0.72734</td>\n      <td>0.79032</td>\n      <td>4</td>\n      <td>4</td>\n      <td>0</td>\n      <td>NaN</td>\n      <td>NaN</td>\n      <td>NaN</td>\n      <td>NaN</td>\n      <td>NaN</td>\n    </tr>\n    <tr>\n      <th>8544</th>\n      <td>Captain-Levi levirank_psuedo_relevance_feedback</td>\n      <td>Captain-Levi</td>\n      <td>Captain-Levi levirank_psuedo_relevance_feedback</td>\n      <td>NaN</td>\n      <td>nDCG@5 rel.</td>\n      <td>0.72146</td>\n      <td>0.72146</td>\n      <td>0.78258</td>\n      <td>5</td>\n      <td>5</td>\n      <td>0</td>\n      <td>NaN</td>\n      <td>NaN</td>\n      <td>NaN</td>\n      <td>NaN</td>\n      <td>NaN</td>\n    </tr>\n    <tr>\n      <th>...</th>\n      <td>...</td>\n      <td>...</td>\n      <td>...</td>\n      <td>...</td>\n      <td>...</td>\n      <td>...</td>\n      <td>...</td>\n      <td>...</td>\n      <td>...</td>\n      <td>...</td>\n      <td>...</td>\n      <td>...</td>\n      <td>...</td>\n      <td>...</td>\n      <td>...</td>\n      <td>...</td>\n    </tr>\n    <tr>\n      <th>55348</th>\n      <td>Grimjack grimjack-fair-argumentative-reranking...</td>\n      <td>Grimjack</td>\n      <td>Grimjack grimjack-fair-argumentative-reranking...</td>\n      <td>stance-first@5</td>\n      <td>nDCG@5 qual.</td>\n      <td>0.36526</td>\n      <td>0.36526</td>\n      <td>0.42194</td>\n      <td>22</td>\n      <td>22</td>\n      <td>6</td>\n      <td>NaN</td>\n      <td>NaN</td>\n      <td>NaN</td>\n      <td>NaN</td>\n      <td>NaN</td>\n    </tr>\n    <tr>\n      <th>50548</th>\n      <td>Grimjack grimjack-baseline + stance-first@5</td>\n      <td>Grimjack</td>\n      <td>Grimjack grimjack-baseline</td>\n      <td>stance-first@5</td>\n      <td>nDCG@5 qual.</td>\n      <td>0.36342</td>\n      <td>0.36342</td>\n      <td>0.44190</td>\n      <td>23</td>\n      <td>23</td>\n      <td>6</td>\n      <td>NaN</td>\n      <td>NaN</td>\n      <td>NaN</td>\n      <td>NaN</td>\n      <td>NaN</td>\n    </tr>\n    <tr>\n      <th>51748</th>\n      <td>Grimjack grimjack-argumentative-axioms + stanc...</td>\n      <td>Grimjack</td>\n      <td>Grimjack grimjack-argumentative-axioms</td>\n      <td>stance-first@5</td>\n      <td>nDCG@5 qual.</td>\n      <td>0.36342</td>\n      <td>0.36342</td>\n      <td>0.44190</td>\n      <td>24</td>\n      <td>24</td>\n      <td>6</td>\n      <td>NaN</td>\n      <td>NaN</td>\n      <td>NaN</td>\n      <td>NaN</td>\n      <td>NaN</td>\n    </tr>\n    <tr>\n      <th>54148</th>\n      <td>Grimjack grimjack-all-you-need-is-t0 + stance-...</td>\n      <td>Grimjack</td>\n      <td>Grimjack grimjack-all-you-need-is-t0</td>\n      <td>stance-first@5</td>\n      <td>nDCG@5 qual.</td>\n      <td>0.34436</td>\n      <td>0.34436</td>\n      <td>0.41780</td>\n      <td>25</td>\n      <td>25</td>\n      <td>6</td>\n      <td>NaN</td>\n      <td>NaN</td>\n      <td>NaN</td>\n      <td>NaN</td>\n      <td>NaN</td>\n    </tr>\n    <tr>\n      <th>37348</th>\n      <td>Asuna asuna-run-5 + stance-first@5</td>\n      <td>Asuna</td>\n      <td>Asuna asuna-run-5</td>\n      <td>stance-first@5</td>\n      <td>nDCG@5 qual.</td>\n      <td>0.33230</td>\n      <td>0.33230</td>\n      <td>0.41516</td>\n      <td>26</td>\n      <td>26</td>\n      <td>6</td>\n      <td>NaN</td>\n      <td>NaN</td>\n      <td>NaN</td>\n      <td>NaN</td>\n      <td>NaN</td>\n    </tr>\n  </tbody>\n</table>\n<p>364 rows × 16 columns</p>\n</div>"
     },
     "execution_count": 61,
     "metadata": {},
     "output_type": "execute_result"
    }
   ],
   "source": [
    "df_table = df[\n",
    "    df[\"reranker\"].isin(rerankers_table.keys()) |\n",
    "    df[\"reranker\"].isna()\n",
    "    ]\n",
    "reranker_index = {\n",
    "    reranker: i\n",
    "    for i, reranker in enumerate(rerankers_table.keys())\n",
    "}\n",
    "\n",
    "\n",
    "def table_row(df: DataFrame, measure_name: str, run: str, reranker: str) -> Series:\n",
    "    measure = measures[measures[\"name\"] == measure_name].iloc[0]\n",
    "\n",
    "    df_reranked = df[df[\"run\"] == run]\n",
    "    if isna(reranker):\n",
    "        df_reranked = df_reranked[df_reranked[\"reranker\"].isna()]\n",
    "    else:\n",
    "        df_reranked = df_reranked[df_reranked[\"reranker\"] == reranker]\n",
    "\n",
    "    df_originals = df[df[\"reranker\"].isna()].sort_values(\"run\").sort_values(\"value_aggregated\", ascending=not measure[\"maximize\"])\n",
    "    run_ranks_original = {run: i + 1 for i, run in enumerate(df_originals[\"run\"].unique())}\n",
    "    run_rank_original = run_ranks_original[run]\n",
    "    df_leaderboard = concat([\n",
    "        df_originals[df_originals[\"run\"] != run],\n",
    "        df_reranked,\n",
    "    ])\n",
    "    df_leaderboard = df_leaderboard.sort_values(\"run\").sort_values(\"value_aggregated\",\n",
    "                                                                   ascending=not measure[\"maximize\"])\n",
    "    run_ranks = {run: i + 1 for i, run in enumerate(df_leaderboard[\"run\"].unique())}\n",
    "    run_rank = run_ranks[run]\n",
    "\n",
    "    df_original = df_originals[df_originals[\"run\"] == run]\n",
    "\n",
    "    df_reranked = df_reranked.sort_values(\"qid\")\n",
    "    df_original = df_original.sort_values(\"qid\")\n",
    "\n",
    "    if not array_equal(df_original[\"value\"], df_reranked[\"value\"]):\n",
    "        stats = ttest(df_original[\"value\"], df_reranked[\"value\"], paired=True)\n",
    "    else:\n",
    "        stats = DataFrame({\n",
    "            \"p-val\": [nan],\n",
    "            \"CI95%\": [(nan, nan)],\n",
    "            \"cohen-d\": [nan],\n",
    "        })\n",
    "\n",
    "    res: Series = df_reranked[[\n",
    "        \"name\", \"team\", \"run\", \"reranker\", \"measure\",\n",
    "        \"value_aggregated\", \"value_original_aggregated\", \"value_optimal_aggregated\"\n",
    "    ]].iloc[0]\n",
    "    res[\"run_rank\"] = run_rank\n",
    "    res[\"run_rank_original\"] = run_rank_original\n",
    "    res[\"reranker_index\"] = reranker_index[reranker]\n",
    "    res[\"p_value\"] = stats[\"p-val\"].iloc[0]\n",
    "    res[\"p_value_corrected\"] = stats[\"p-val\"].iloc[0] * correction_n\n",
    "    res[\"ci95_low\"] = stats[\"CI95%\"].iloc[0][0]\n",
    "    res[\"ci95_high\"] = stats[\"CI95%\"].iloc[0][1]\n",
    "    res[\"cohen_d\"] = stats[\"cohen-d\"].iloc[0]\n",
    "    return res\n",
    "\n",
    "\n",
    "df_table = DataFrame([\n",
    "    table_row(\n",
    "        df_table_measure,\n",
    "        measure,\n",
    "        run,\n",
    "        reranker,\n",
    "    )\n",
    "    for reranker in rerankers_table.keys()\n",
    "    for measure, df_table_measure in df_table.groupby(\"measure\", dropna=False, sort=False)\n",
    "    for run in df_table[\"run\"].unique()\n",
    "])\n",
    "\n",
    "df_table.sort_values([\"measure\", \"reranker_index\", \"run_rank\"], ascending=[False, True, True], inplace=True)\n",
    "\n",
    "df_table"
   ],
   "metadata": {
    "collapsed": false,
    "ExecuteTime": {
     "end_time": "2023-09-02T10:51:18.427347568Z",
     "start_time": "2023-09-02T10:51:13.999066458Z"
    }
   }
  },
  {
   "cell_type": "code",
   "execution_count": 71,
   "outputs": [
    {
     "name": "stdout",
     "output_type": "stream",
     "text": [
      "\\renewcommand{\\tabcolsep}{0.3em}\n",
      "\\begin{tabular}{@{}l@{\\hspace{0.27em}}l@{\\hspace{1.3em}}r@{\\hspace{0.27em}}r@{\\hspace{1.3em}}r@{\\hspace{1.3em}}r@{\\hspace{0.27em}}rr@{\\hspace{0.27em}}r@{\\hspace{1.3em}}r@{\\hspace{0.27em}}rr@{\\hspace{0.27em}}r@{\\hspace{1.3em}}r@{\\hspace{0.27em}}rr@{\\hspace{0.27em}}r@{\\hspace{1.3em}}r@{\\hspace{0.27em}}rr@{\\hspace{0.27em}}r@{\\hspace{1.3em}}r@{\\hspace{0.27em}}rr@{\\hspace{0.27em}}r@{\\hspace{1.3em}}r@{\\hspace{0.27em}}rr@{\\hspace{0.27em}}r@{}}\n",
      "    \\toprule\n",
      "    \\multicolumn{2}{@{}l}{\\textbf{Run}} & \\multicolumn{2}{@{}c@{\\hspace{1.3em}}}{\\textbf{Touch{\\'e}}} & \\multicolumn{1}{@{}c@{\\hspace{1.3em}}}{\\textbf{Opt.}} & \\multicolumn{4}{@{}c@{\\hspace{1.3em}}}{\\textbf{Oracle~{\\tiny(\\fone=\\,1.00)}}} & \\multicolumn{4}{@{}c@{\\hspace{1.3em}}}{\\textbf{Simul.~{\\tiny(\\fone<\\,0.75)}}} & \\multicolumn{4}{@{}c@{\\hspace{1.3em}}}{\\textbf{GPT-3~{\\tiny(\\fone=\\,0.49)}}} & \\multicolumn{4}{@{}c@{\\hspace{1.3em}}}{\\textbf{Flan-T5~{\\tiny(\\fone=\\,0.39)}}} & \\multicolumn{4}{@{}c@{\\hspace{1.3em}}}{\\textbf{\\kern-0.25em RoBERTa~{\\tiny(\\fone=\\,0.34)}\\kern-0.25em}} & \\multicolumn{4}{@{}c@{}}{\\textbf{Orig.~{\\tiny(\\fone<\\,0.36)}}} \\\\\n",
      "    \\cmidrule(r{1.3em}){3-4}\\cmidrule(r{1.3em}){5-5}\\cmidrule(r{1.3em}){6-9}\\cmidrule(r{1.3em}){10-13}\\cmidrule(r{1.3em}){14-17}\\cmidrule(r{1.3em}){18-21}\\cmidrule(r{1.3em}){22-25}\\cmidrule(){26-29}\n",
      "     &  & Val. & \\# & Val. & Val. & {\\tiny$\\Delta$} & \\# & {\\tiny$\\Delta$} & Val. & {\\tiny$\\Delta$} & \\# & {\\tiny$\\Delta$} & Val. & {\\tiny$\\Delta$} & \\# & {\\tiny$\\Delta$} & Val. & {\\tiny$\\Delta$} & \\# & {\\tiny$\\Delta$} & Val. & {\\tiny$\\Delta$} & \\# & {\\tiny$\\Delta$} & Val. & {\\tiny$\\Delta$} & \\# & {\\tiny$\\Delta$} \\\\\n",
      "    \\midrule\n",
      "    \\multicolumn{29}{@{}l@{}}{\\textit{nDCG@5 evaluated using relevance labels}} \\\\\n",
      "    \\midrule\n",
      "    Captain L. & B & 0.76 & 1 & 0.81 & \\textbf{0.79} & \\textbf{+0.03} & 1 & {\\tiny$\\phantom{\\uparrow}$}0 & 0.78 & +0.02 & 1 & {\\tiny$\\phantom{\\uparrow}$}0 & 0.78 & +0.02 & 1 & {\\tiny$\\phantom{\\uparrow}$}0 & 0.76 & +0.01 & 1 & {\\tiny$\\phantom{\\uparrow}$}0 & 0.77 & +0.01 & 1 & {\\tiny$\\phantom{\\uparrow}$}0 & 0.75 & +0.00 & 2 & {\\tiny$\\downarrow$}1 \\\\\n",
      "    Captain L. & A & 0.76 & 2 & 0.82 & \\textbf{0.79} & \\textbf{+0.03} & 1 & {\\tiny$\\uparrow$}1 & 0.77 & +0.01 & 1 & {\\tiny$\\uparrow$}1 & 0.78 & +0.02 & 1 & {\\tiny$\\uparrow$}1 & 0.76 & +0.01 & 1 & {\\tiny$\\uparrow$}1 & 0.76 & +0.01 & 1 & {\\tiny$\\uparrow$}1 & 0.75 & +0.00 & 3 & {\\tiny$\\downarrow$}1 \\\\\n",
      "    Captain L. & D & 0.75 & 3 & 0.81 & \\textbf{0.78} & \\textbf{+0.03} & 1 & {\\tiny$\\uparrow$}2 & 0.77 & +0.02 & 1 & {\\tiny$\\uparrow$}2 & 0.77 & +0.02 & 1 & {\\tiny$\\uparrow$}2 & 0.76 & +0.01 & 1 & {\\tiny$\\uparrow$}2 & 0.75 & +0.00 & 3 & {\\tiny$\\phantom{\\uparrow}$}0 & 0.75 & +0.00 & 3 & {\\tiny$\\phantom{\\uparrow}$}0 \\\\\n",
      "    Captain L. & E & 0.73 & 4 & 0.79 & \\textbf{0.75} & \\textbf{+0.02} & 4 & {\\tiny$\\phantom{\\uparrow}$}0 & 0.74 & +0.01 & 4 & {\\tiny$\\phantom{\\uparrow}$}0 & 0.74 & +0.01 & 4 & {\\tiny$\\phantom{\\uparrow}$}0 & 0.72 & +0.00 & 4 & {\\tiny$\\phantom{\\uparrow}$}0 & 0.73 & +0.00 & 4 & {\\tiny$\\phantom{\\uparrow}$}0 & 0.73 & +0.00 & 4 & {\\tiny$\\phantom{\\uparrow}$}0 \\\\\n",
      "    Captain L. & C & 0.72 & 5 & 0.78 & \\textbf{0.75} & \\textbf{+0.03} & 4 & {\\tiny$\\uparrow$}1 & 0.74 & +0.02 & 4 & {\\tiny$\\uparrow$}1 & 0.74 & +0.01 & 4 & {\\tiny$\\uparrow$}1 & 0.72 & +0.00 & 5 & {\\tiny$\\phantom{\\uparrow}$}0 & 0.73 & +0.00 & 5 & {\\tiny$\\phantom{\\uparrow}$}0 & 0.72 & +0.00 & 5 & {\\tiny$\\phantom{\\uparrow}$}0 \\\\\n",
      "    Aldo Nadi & E & 0.71 & 6 & 0.77 & \\textbf{0.74} & \\textbf{+0.03} & 4 & {\\tiny$\\uparrow$}2 & 0.73 & +0.02 & 4 & {\\tiny$\\uparrow$}2 & 0.72 & +0.01 & 6 & {\\tiny$\\phantom{\\uparrow}$}0 & 0.71 & +0.00 & 6 & {\\tiny$\\phantom{\\uparrow}$}0 & 0.71 & +0.00 & 6 & {\\tiny$\\phantom{\\uparrow}$}0 & 0.71 & +0.00 & 6 & {\\tiny$\\phantom{\\uparrow}$}0 \\\\\n",
      "    Aldo Nadi & A & 0.70 & 7 & 0.75 & \\textbf{0.73} & \\textbf{+0.03} & 4 & {\\tiny$\\uparrow$}3 & \\textbf{0.72} & \\textbf{+0.02} & 6 & {\\tiny$\\uparrow$}1 & 0.70 & +0.01 & 7 & {\\tiny$\\phantom{\\uparrow}$}0 & 0.71 & +0.02 & 6 & {\\tiny$\\uparrow$}1 & 0.70 & +0.01 & 7 & {\\tiny$\\phantom{\\uparrow}$}0 & 0.70 & +0.00 & 7 & {\\tiny$\\phantom{\\uparrow}$}0 \\\\\n",
      "    Aldo Nadi & D & 0.67 & 8 & 0.73 & \\textbf{0.70} & \\textbf{+0.03} & 7 & {\\tiny$\\uparrow$}1 & 0.68 & +0.01 & 8 & {\\tiny$\\phantom{\\uparrow}$}0 & 0.68 & +0.01 & 8 & {\\tiny$\\phantom{\\uparrow}$}0 & 0.68 & +0.01 & 8 & {\\tiny$\\phantom{\\uparrow}$}0 & 0.68 & +0.01 & 8 & {\\tiny$\\phantom{\\uparrow}$}0 & 0.67 & +0.00 & 8 & {\\tiny$\\phantom{\\uparrow}$}0 \\\\\n",
      "    Aldo Nadi & C & 0.64 & 9 & 0.70 & \\textbf{0.67} & \\textbf{+0.04} & 8 & {\\tiny$\\uparrow$}1 & 0.66 & +0.02 & 9 & {\\tiny$\\phantom{\\uparrow}$}0 & 0.65 & +0.01 & 9 & {\\tiny$\\phantom{\\uparrow}$}0 & 0.64 & +0.00 & 9 & {\\tiny$\\phantom{\\uparrow}$}0 & 0.63 & +0.00 & 9 & {\\tiny$\\phantom{\\uparrow}$}0 & 0.64 & +0.00 & 9 & {\\tiny$\\phantom{\\uparrow}$}0 \\\\\n",
      "    Katana & A & 0.62 & 10 & 0.69 & \\textbf{0.65} & \\textbf{+0.04} & 9 & {\\tiny$\\uparrow$}1 & 0.64 & +0.02 & 9 & {\\tiny$\\uparrow$}1 & \\textbf{0.65} & \\textbf{+0.03} & 9 & {\\tiny$\\uparrow$}1 & 0.63 & +0.01 & 10 & {\\tiny$\\phantom{\\uparrow}$}0 & 0.62 & +0.01 & 10 & {\\tiny$\\phantom{\\uparrow}$}0 & 0.62 & +0.00 & 10 & {\\tiny$\\phantom{\\uparrow}$}0 \\\\\n",
      "    Katana & C & 0.60 & 11 & 0.67 & \\textbf{0.64} & \\textbf{+0.04} & 9 & {\\tiny$\\uparrow$}2 & \\textbf{0.63} & \\textbf{+0.03} & 10 & {\\tiny$\\uparrow$}1 & \\textbf{0.62} & \\textbf{+0.02} & 10 & {\\tiny$\\uparrow$}1 & 0.61 & +0.01 & 11 & {\\tiny$\\phantom{\\uparrow}$}0 & 0.60 & +0.00 & 11 & {\\tiny$\\phantom{\\uparrow}$}0 & 0.60 & +0.00 & 11 & {\\tiny$\\phantom{\\uparrow}$}0 \\\\\n",
      "    Captain T. & A & 0.57 & 12 & 0.64 & \\textbf{0.61} & \\textbf{+0.04} & 11 & {\\tiny$\\uparrow$}1 & \\textbf{0.60} & \\textbf{+0.03} & 12 & {\\tiny$\\phantom{\\uparrow}$}0 & 0.59 & +0.01 & 12 & {\\tiny$\\phantom{\\uparrow}$}0 & 0.58 & +0.00 & 12 & {\\tiny$\\phantom{\\uparrow}$}0 & 0.58 & +0.00 & 12 & {\\tiny$\\phantom{\\uparrow}$}0 & 0.57 & +0.00 & 12 & {\\tiny$\\phantom{\\uparrow}$}0 \\\\\n",
      "    Captain T. & B & 0.57 & 13 & 0.64 & \\textbf{0.61} & \\textbf{+0.04} & 11 & {\\tiny$\\uparrow$}2 & 0.59 & +0.02 & 12 & {\\tiny$\\uparrow$}1 & 0.58 & +0.01 & 12 & {\\tiny$\\uparrow$}1 & 0.57 & +0.00 & 13 & {\\tiny$\\phantom{\\uparrow}$}0 & 0.57 & +0.00 & 13 & {\\tiny$\\phantom{\\uparrow}$}0 & 0.57 & +0.00 & 13 & {\\tiny$\\phantom{\\uparrow}$}0 \\\\\n",
      "    Captain T. & C & 0.56 & 14 & 0.62 & \\textbf{0.59} & \\textbf{+0.03} & 12 & {\\tiny$\\uparrow$}2 & 0.58 & +0.02 & 12 & {\\tiny$\\uparrow$}2 & 0.57 & +0.01 & 13 & {\\tiny$\\uparrow$}1 & 0.57 & +0.00 & 14 & {\\tiny$\\phantom{\\uparrow}$}0 & 0.56 & +0.00 & 15 & {\\tiny$\\downarrow$}1 & 0.56 & +0.00 & 14 & {\\tiny$\\phantom{\\uparrow}$}0 \\\\\n",
      "    Katana & B & 0.56 & 15 & 0.63 & \\textbf{0.60} & \\textbf{+0.04} & 11 & {\\tiny$\\uparrow$}4 & \\textbf{0.59} & \\textbf{+0.02} & 12 & {\\tiny$\\uparrow$}3 & 0.58 & +0.02 & 12 & {\\tiny$\\uparrow$}3 & 0.56 & -0.01 & 16 & {\\tiny$\\downarrow$}1 & 0.56 & +0.00 & 15 & {\\tiny$\\phantom{\\uparrow}$}0 & 0.56 & +0.00 & 15 & {\\tiny$\\phantom{\\uparrow}$}0 \\\\\n",
      "    Captain T. & E & 0.56 & 16 & 0.64 & \\textbf{0.60} & \\textbf{+0.04} & 12 & {\\tiny$\\uparrow$}4 & \\textbf{0.59} & \\textbf{+0.04} & 12 & {\\tiny$\\uparrow$}4 & 0.58 & +0.02 & 12 & {\\tiny$\\uparrow$}4 & 0.57 & +0.01 & 14 & {\\tiny$\\uparrow$}2 & 0.56 & +0.00 & 16 & {\\tiny$\\phantom{\\uparrow}$}0 & 0.56 & +0.00 & 16 & {\\tiny$\\phantom{\\uparrow}$}0 \\\\\n",
      "    Aldo Nadi & B & 0.55 & 17 & 0.61 & \\textbf{0.58} & \\textbf{+0.03} & 12 & {\\tiny$\\uparrow$}5 & 0.56 & +0.01 & 16 & {\\tiny$\\uparrow$}1 & 0.56 & +0.01 & 16 & {\\tiny$\\uparrow$}1 & 0.55 & +0.00 & 17 & {\\tiny$\\phantom{\\uparrow}$}0 & 0.55 & +0.00 & 17 & {\\tiny$\\phantom{\\uparrow}$}0 & 0.55 & +0.00 & 17 & {\\tiny$\\phantom{\\uparrow}$}0 \\\\\n",
      "    Captain T. & D & 0.54 & 18 & 0.61 & \\textbf{0.58} & \\textbf{+0.04} & 12 & {\\tiny$\\uparrow$}6 & 0.57 & +0.03 & 14 & {\\tiny$\\uparrow$}4 & 0.56 & +0.02 & 16 & {\\tiny$\\uparrow$}2 & 0.54 & +0.01 & 18 & {\\tiny$\\phantom{\\uparrow}$}0 & 0.54 & +0.00 & 18 & {\\tiny$\\phantom{\\uparrow}$}0 & 0.54 & +0.00 & 18 & {\\tiny$\\phantom{\\uparrow}$}0 \\\\\n",
      "    Olivier A. & A & 0.48 & 19 & 0.57 & \\textbf{0.55} & \\textbf{+0.07} & 17 & {\\tiny$\\uparrow$}2 & \\textbf{0.53} & \\textbf{+0.05} & 19 & {\\tiny$\\phantom{\\uparrow}$}0 & \\textbf{0.52} & \\textbf{+0.04} & 19 & {\\tiny$\\phantom{\\uparrow}$}0 & 0.50 & +0.02 & 19 & {\\tiny$\\phantom{\\uparrow}$}0 & \\textbf{0.51} & \\textbf{+0.03} & 19 & {\\tiny$\\phantom{\\uparrow}$}0 & 0.49 & +0.01 & 19 & {\\tiny$\\phantom{\\uparrow}$}0 \\\\\n",
      "    Puss in B. & A & 0.47 & 20 & 0.55 & \\textbf{0.52} & \\textbf{+0.05} & 19 & {\\tiny$\\uparrow$}1 & \\textbf{0.50} & \\textbf{+0.03} & 19 & {\\tiny$\\uparrow$}1 & 0.49 & +0.02 & 19 & {\\tiny$\\uparrow$}1 & 0.47 & +0.00 & 20 & {\\tiny$\\phantom{\\uparrow}$}0 & 0.47 & +0.00 & 20 & {\\tiny$\\phantom{\\uparrow}$}0 & 0.47 & +0.00 & 20 & {\\tiny$\\phantom{\\uparrow}$}0 \\\\\n",
      "    Grimjack & E & 0.42 & 21 & 0.48 & \\textbf{0.46} & \\textbf{+0.04} & 21 & {\\tiny$\\phantom{\\uparrow}$}0 & 0.45 & +0.02 & 21 & {\\tiny$\\phantom{\\uparrow}$}0 & 0.44 & +0.01 & 21 & {\\tiny$\\phantom{\\uparrow}$}0 & 0.42 & +0.00 & 21 & {\\tiny$\\phantom{\\uparrow}$}0 & 0.43 & +0.01 & 21 & {\\tiny$\\phantom{\\uparrow}$}0 & 0.42 & +0.00 & 21 & {\\tiny$\\phantom{\\uparrow}$}0 \\\\\n",
      "    Grimjack & C & 0.38 & 22 & 0.46 & \\textbf{0.44} & \\textbf{+0.06} & 21 & {\\tiny$\\uparrow$}1 & \\textbf{0.42} & \\textbf{+0.04} & 22 & {\\tiny$\\phantom{\\uparrow}$}0 & \\textbf{0.41} & \\textbf{+0.03} & 22 & {\\tiny$\\phantom{\\uparrow}$}0 & 0.39 & +0.01 & 22 & {\\tiny$\\phantom{\\uparrow}$}0 & 0.40 & +0.02 & 22 & {\\tiny$\\phantom{\\uparrow}$}0 & 0.38 & +0.00 & 22 & {\\tiny$\\phantom{\\uparrow}$}0 \\\\\n",
      "    Grimjack & B & 0.38 & 23 & 0.46 & \\textbf{0.44} & \\textbf{+0.06} & 21 & {\\tiny$\\uparrow$}2 & \\textbf{0.42} & \\textbf{+0.04} & 22 & {\\tiny$\\uparrow$}1 & \\textbf{0.41} & \\textbf{+0.03} & 22 & {\\tiny$\\uparrow$}1 & 0.39 & +0.01 & 22 & {\\tiny$\\uparrow$}1 & 0.40 & +0.02 & 22 & {\\tiny$\\uparrow$}1 & 0.38 & +0.00 & 23 & {\\tiny$\\phantom{\\uparrow}$}0 \\\\\n",
      "    Grimjack & D & 0.35 & 24 & 0.41 & \\textbf{0.38} & \\textbf{+0.03} & 22 & {\\tiny$\\uparrow$}2 & \\textbf{0.37} & \\textbf{+0.02} & 24 & {\\tiny$\\phantom{\\uparrow}$}0 & 0.36 & +0.01 & 24 & {\\tiny$\\phantom{\\uparrow}$}0 & 0.35 & +0.00 & 24 & {\\tiny$\\phantom{\\uparrow}$}0 & 0.35 & +0.00 & 24 & {\\tiny$\\phantom{\\uparrow}$}0 & 0.35 & +0.00 & 24 & {\\tiny$\\phantom{\\uparrow}$}0 \\\\\n",
      "    Grimjack & A & 0.34 & 25 & 0.43 & \\textbf{0.40} & \\textbf{+0.06} & 22 & {\\tiny$\\uparrow$}3 & \\textbf{0.40} & \\textbf{+0.05} & 22 & {\\tiny$\\uparrow$}3 & \\textbf{0.38} & \\textbf{+0.03} & 22 & {\\tiny$\\uparrow$}3 & 0.37 & +0.02 & 24 & {\\tiny$\\uparrow$}1 & 0.37 & +0.02 & 24 & {\\tiny$\\uparrow$}1 & 0.34 & +0.00 & 25 & {\\tiny$\\phantom{\\uparrow}$}0 \\\\\n",
      "    Asuna & A & 0.26 & 26 & 0.34 & \\textbf{0.32} & \\textbf{+0.05} & 26 & {\\tiny$\\phantom{\\uparrow}$}0 & \\textbf{0.29} & \\textbf{+0.03} & 26 & {\\tiny$\\phantom{\\uparrow}$}0 & 0.28 & +0.02 & 26 & {\\tiny$\\phantom{\\uparrow}$}0 & 0.27 & +0.01 & 26 & {\\tiny$\\phantom{\\uparrow}$}0 & 0.27 & +0.01 & 26 & {\\tiny$\\phantom{\\uparrow}$}0 & 0.26 & +0.00 & 26 & {\\tiny$\\phantom{\\uparrow}$}0 \\\\\n",
      "    \\midrule\n",
      "    \\multicolumn{29}{@{}l@{}}{\\textit{nDCG@5 evaluated using argument quality labels}} \\\\\n",
      "    \\midrule\n",
      "    Aldo Nadi & A & 0.77 & 1 & 0.83 & 0.80 & +0.02 & 1 & {\\tiny$\\phantom{\\uparrow}$}0 & 0.79 & +0.02 & 1 & {\\tiny$\\phantom{\\uparrow}$}0 & 0.78 & +0.01 & 1 & {\\tiny$\\phantom{\\uparrow}$}0 & 0.78 & +0.01 & 1 & {\\tiny$\\phantom{\\uparrow}$}0 & 0.78 & +0.01 & 1 & {\\tiny$\\phantom{\\uparrow}$}0 & 0.77 & +0.00 & 1 & {\\tiny$\\phantom{\\uparrow}$}0 \\\\\n",
      "    Aldo Nadi & C & 0.76 & 2 & 0.81 & \\textbf{0.79} & \\textbf{+0.03} & 1 & {\\tiny$\\uparrow$}1 & 0.78 & +0.02 & 1 & {\\tiny$\\uparrow$}1 & 0.77 & +0.01 & 2 & {\\tiny$\\phantom{\\uparrow}$}0 & 0.76 & -0.01 & 2 & {\\tiny$\\phantom{\\uparrow}$}0 & 0.76 & +0.00 & 2 & {\\tiny$\\phantom{\\uparrow}$}0 & 0.76 & +0.00 & 2 & {\\tiny$\\phantom{\\uparrow}$}0 \\\\\n",
      "    Aldo Nadi & E & 0.75 & 3 & 0.80 & \\textbf{0.77} & \\textbf{+0.03} & 2 & {\\tiny$\\uparrow$}1 & 0.77 & +0.02 & 2 & {\\tiny$\\uparrow$}1 & 0.75 & +0.01 & 3 & {\\tiny$\\phantom{\\uparrow}$}0 & 0.74 & +0.00 & 3 & {\\tiny$\\phantom{\\uparrow}$}0 & 0.75 & +0.00 & 3 & {\\tiny$\\phantom{\\uparrow}$}0 & 0.75 & +0.00 & 3 & {\\tiny$\\phantom{\\uparrow}$}0 \\\\\n",
      "    Captain L. & B & 0.74 & 4 & 0.82 & \\textbf{0.77} & \\textbf{+0.03} & 2 & {\\tiny$\\uparrow$}2 & \\textbf{0.77} & \\textbf{+0.02} & 2 & {\\tiny$\\uparrow$}2 & \\textbf{0.77} & \\textbf{+0.03} & 2 & {\\tiny$\\uparrow$}2 & 0.76 & +0.02 & 3 & {\\tiny$\\uparrow$}1 & 0.75 & +0.01 & 3 & {\\tiny$\\uparrow$}1 & 0.74 & +0.00 & 5 & {\\tiny$\\downarrow$}1 \\\\\n",
      "    Captain L. & A & 0.74 & 5 & 0.82 & \\textbf{0.77} & \\textbf{+0.03} & 2 & {\\tiny$\\uparrow$}3 & \\textbf{0.76} & \\textbf{+0.02} & 3 & {\\tiny$\\uparrow$}2 & \\textbf{0.77} & \\textbf{+0.03} & 2 & {\\tiny$\\uparrow$}3 & \\textbf{0.76} & \\textbf{+0.02} & 3 & {\\tiny$\\uparrow$}2 & 0.75 & +0.01 & 3 & {\\tiny$\\uparrow$}2 & 0.74 & +0.00 & 5 & {\\tiny$\\phantom{\\uparrow}$}0 \\\\\n",
      "    Captain L. & D & 0.73 & 6 & 0.79 & \\textbf{0.75} & \\textbf{+0.02} & 4 & {\\tiny$\\uparrow$}2 & 0.74 & +0.01 & 5 & {\\tiny$\\uparrow$}1 & \\textbf{0.75} & \\textbf{+0.02} & 3 & {\\tiny$\\uparrow$}3 & \\textbf{0.75} & \\textbf{+0.02} & 4 & {\\tiny$\\uparrow$}2 & 0.73 & +0.00 & 6 & {\\tiny$\\phantom{\\uparrow}$}0 & 0.73 & +0.00 & 6 & {\\tiny$\\phantom{\\uparrow}$}0 \\\\\n",
      "    Captain L. & E & 0.71 & 7 & 0.76 & \\textbf{0.73} & \\textbf{+0.02} & 7 & {\\tiny$\\phantom{\\uparrow}$}0 & 0.71 & +0.01 & 7 & {\\tiny$\\phantom{\\uparrow}$}0 & 0.72 & +0.01 & 7 & {\\tiny$\\phantom{\\uparrow}$}0 & 0.72 & +0.01 & 7 & {\\tiny$\\phantom{\\uparrow}$}0 & 0.71 & +0.00 & 7 & {\\tiny$\\phantom{\\uparrow}$}0 & 0.71 & +0.00 & 7 & {\\tiny$\\phantom{\\uparrow}$}0 \\\\\n",
      "    Captain L. & C & 0.70 & 8 & 0.77 & \\textbf{0.72} & \\textbf{+0.03} & 7 & {\\tiny$\\uparrow$}1 & \\textbf{0.71} & \\textbf{+0.02} & 7 & {\\tiny$\\uparrow$}1 & \\textbf{0.72} & \\textbf{+0.02} & 7 & {\\tiny$\\uparrow$}1 & 0.70 & +0.01 & 8 & {\\tiny$\\phantom{\\uparrow}$}0 & 0.70 & +0.00 & 8 & {\\tiny$\\phantom{\\uparrow}$}0 & 0.70 & +0.00 & 8 & {\\tiny$\\phantom{\\uparrow}$}0 \\\\\n",
      "    Aldo Nadi & D & 0.66 & 9 & 0.73 & \\textbf{0.69} & \\textbf{+0.03} & 9 & {\\tiny$\\phantom{\\uparrow}$}0 & 0.68 & +0.02 & 9 & {\\tiny$\\phantom{\\uparrow}$}0 & 0.68 & +0.01 & 9 & {\\tiny$\\phantom{\\uparrow}$}0 & 0.67 & +0.01 & 9 & {\\tiny$\\phantom{\\uparrow}$}0 & 0.68 & +0.01 & 9 & {\\tiny$\\phantom{\\uparrow}$}0 & 0.66 & +0.00 & 9 & {\\tiny$\\phantom{\\uparrow}$}0 \\\\\n",
      "    Katana & C & 0.64 & 10 & 0.71 & \\textbf{0.67} & \\textbf{+0.03} & 9 & {\\tiny$\\uparrow$}1 & 0.66 & +0.02 & 10 & {\\tiny$\\phantom{\\uparrow}$}0 & 0.66 & +0.02 & 9 & {\\tiny$\\uparrow$}1 & 0.66 & +0.01 & 10 & {\\tiny$\\phantom{\\uparrow}$}0 & 0.65 & +0.01 & 10 & {\\tiny$\\phantom{\\uparrow}$}0 & 0.64 & +0.00 & 10 & {\\tiny$\\phantom{\\uparrow}$}0 \\\\\n",
      "    Katana & A & 0.64 & 11 & 0.72 & \\textbf{0.68} & \\textbf{+0.03} & 9 & {\\tiny$\\uparrow$}2 & 0.67 & +0.02 & 9 & {\\tiny$\\uparrow$}2 & \\textbf{0.67} & \\textbf{+0.03} & 9 & {\\tiny$\\uparrow$}2 & 0.66 & +0.01 & 10 & {\\tiny$\\uparrow$}1 & 0.65 & +0.01 & 10 & {\\tiny$\\uparrow$}1 & 0.64 & +0.00 & 11 & {\\tiny$\\phantom{\\uparrow}$}0 \\\\\n",
      "    Katana & B & 0.64 & 12 & 0.70 & \\textbf{0.67} & \\textbf{+0.04} & 9 & {\\tiny$\\uparrow$}3 & \\textbf{0.66} & \\textbf{+0.03} & 9 & {\\tiny$\\uparrow$}3 & 0.66 & +0.02 & 10 & {\\tiny$\\uparrow$}2 & 0.64 & +0.00 & 12 & {\\tiny$\\phantom{\\uparrow}$}0 & 0.64 & +0.01 & 11 & {\\tiny$\\uparrow$}1 & 0.64 & +0.00 & 12 & {\\tiny$\\phantom{\\uparrow}$}0 \\\\\n",
      "    Captain T. & E & 0.60 & 13 & 0.67 & \\textbf{0.63} & \\textbf{+0.03} & 13 & {\\tiny$\\phantom{\\uparrow}$}0 & \\textbf{0.63} & \\textbf{+0.03} & 13 & {\\tiny$\\phantom{\\uparrow}$}0 & \\textbf{0.62} & \\textbf{+0.03} & 13 & {\\tiny$\\phantom{\\uparrow}$}0 & 0.61 & +0.01 & 13 & {\\tiny$\\phantom{\\uparrow}$}0 & 0.60 & +0.00 & 13 & {\\tiny$\\phantom{\\uparrow}$}0 & 0.60 & +0.00 & 13 & {\\tiny$\\phantom{\\uparrow}$}0 \\\\\n",
      "    Captain T. & B & 0.59 & 14 & 0.65 & \\textbf{0.62} & \\textbf{+0.03} & 13 & {\\tiny$\\uparrow$}1 & 0.61 & +0.02 & 13 & {\\tiny$\\uparrow$}1 & 0.61 & +0.02 & 13 & {\\tiny$\\uparrow$}1 & 0.60 & +0.01 & 13 & {\\tiny$\\uparrow$}1 & 0.59 & +0.00 & 14 & {\\tiny$\\phantom{\\uparrow}$}0 & 0.59 & +0.00 & 14 & {\\tiny$\\phantom{\\uparrow}$}0 \\\\\n",
      "    Captain T. & A & 0.59 & 15 & 0.65 & \\textbf{0.62} & \\textbf{+0.03} & 13 & {\\tiny$\\uparrow$}2 & 0.60 & +0.01 & 13 & {\\tiny$\\uparrow$}2 & 0.61 & +0.02 & 13 & {\\tiny$\\uparrow$}2 & 0.60 & +0.01 & 14 & {\\tiny$\\uparrow$}1 & 0.59 & +0.00 & 15 & {\\tiny$\\phantom{\\uparrow}$}0 & 0.59 & +0.00 & 15 & {\\tiny$\\phantom{\\uparrow}$}0 \\\\\n",
      "    Captain T. & C & 0.58 & 16 & 0.64 & \\textbf{0.61} & \\textbf{+0.02} & 13 & {\\tiny$\\uparrow$}3 & 0.59 & +0.01 & 14 & {\\tiny$\\uparrow$}2 & 0.60 & +0.01 & 13 & {\\tiny$\\uparrow$}3 & 0.59 & +0.01 & 15 & {\\tiny$\\uparrow$}1 & 0.58 & +0.00 & 16 & {\\tiny$\\phantom{\\uparrow}$}0 & 0.58 & +0.00 & 16 & {\\tiny$\\phantom{\\uparrow}$}0 \\\\\n",
      "    Olivier A. & A & 0.57 & 17 & 0.65 & \\textbf{0.62} & \\textbf{+0.05} & 13 & {\\tiny$\\uparrow$}4 & \\textbf{0.60} & \\textbf{+0.03} & 13 & {\\tiny$\\uparrow$}4 & \\textbf{0.61} & \\textbf{+0.04} & 13 & {\\tiny$\\uparrow$}4 & 0.59 & +0.02 & 16 & {\\tiny$\\uparrow$}1 & 0.59 & +0.02 & 15 & {\\tiny$\\uparrow$}2 & 0.58 & +0.01 & 17 & {\\tiny$\\phantom{\\uparrow}$}0 \\\\\n",
      "    Aldo Nadi & B & 0.57 & 18 & 0.63 & \\textbf{0.60} & \\textbf{+0.03} & 13 & {\\tiny$\\uparrow$}5 & 0.59 & +0.02 & 15 & {\\tiny$\\uparrow$}3 & 0.58 & +0.01 & 17 & {\\tiny$\\uparrow$}1 & 0.58 & +0.01 & 17 & {\\tiny$\\uparrow$}1 & 0.58 & +0.02 & 16 & {\\tiny$\\uparrow$}2 & 0.57 & +0.00 & 17 & {\\tiny$\\uparrow$}1 \\\\\n",
      "    Captain T. & D & 0.57 & 19 & 0.65 & \\textbf{0.61} & \\textbf{+0.04} & 13 & {\\tiny$\\uparrow$}6 & \\textbf{0.60} & \\textbf{+0.03} & 14 & {\\tiny$\\uparrow$}5 & \\textbf{0.59} & \\textbf{+0.02} & 15 & {\\tiny$\\uparrow$}4 & 0.58 & +0.01 & 17 & {\\tiny$\\uparrow$}2 & 0.57 & +0.01 & 17 & {\\tiny$\\uparrow$}2 & 0.57 & +0.00 & 19 & {\\tiny$\\phantom{\\uparrow}$}0 \\\\\n",
      "    Puss in B. & A & 0.48 & 20 & 0.54 & \\textbf{0.51} & \\textbf{+0.03} & 20 & {\\tiny$\\phantom{\\uparrow}$}0 & 0.49 & +0.02 & 20 & {\\tiny$\\phantom{\\uparrow}$}0 & 0.49 & +0.01 & 20 & {\\tiny$\\phantom{\\uparrow}$}0 & 0.49 & +0.01 & 20 & {\\tiny$\\phantom{\\uparrow}$}0 & 0.50 & +0.02 & 20 & {\\tiny$\\phantom{\\uparrow}$}0 & 0.48 & +0.00 & 20 & {\\tiny$\\phantom{\\uparrow}$}0 \\\\\n",
      "    Grimjack & E & 0.40 & 21 & 0.47 & \\textbf{0.44} & \\textbf{+0.04} & 21 & {\\tiny$\\phantom{\\uparrow}$}0 & 0.42 & +0.02 & 21 & {\\tiny$\\phantom{\\uparrow}$}0 & \\textbf{0.42} & \\textbf{+0.02} & 21 & {\\tiny$\\phantom{\\uparrow}$}0 & 0.41 & +0.01 & 21 & {\\tiny$\\phantom{\\uparrow}$}0 & \\textbf{0.43} & \\textbf{+0.02} & 21 & {\\tiny$\\phantom{\\uparrow}$}0 & 0.40 & +0.00 & 21 & {\\tiny$\\phantom{\\uparrow}$}0 \\\\\n",
      "    Grimjack & D & 0.37 & 22 & 0.42 & \\textbf{0.39} & \\textbf{+0.03} & 22 & {\\tiny$\\phantom{\\uparrow}$}0 & 0.38 & +0.01 & 22 & {\\tiny$\\phantom{\\uparrow}$}0 & 0.38 & +0.01 & 22 & {\\tiny$\\phantom{\\uparrow}$}0 & 0.38 & +0.01 & 22 & {\\tiny$\\phantom{\\uparrow}$}0 & 0.37 & +0.00 & 22 & {\\tiny$\\phantom{\\uparrow}$}0 & 0.37 & +0.00 & 22 & {\\tiny$\\phantom{\\uparrow}$}0 \\\\\n",
      "    Grimjack & C & 0.36 & 23 & 0.44 & \\textbf{0.41} & \\textbf{+0.05} & 21 & {\\tiny$\\uparrow$}2 & \\textbf{0.39} & \\textbf{+0.03} & 22 & {\\tiny$\\uparrow$}1 & \\textbf{0.39} & \\textbf{+0.03} & 22 & {\\tiny$\\uparrow$}1 & \\textbf{0.39} & \\textbf{+0.03} & 22 & {\\tiny$\\uparrow$}1 & \\textbf{0.40} & \\textbf{+0.04} & 22 & {\\tiny$\\uparrow$}1 & 0.36 & +0.00 & 23 & {\\tiny$\\phantom{\\uparrow}$}0 \\\\\n",
      "    Grimjack & B & 0.36 & 24 & 0.44 & \\textbf{0.41} & \\textbf{+0.05} & 21 & {\\tiny$\\uparrow$}3 & \\textbf{0.40} & \\textbf{+0.04} & 22 & {\\tiny$\\uparrow$}2 & \\textbf{0.39} & \\textbf{+0.03} & 22 & {\\tiny$\\uparrow$}2 & \\textbf{0.39} & \\textbf{+0.03} & 22 & {\\tiny$\\uparrow$}2 & \\textbf{0.40} & \\textbf{+0.04} & 22 & {\\tiny$\\uparrow$}2 & 0.36 & +0.00 & 24 & {\\tiny$\\phantom{\\uparrow}$}0 \\\\\n",
      "    Grimjack & A & 0.34 & 25 & 0.42 & \\textbf{0.39} & \\textbf{+0.05} & 22 & {\\tiny$\\uparrow$}3 & \\textbf{0.39} & \\textbf{+0.04} & 22 & {\\tiny$\\uparrow$}3 & \\textbf{0.38} & \\textbf{+0.03} & 22 & {\\tiny$\\uparrow$}3 & \\textbf{0.38} & \\textbf{+0.03} & 22 & {\\tiny$\\uparrow$}3 & 0.36 & +0.02 & 25 & {\\tiny$\\phantom{\\uparrow}$}0 & 0.34 & +0.00 & 25 & {\\tiny$\\phantom{\\uparrow}$}0 \\\\\n",
      "    Asuna & A & 0.33 & 26 & 0.42 & \\textbf{0.38} & \\textbf{+0.05} & 22 & {\\tiny$\\uparrow$}4 & 0.36 & +0.03 & 25 & {\\tiny$\\uparrow$}1 & 0.35 & +0.02 & 25 & {\\tiny$\\uparrow$}1 & 0.35 & +0.02 & 25 & {\\tiny$\\uparrow$}1 & 0.35 & +0.01 & 25 & {\\tiny$\\uparrow$}1 & 0.33 & +0.00 & 26 & {\\tiny$\\phantom{\\uparrow}$}0 \\\\\n",
      "    \\bottomrule\n",
      "\\end{tabular}\n"
     ]
    }
   ],
   "source": [
    "extra_space_em = 1.3\n",
    "col_sep_em = 0.3\n",
    "parts = [\"l\", r\"@{\\hspace{\" + f\"{col_sep_em * 0.9}\" + r\"em}}\", \"l\"]\n",
    "for i, (reranker, df_reranker) in enumerate(df_table.groupby(\"reranker\", dropna=False, sort=False)):\n",
    "    parts.append(r\"@{\\hspace{\" + f\"{extra_space_em}\" + r\"em}}\")\n",
    "    if isna(reranker):\n",
    "        parts.append(\"r\")\n",
    "        parts.append(r\"@{\\hspace{\" + f\"{col_sep_em * 0.9}\" + r\"em}}\")\n",
    "        parts.append(\"r\")\n",
    "        parts.append(r\"@{\\hspace{\" + f\"{extra_space_em}\" + r\"em}}\")\n",
    "        parts.append(\"r\")\n",
    "    else:\n",
    "        parts.append(\"r\")\n",
    "        parts.append(r\"@{\\hspace{\" + f\"{col_sep_em * 0.9}\" + r\"em}}\")\n",
    "        parts.append(\"r\")\n",
    "        parts.append(\"r\")\n",
    "        parts.append(r\"@{\\hspace{\" + f\"{col_sep_em * 0.9}\" + r\"em}}\")\n",
    "        parts.append(\"r\")\n",
    "print(r\"\\renewcommand{\\tabcolsep}{\" + f\"{col_sep_em}\" + r\"em}\")\n",
    "print(r\"\\begin{tabular}{@{}\" + \"\".join(parts) + r\"@{}}\")\n",
    "print(r\"    \\toprule\")\n",
    "\n",
    "parts = [r\"\\multicolumn{2}{@{}l}{\\textbf{Run}}\"]\n",
    "for i, (reranker, df_reranker) in enumerate(df_table.groupby(\"reranker\", dropna=False, sort=False)):\n",
    "    space = \"\\hspace{\" + f\"{extra_space_em}\" + \"em}\" if i < len(rerankers_table) - 1 else \"\"\n",
    "    if isna(reranker):\n",
    "        reranker = rerankers_table[nan]\n",
    "        parts.append(\"\\multicolumn{2}{@{}c@{\" + space + r\"}}{\\textbf{\" + reranker + r\"}}\")\n",
    "        parts.append(\"\\multicolumn{1}{@{}c@{\" + space + r\"}}{\\textbf{Opt.}}\")\n",
    "    else:\n",
    "        reranker = rerankers_table[reranker]\n",
    "        parts.append(r\"\\multicolumn{4}{@{}c@{\" + space + r\"}}{\\textbf{\" + reranker + r\"}}\")\n",
    "print(\"    \" + \" & \".join(parts) + r\" \\\\\")\n",
    "\n",
    "parts = []\n",
    "col = 3\n",
    "for i, (reranker, df_reranker) in enumerate(df_table.groupby(\"reranker\", dropna=False, sort=False)):\n",
    "    space = \"r{\" + f\"{extra_space_em}\" + \"em}\" if i < len(rerankers_table) - 1 else \"\"\n",
    "    if isna(reranker):\n",
    "        parts.append(\"\\cmidrule(\" + space + \"){\" + str(col) + \"-\" + str(col + 1) + \"}\")\n",
    "        col += 2\n",
    "        parts.append(\"\\cmidrule(\" + space + \"){\" + str(col) + \"-\" + str(col) + \"}\")\n",
    "        col += 1\n",
    "    else:\n",
    "        parts.append(\"\\cmidrule(\" + space + \"){\" + str(col) + \"-\" + str(col + 3) + \"}\")\n",
    "        col += 4\n",
    "print(\"    \" + \"\".join(parts))\n",
    "\n",
    "parts = [\"\", \"\"]\n",
    "for i, (reranker, df_reranker) in enumerate(df_table.groupby(\"reranker\", dropna=False, sort=False)):\n",
    "    space = \"\\hspace{\" + f\"{extra_space_em}\" + \"em}\" if i < len(rerankers_table) - 1 else \"\"\n",
    "    if isna(reranker):\n",
    "        parts.append(r\"Val.\")\n",
    "        parts.append(r\"\\#\")\n",
    "        parts.append(r\"Val.\")\n",
    "    else:\n",
    "        parts.append(r\"Val.\")\n",
    "        parts.append(r\"{\\tiny$\\Delta$}\")\n",
    "        parts.append(r\"\\#\")\n",
    "        parts.append(r\"{\\tiny$\\Delta$}\")\n",
    "print(\"    \" + \" & \".join(parts) + r\" \\\\\")\n",
    "print(r\"    \\midrule\")\n",
    "\n",
    "rank_worse = r\"{\\tiny$\\downarrow$}\"\n",
    "rank_better = r\"{\\tiny$\\uparrow$}\"\n",
    "rank_equal = r\"{\\tiny$\\phantom{\\uparrow}$}\"\n",
    "for i, (measure_name, df_measure) in enumerate(df_table.groupby(\"measure\", dropna=False, sort=False)):\n",
    "    measure = measures[measures[\"name\"] == measure_name].iloc[0]\n",
    "    measure_display_name = measure[\"display_name\"]\n",
    "    if measure_display_name == \"nDCG@5 relevance\":\n",
    "        measure_display_name = r\"nDCG@5 evaluated using relevance labels\"\n",
    "        perfect_column = \"optimal_relevance\"\n",
    "    elif measure_display_name == \"nDCG@5 quality\":\n",
    "        measure_display_name = r\"nDCG@5 evaluated using argument quality labels\"\n",
    "        perfect_column = \"optimal_quality\"\n",
    "    df_measure = df_measure.sort_values(\"run_rank_original\")\n",
    "    if i > 0:\n",
    "        print(r\"    \\midrule\")\n",
    "    print(r\"    \\multicolumn{\" + str(len(parts)) + r\"}{@{}l@{}}{\\textit{\" + measure_display_name + r\"}} \\\\\")\n",
    "    print(r\"    \\midrule\")\n",
    "    for (team, run), df_run in df_measure.groupby([\"team\", \"run\"], dropna=False, sort=False):\n",
    "        df_run = df_run.sort_values(\"reranker_index\")\n",
    "        short_team = short_team_names[team]\n",
    "        short_run = short_run_names[(team, run)]\n",
    "        short_team = short_team.replace(\"_\", r\"\\_\")\n",
    "        short_run = short_run.replace(\"_\", r\"\\_\")\n",
    "        parts = [short_team, short_run]\n",
    "        for reranker, df_reranker in df_run.groupby(\"reranker\", dropna=False, sort=False):\n",
    "            value_aggregated = df_reranker[\"value_aggregated\"].iloc[0]\n",
    "            value_original_aggregated = df_reranker[\"value_original_aggregated\"].iloc[0]\n",
    "            value_optimal_aggregated = df_reranker[f\"value_optimal_aggregated\"].iloc[0]\n",
    "            difference_original_aggregated = value_aggregated - value_original_aggregated\n",
    "            run_rank = df_reranker[\"run_rank\"].iloc[0]\n",
    "            run_rank_original = df_reranker[\"run_rank_original\"].iloc[0]\n",
    "            run_rank_difference = run_rank - run_rank_original\n",
    "            if isna(reranker):\n",
    "                parts.append(f\"{value_aggregated:.2f}\")\n",
    "                parts.append(f\"{run_rank_original:.0f}\")\n",
    "                parts.append(f\"{value_optimal_aggregated:.2f}\")\n",
    "            else:\n",
    "                hidden = \"Original\" in rerankers_table[reranker] and df_reranker[\"team\"].iloc[0] in (\"Aldo-Nadi\", \"Captain-Tempesta\")\n",
    "                val_str = f\"{value_aggregated:.2f}\"\n",
    "                if df_reranker[\"p_value_corrected\"].iloc[0] < 0.05:\n",
    "                    val_str = r\"\\textbf{\" + val_str + r\"}\"\n",
    "                if hidden:\n",
    "                    val_str = r\"\\hidden{\" + val_str + r\"}\"\n",
    "                parts.append(val_str)\n",
    "                diff_str = f\"{'+' if difference_original_aggregated.round(2) >= 0 else '-'}{abs(difference_original_aggregated):.2f}\"\n",
    "                if df_reranker[\"p_value_corrected\"].iloc[0] < 0.05:\n",
    "                    diff_str = r\"\\textbf{\" + diff_str + r\"}\"\n",
    "                if hidden:\n",
    "                    diff_str = r\"\\hidden{\" + diff_str + r\"}\"\n",
    "                parts.append(diff_str)\n",
    "                rank_str = f\"{run_rank:.0f}\"\n",
    "                if hidden:\n",
    "                    rank_str = r\"\\hidden{\" + rank_str + r\"}\"\n",
    "                parts.append(rank_str)\n",
    "                rank_diff_str = f\"{rank_worse if run_rank_difference > 0 else rank_better if run_rank_difference < 0 else rank_equal}{abs(run_rank_difference):.0f}\"\n",
    "                if hidden:\n",
    "                    rank_diff_str = r\"\\hidden{\" + rank_diff_str + r\"}\"\n",
    "                parts.append(rank_diff_str                                 )\n",
    "        print(\"    \" + \" & \".join(parts) + r\" \\\\\")\n",
    "\n",
    "print(r\"    \\bottomrule\")\n",
    "print(r\"\\end{tabular}\")"
   ],
   "metadata": {
    "collapsed": false,
    "ExecuteTime": {
     "end_time": "2023-09-03T05:59:00.040812201Z",
     "start_time": "2023-09-03T05:58:59.952196394Z"
    }
   }
  },
  {
   "cell_type": "code",
   "execution_count": 126,
   "outputs": [
    {
     "data": {
      "text/plain": "                team                                     run  target_f1  \\\n0          Aldo-Nadi  Aldo-Nadi seupd2122-kueri_rrf_reranked        0.2   \n1          Aldo-Nadi  Aldo-Nadi seupd2122-kueri_rrf_reranked        0.2   \n2          Aldo-Nadi  Aldo-Nadi seupd2122-kueri_rrf_reranked        0.2   \n3          Aldo-Nadi  Aldo-Nadi seupd2122-kueri_rrf_reranked        0.2   \n4          Aldo-Nadi  Aldo-Nadi seupd2122-kueri_rrf_reranked        0.2   \n...              ...                                     ...        ...   \n13595  Puss-in-Boots             Puss-in-Boots BM25-Baseline        1.0   \n13596  Puss-in-Boots             Puss-in-Boots BM25-Baseline        1.0   \n13597  Puss-in-Boots             Puss-in-Boots BM25-Baseline        1.0   \n13598  Puss-in-Boots             Puss-in-Boots BM25-Baseline        1.0   \n13599  Puss-in-Boots             Puss-in-Boots BM25-Baseline        1.0   \n\n                measure  qid  difference  \n0      nDCG@5 relevance    2       0.053  \n1      nDCG@5 relevance    3       0.000  \n2      nDCG@5 relevance    8       0.000  \n3      nDCG@5 relevance    9       0.045  \n4      nDCG@5 relevance   12       0.041  \n...                 ...  ...         ...  \n13595    nDCG@5 quality   91       0.000  \n13596    nDCG@5 quality   92       0.089  \n13597    nDCG@5 quality   93       0.000  \n13598    nDCG@5 quality   95       0.000  \n13599    nDCG@5 quality  100      -0.015  \n\n[13600 rows x 6 columns]",
      "text/html": "<div>\n<style scoped>\n    .dataframe tbody tr th:only-of-type {\n        vertical-align: middle;\n    }\n\n    .dataframe tbody tr th {\n        vertical-align: top;\n    }\n\n    .dataframe thead th {\n        text-align: right;\n    }\n</style>\n<table border=\"1\" class=\"dataframe\">\n  <thead>\n    <tr style=\"text-align: right;\">\n      <th></th>\n      <th>team</th>\n      <th>run</th>\n      <th>target_f1</th>\n      <th>measure</th>\n      <th>qid</th>\n      <th>difference</th>\n    </tr>\n  </thead>\n  <tbody>\n    <tr>\n      <th>0</th>\n      <td>Aldo-Nadi</td>\n      <td>Aldo-Nadi seupd2122-kueri_rrf_reranked</td>\n      <td>0.2</td>\n      <td>nDCG@5 relevance</td>\n      <td>2</td>\n      <td>0.053</td>\n    </tr>\n    <tr>\n      <th>1</th>\n      <td>Aldo-Nadi</td>\n      <td>Aldo-Nadi seupd2122-kueri_rrf_reranked</td>\n      <td>0.2</td>\n      <td>nDCG@5 relevance</td>\n      <td>3</td>\n      <td>0.000</td>\n    </tr>\n    <tr>\n      <th>2</th>\n      <td>Aldo-Nadi</td>\n      <td>Aldo-Nadi seupd2122-kueri_rrf_reranked</td>\n      <td>0.2</td>\n      <td>nDCG@5 relevance</td>\n      <td>8</td>\n      <td>0.000</td>\n    </tr>\n    <tr>\n      <th>3</th>\n      <td>Aldo-Nadi</td>\n      <td>Aldo-Nadi seupd2122-kueri_rrf_reranked</td>\n      <td>0.2</td>\n      <td>nDCG@5 relevance</td>\n      <td>9</td>\n      <td>0.045</td>\n    </tr>\n    <tr>\n      <th>4</th>\n      <td>Aldo-Nadi</td>\n      <td>Aldo-Nadi seupd2122-kueri_rrf_reranked</td>\n      <td>0.2</td>\n      <td>nDCG@5 relevance</td>\n      <td>12</td>\n      <td>0.041</td>\n    </tr>\n    <tr>\n      <th>...</th>\n      <td>...</td>\n      <td>...</td>\n      <td>...</td>\n      <td>...</td>\n      <td>...</td>\n      <td>...</td>\n    </tr>\n    <tr>\n      <th>13595</th>\n      <td>Puss-in-Boots</td>\n      <td>Puss-in-Boots BM25-Baseline</td>\n      <td>1.0</td>\n      <td>nDCG@5 quality</td>\n      <td>91</td>\n      <td>0.000</td>\n    </tr>\n    <tr>\n      <th>13596</th>\n      <td>Puss-in-Boots</td>\n      <td>Puss-in-Boots BM25-Baseline</td>\n      <td>1.0</td>\n      <td>nDCG@5 quality</td>\n      <td>92</td>\n      <td>0.089</td>\n    </tr>\n    <tr>\n      <th>13597</th>\n      <td>Puss-in-Boots</td>\n      <td>Puss-in-Boots BM25-Baseline</td>\n      <td>1.0</td>\n      <td>nDCG@5 quality</td>\n      <td>93</td>\n      <td>0.000</td>\n    </tr>\n    <tr>\n      <th>13598</th>\n      <td>Puss-in-Boots</td>\n      <td>Puss-in-Boots BM25-Baseline</td>\n      <td>1.0</td>\n      <td>nDCG@5 quality</td>\n      <td>95</td>\n      <td>0.000</td>\n    </tr>\n    <tr>\n      <th>13599</th>\n      <td>Puss-in-Boots</td>\n      <td>Puss-in-Boots BM25-Baseline</td>\n      <td>1.0</td>\n      <td>nDCG@5 quality</td>\n      <td>100</td>\n      <td>-0.015</td>\n    </tr>\n  </tbody>\n</table>\n<p>13600 rows × 6 columns</p>\n</div>"
     },
     "execution_count": 126,
     "metadata": {},
     "output_type": "execute_result"
    }
   ],
   "source": [
    "difference_data = []\n",
    "df_tmp = df.copy()\n",
    "df_tmp = df_tmp[~df_tmp[\"target_f1\"].isna()]\n",
    "df_tmp[\"difference_original\"] = df_tmp[\"value\"] - df_tmp[\"value_original\"]\n",
    "for (measure_name, team), df_team in df_tmp.groupby([\"measure\", \"team\"], sort=False):\n",
    "    measure = measures[measures[\"name\"] == measure_name].iloc[0]\n",
    "    run = df_team.sort_values(\"value_original_aggregated\" , ascending=not measure[\"maximize\"])[\"run\"].iloc[0]\n",
    "    df_team = df_team[df_team[\"run\"] == run]\n",
    "    for (target_f1, qid, run), df_group in df_team.groupby([\"target_f1\", \"qid\", \"run\"]):\n",
    "        assert len(df_group) == 1\n",
    "        difference_data.append({\n",
    "            \"team\": team,\n",
    "            \"run\": run,\n",
    "            \"target_f1\": target_f1,\n",
    "            \"measure\": measure[\"display_name\"],\n",
    "            \"qid\": qid,\n",
    "            \"difference\": df_group[\"difference_original\"].iloc[0],\n",
    "        })\n",
    "differences = DataFrame(difference_data)\n",
    "differences"
   ],
   "metadata": {
    "collapsed": false,
    "ExecuteTime": {
     "end_time": "2023-09-03T06:25:08.958322130Z",
     "start_time": "2023-09-03T06:25:08.079315146Z"
    }
   }
  },
  {
   "cell_type": "code",
   "execution_count": 127,
   "outputs": [],
   "source": [
    "first_bin = 0.25\n",
    "last_bin = 1.00\n",
    "bin_step = 0.05\n",
    "bins = list(arange(\n",
    "    first_bin - (bin_step / 2),\n",
    "    last_bin + (bin_step / 2) + 0.0001,\n",
    "    bin_step,\n",
    "))\n",
    "# bins"
   ],
   "metadata": {
    "collapsed": false,
    "ExecuteTime": {
     "end_time": "2023-09-03T06:25:09.921258885Z",
     "start_time": "2023-09-03T06:25:09.915515670Z"
    }
   }
  },
  {
   "cell_type": "code",
   "execution_count": 128,
   "outputs": [],
   "source": [
    "width = 3.5"
   ],
   "metadata": {
    "collapsed": false,
    "ExecuteTime": {
     "end_time": "2023-09-03T06:25:11.176173728Z",
     "start_time": "2023-09-03T06:25:11.168041080Z"
    }
   }
  },
  {
   "cell_type": "code",
   "execution_count": 130,
   "outputs": [
    {
     "name": "stderr",
     "output_type": "stream",
     "text": [
      "/home/heinrich/Repositories/stare/venv/lib/python3.10/site-packages/seaborn/axisgrid.py:118: UserWarning: The figure layout has changed to tight\n",
      "  self._figure.tight_layout(*args, **kwargs)\n",
      "/home/heinrich/Repositories/stare/venv/lib/python3.10/site-packages/seaborn/axisgrid.py:118: UserWarning: The figure layout has changed to tight\n",
      "  self._figure.tight_layout(*args, **kwargs)\n"
     ]
    },
    {
     "data": {
      "text/plain": "<seaborn.axisgrid.FacetGrid at 0x7f58025c8070>"
     },
     "execution_count": 130,
     "metadata": {},
     "output_type": "execute_result"
    },
    {
     "data": {
      "text/plain": "<Figure size 1267.62x318.182 with 2 Axes>",
      "image/png": "[encoded data removed]"
     },
     "metadata": {},
     "output_type": "display_data"
    }
   ],
   "source": [
    "set_theme()\n",
    "set_style(\"ticks\")\n",
    "aspect = 1.1\n",
    "df_plot_differences = differences.copy()\n",
    "df_plot_differences[\"team\"] = df_plot_differences[\"team\"].map(short_team_names)\n",
    "df_plot_differences = df_plot_differences[df_plot_differences[\"target_f1\"] >= first_bin]\n",
    "plot_differences = FacetGrid(\n",
    "    data=df_plot_differences,\n",
    "    col=\"measure\",\n",
    "    sharex=True,\n",
    "    sharey=True,\n",
    "    height=width / aspect,\n",
    "    aspect=aspect,\n",
    ")\n",
    "plot_differences.map_dataframe(\n",
    "    lineplot,\n",
    "    x=\"target_f1\",\n",
    "    y=\"difference\",\n",
    "    hue=\"team\",\n",
    "    hue_order=df_plot_differences[\"team\"].sort_values().unique(),\n",
    "    palette=color_palette(\"colorblind\")[:len(df_plot_differences[\"team\"].unique())],\n",
    "    # markers=True,\n",
    "    # dashes=False,\n",
    "    style=\"team\",\n",
    "    err_style=None,\n",
    "    # err_style=\"band\",\n",
    "    # err_kws=dict(\n",
    "    #     alpha=0.05,\n",
    "    # ),\n",
    "    linewidth=0.8,\n",
    ")\n",
    "plot_differences.refline(y=0)\n",
    "plot_differences.set_xlabels(r\"F$_1$@5\")\n",
    "plot_differences.set_ylabels(r\"$\\Delta$ Improvement\")\n",
    "plot_differences.add_legend(\n",
    "    loc=\"upper left\",\n",
    "    ncols=4,\n",
    "    bbox_to_anchor=(0.095, 0.06),\n",
    ")\n",
    "plot_differences.set_titles(col_template=\"{col_name}\")\n",
    "plot_differences.savefig(\"../data/plot-reranking-f1-difference.pdf\", transparent=True)\n",
    "plot_differences.savefig(\"../data/plot-reranking-f1-difference.png\")\n",
    "plot_differences"
   ],
   "metadata": {
    "collapsed": false,
    "ExecuteTime": {
     "end_time": "2023-09-03T06:25:50.690648617Z",
     "start_time": "2023-09-03T06:25:46.910158328Z"
    }
   }
  },
  {
   "cell_type": "code",
   "execution_count": 158,
   "outputs": [
    {
     "name": "stdout",
     "output_type": "stream",
     "text": [
      "nDCG@5 rel. @ 0.90: True 0.03 0.1\n"
     ]
    }
   ],
   "source": [
    "for measure_name, df_measure in df_tmp.groupby(\"measure\", sort=False):\n",
    "    measure = measures[measures[\"name\"] == measure_name].iloc[0]\n",
    "    run = df_measure.sort_values(\"value_original_aggregated\" , ascending=not measure[\"maximize\"])[\"run\"].iloc[0]\n",
    "    df_measure = df_measure[df_measure[\"run\"] == run]\n",
    "    df_measure = df_measure[df_measure[\"target_f1\"].notna()]\n",
    "    for target_f1, df_target_f1 in df_measure.groupby(\"target_f1\", sort=True):\n",
    "        values = df_target_f1[\"value\"]\n",
    "        values_original = df_target_f1[\"value_original\"]\n",
    "\n",
    "        if not array_equal(values_original, values):\n",
    "            stats = ttest(values_original, values, paired=True)\n",
    "        else:\n",
    "            stats = DataFrame({\n",
    "                \"p-val\": [nan],\n",
    "                \"CI95%\": [(nan, nan)],\n",
    "                \"cohen-d\": [nan],\n",
    "            })\n",
    "        p_val = stats[\"p-val\"].iloc[0] * correction_n\n",
    "        cohen_d = stats[\"cohen-d\"].iloc[0]\n",
    "        significant = p_val < 0.05 and values.mean() > values_original.mean()\n",
    "        if significant:        \n",
    "            print(f\"{measure_name} @ {target_f1:.2f}:\", significant, f\"{p_val:.2f}\", f\"{cohen_d:.1f}\")\n",
    "            break\n",
    "    "
   ],
   "metadata": {
    "collapsed": false,
    "ExecuteTime": {
     "end_time": "2023-09-03T07:13:28.118711285Z",
     "start_time": "2023-09-03T07:13:28.023896352Z"
    }
   }
  },
  {
   "cell_type": "code",
   "execution_count": 168,
   "outputs": [
    {
     "name": "stdout",
     "output_type": "stream",
     "text": [
      "nDCG@5 rel. @ 0.20: 0 26 0.00\n",
      "nDCG@5 rel. @ 0.25: 0 26 0.00\n",
      "nDCG@5 rel. @ 0.30: 0 26 0.00\n",
      "nDCG@5 rel. @ 0.35: 0 26 0.00\n",
      "nDCG@5 rel. @ 0.40: 0 26 0.00\n",
      "nDCG@5 rel. @ 0.45: 0 26 0.00\n",
      "nDCG@5 rel. @ 0.50: 2 26 0.08\n",
      "nDCG@5 rel. @ 0.55: 2 26 0.08\n",
      "nDCG@5 rel. @ 0.60: 7 26 0.27\n",
      "nDCG@5 rel. @ 0.65: 10 26 0.38\n",
      "nDCG@5 rel. @ 0.70: 10 26 0.38\n",
      "nDCG@5 rel. @ 0.75: 12 26 0.46\n",
      "nDCG@5 rel. @ 0.80: 16 26 0.62\n",
      "nDCG@5 rel. @ 0.85: 21 26 0.81\n",
      "nDCG@5 rel. @ 0.90: 24 26 0.92\n",
      "nDCG@5 rel. @ 0.95: 26 26 1.00\n",
      "nDCG@5 rel. @ 1.00: 26 26 1.00\n",
      "nDCG@5 qual. @ 0.20: 0 26 0.00\n",
      "nDCG@5 qual. @ 0.25: 0 26 0.00\n",
      "nDCG@5 qual. @ 0.30: 1 26 0.04\n",
      "nDCG@5 qual. @ 0.35: 0 26 0.00\n",
      "nDCG@5 qual. @ 0.40: 0 26 0.00\n",
      "nDCG@5 qual. @ 0.45: 1 26 0.04\n",
      "nDCG@5 qual. @ 0.50: 0 26 0.00\n",
      "nDCG@5 qual. @ 0.55: 1 26 0.04\n",
      "nDCG@5 qual. @ 0.60: 5 26 0.19\n",
      "nDCG@5 qual. @ 0.65: 5 26 0.19\n",
      "nDCG@5 qual. @ 0.70: 5 26 0.19\n",
      "nDCG@5 qual. @ 0.75: 10 26 0.38\n",
      "nDCG@5 qual. @ 0.80: 10 26 0.38\n",
      "nDCG@5 qual. @ 0.85: 14 26 0.54\n",
      "nDCG@5 qual. @ 0.90: 21 26 0.81\n",
      "nDCG@5 qual. @ 0.95: 23 26 0.88\n",
      "nDCG@5 qual. @ 1.00: 25 26 0.96\n"
     ]
    }
   ],
   "source": [
    "for measure_name, df_measure in df_tmp.groupby(\"measure\", sort=False):\n",
    "    measure = measures[measures[\"name\"] == measure_name].iloc[0]\n",
    "    df_measure = df_measure[df_measure[\"target_f1\"].notna()]\n",
    "    for target_f1, df_target_f1 in df_measure.groupby(\"target_f1\", sort=True):\n",
    "        num_improved = 0\n",
    "        num_significant = 0\n",
    "        num_runs = df_target_f1[\"run\"].nunique()\n",
    "        for run, df_run in df_target_f1.groupby(\"run\", sort=False):\n",
    "            values = df_run[\"value\"]\n",
    "            values_original = df_run[\"value_original\"]\n",
    "            improved = values.mean() > values_original.mean() if measure[\"maximize\"] else values.mean() < values_original.mean()\n",
    "            if improved:\n",
    "                num_improved += 1\n",
    "    \n",
    "            if not array_equal(values_original, values):\n",
    "                stats = ttest(values_original, values, paired=True)\n",
    "            else:\n",
    "                stats = DataFrame({\n",
    "                    \"p-val\": [nan],\n",
    "                    \"CI95%\": [(nan, nan)],\n",
    "                    \"cohen-d\": [nan],\n",
    "                })\n",
    "            p_val = stats[\"p-val\"].iloc[0] * correction_n\n",
    "            cohen_d = stats[\"cohen-d\"].iloc[0]\n",
    "            significant = p_val < 0.05 and improved\n",
    "            if significant:\n",
    "                num_significant += 1\n",
    "        print(f\"{measure_name} @ {target_f1:.2f}:\", \n",
    "              # num_improved, num_runs, f\"{num_improved/num_runs:.2f}\", \n",
    "              num_significant, num_runs, f\"{num_significant/num_runs:.2f}\")\n",
    "    "
   ],
   "metadata": {
    "collapsed": false,
    "ExecuteTime": {
     "end_time": "2023-09-04T08:34:57.500866068Z",
     "start_time": "2023-09-04T08:34:55.545544332Z"
    }
   }
  }
 ],
 "metadata": {
  "kernelspec": {
   "display_name": "Python 3 (ipykernel)",
   "language": "python",
   "name": "python3"
  },
  "language_info": {
   "codemirror_mode": {
    "name": "ipython",
    "version": 3
   },
   "file_extension": ".py",
   "mimetype": "text/x-python",
   "name": "python",
   "nbconvert_exporter": "python",
   "pygments_lexer": "ipython3",
   "version": "3.10.10"
  }
 },
 "nbformat": 4,
 "nbformat_minor": 4
}
